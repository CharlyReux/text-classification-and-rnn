{
  "cells": [
    {
      "cell_type": "markdown",
      "metadata": {
        "id": "0zYcd2yjhrlP"
      },
      "source": [
        "# Exercice 3\n",
        "https://foad.univ-rennes1.fr/pluginfile.php/1813065/mod_resource/content/1/TP_34.pdf\n",
        "\n"
      ]
    },
    {
      "cell_type": "markdown",
      "metadata": {
        "id": "6nuMcQu1h3Q6"
      },
      "source": [
        "## imports"
      ]
    },
    {
      "cell_type": "code",
      "execution_count": null,
      "metadata": {
        "colab": {
          "base_uri": "https://localhost:8080/"
        },
        "id": "q7YWJxzofqo9",
        "outputId": "7faf84de-37f2-4cf7-e499-f2d261960865"
      },
      "outputs": [
        {
          "name": "stdout",
          "output_type": "stream",
          "text": [
            "NLTK Downloader\n",
            "---------------------------------------------------------------------------\n",
            "    d) Download   l) List    u) Update   c) Config   h) Help   q) Quit\n",
            "---------------------------------------------------------------------------\n",
            "Downloader> d\n",
            "\n",
            "Download which package (l=list; x=cancel)?\n",
            "  Identifier> stopwords\n",
            "    Downloading package stopwords to /root/nltk_data...\n",
            "      Unzipping corpora/stopwords.zip.\n",
            "\n",
            "---------------------------------------------------------------------------\n",
            "    d) Download   l) List    u) Update   c) Config   h) Help   q) Quit\n",
            "---------------------------------------------------------------------------\n",
            "Downloader> q\n"
          ]
        },
        {
          "data": {
            "text/plain": [
              "True"
            ]
          },
          "execution_count": 1,
          "metadata": {},
          "output_type": "execute_result"
        }
      ],
      "source": [
        "import pandas as pd    # to load dataset\n",
        "import numpy as np     # for mathematic equation\n",
        "from nltk.corpus import stopwords   # to get collection of stopwords\n",
        "from sklearn.model_selection import train_test_split       # for splitting dataset\n",
        "from tensorflow.keras.preprocessing.text import Tokenizer  # to encode text to int\n",
        "from tensorflow.keras.preprocessing.sequence import pad_sequences   # to do padding or truncating\n",
        "from tensorflow.keras.models import Sequential     # the model\n",
        "from tensorflow.keras.layers import Embedding, LSTM, Dense, Dropout, Flatten# layers of the architecture\n",
        "from tensorflow.keras.callbacks import ModelCheckpoint, EarlyStopping   # save model\n",
        "from tensorflow.keras.models import load_model   # load saved model\n",
        "from tensorflow import keras\n",
        "import numpy as np\n",
        "import matplotlib.pyplot as plt\n",
        "import re\n",
        "import nltk\n",
        "nltk.download()\n"
      ]
    },
    {
      "cell_type": "markdown",
      "metadata": {
        "id": "v5p63tlBid5M"
      },
      "source": [
        "## Loading the dataset"
      ]
    },
    {
      "cell_type": "markdown",
      "metadata": {
        "id": "yL6EgmQviozi"
      },
      "source": [
        "Preview dataset"
      ]
    },
    {
      "cell_type": "code",
      "execution_count": null,
      "metadata": {
        "colab": {
          "base_uri": "https://localhost:8080/",
          "height": 345
        },
        "id": "IsuSXgavimys",
        "outputId": "6e1717d4-d893-49f1-d851-4245c5248518"
      },
      "outputs": [
        {
          "ename": "FileNotFoundError",
          "evalue": "ignored",
          "output_type": "error",
          "traceback": [
            "\u001b[0;31m---------------------------------------------------------------------------\u001b[0m",
            "\u001b[0;31mFileNotFoundError\u001b[0m                         Traceback (most recent call last)",
            "\u001b[0;32m<ipython-input-2-7f9c46433ece>\u001b[0m in \u001b[0;36m<module>\u001b[0;34m()\u001b[0m\n\u001b[0;32m----> 1\u001b[0;31m \u001b[0mdata\u001b[0m \u001b[0;34m=\u001b[0m \u001b[0mpd\u001b[0m\u001b[0;34m.\u001b[0m\u001b[0mread_csv\u001b[0m\u001b[0;34m(\u001b[0m\u001b[0;34m'/content/drive/MyDrive/TP_ESIR2/IA/IMDB Dataset.csv'\u001b[0m\u001b[0;34m)\u001b[0m\u001b[0;34m\u001b[0m\u001b[0;34m\u001b[0m\u001b[0m\n\u001b[0m\u001b[1;32m      2\u001b[0m \u001b[0;34m\u001b[0m\u001b[0m\n\u001b[1;32m      3\u001b[0m \u001b[0mprint\u001b[0m\u001b[0;34m(\u001b[0m\u001b[0mdata\u001b[0m\u001b[0;34m)\u001b[0m\u001b[0;34m\u001b[0m\u001b[0;34m\u001b[0m\u001b[0m\n",
            "\u001b[0;32m/usr/local/lib/python3.7/dist-packages/pandas/util/_decorators.py\u001b[0m in \u001b[0;36mwrapper\u001b[0;34m(*args, **kwargs)\u001b[0m\n\u001b[1;32m    309\u001b[0m                     \u001b[0mstacklevel\u001b[0m\u001b[0;34m=\u001b[0m\u001b[0mstacklevel\u001b[0m\u001b[0;34m,\u001b[0m\u001b[0;34m\u001b[0m\u001b[0;34m\u001b[0m\u001b[0m\n\u001b[1;32m    310\u001b[0m                 )\n\u001b[0;32m--> 311\u001b[0;31m             \u001b[0;32mreturn\u001b[0m \u001b[0mfunc\u001b[0m\u001b[0;34m(\u001b[0m\u001b[0;34m*\u001b[0m\u001b[0margs\u001b[0m\u001b[0;34m,\u001b[0m \u001b[0;34m**\u001b[0m\u001b[0mkwargs\u001b[0m\u001b[0;34m)\u001b[0m\u001b[0;34m\u001b[0m\u001b[0;34m\u001b[0m\u001b[0m\n\u001b[0m\u001b[1;32m    312\u001b[0m \u001b[0;34m\u001b[0m\u001b[0m\n\u001b[1;32m    313\u001b[0m         \u001b[0;32mreturn\u001b[0m \u001b[0mwrapper\u001b[0m\u001b[0;34m\u001b[0m\u001b[0;34m\u001b[0m\u001b[0m\n",
            "\u001b[0;32m/usr/local/lib/python3.7/dist-packages/pandas/io/parsers/readers.py\u001b[0m in \u001b[0;36mread_csv\u001b[0;34m(filepath_or_buffer, sep, delimiter, header, names, index_col, usecols, squeeze, prefix, mangle_dupe_cols, dtype, engine, converters, true_values, false_values, skipinitialspace, skiprows, skipfooter, nrows, na_values, keep_default_na, na_filter, verbose, skip_blank_lines, parse_dates, infer_datetime_format, keep_date_col, date_parser, dayfirst, cache_dates, iterator, chunksize, compression, thousands, decimal, lineterminator, quotechar, quoting, doublequote, escapechar, comment, encoding, encoding_errors, dialect, error_bad_lines, warn_bad_lines, on_bad_lines, delim_whitespace, low_memory, memory_map, float_precision, storage_options)\u001b[0m\n\u001b[1;32m    584\u001b[0m     \u001b[0mkwds\u001b[0m\u001b[0;34m.\u001b[0m\u001b[0mupdate\u001b[0m\u001b[0;34m(\u001b[0m\u001b[0mkwds_defaults\u001b[0m\u001b[0;34m)\u001b[0m\u001b[0;34m\u001b[0m\u001b[0;34m\u001b[0m\u001b[0m\n\u001b[1;32m    585\u001b[0m \u001b[0;34m\u001b[0m\u001b[0m\n\u001b[0;32m--> 586\u001b[0;31m     \u001b[0;32mreturn\u001b[0m \u001b[0m_read\u001b[0m\u001b[0;34m(\u001b[0m\u001b[0mfilepath_or_buffer\u001b[0m\u001b[0;34m,\u001b[0m \u001b[0mkwds\u001b[0m\u001b[0;34m)\u001b[0m\u001b[0;34m\u001b[0m\u001b[0;34m\u001b[0m\u001b[0m\n\u001b[0m\u001b[1;32m    587\u001b[0m \u001b[0;34m\u001b[0m\u001b[0m\n\u001b[1;32m    588\u001b[0m \u001b[0;34m\u001b[0m\u001b[0m\n",
            "\u001b[0;32m/usr/local/lib/python3.7/dist-packages/pandas/io/parsers/readers.py\u001b[0m in \u001b[0;36m_read\u001b[0;34m(filepath_or_buffer, kwds)\u001b[0m\n\u001b[1;32m    480\u001b[0m \u001b[0;34m\u001b[0m\u001b[0m\n\u001b[1;32m    481\u001b[0m     \u001b[0;31m# Create the parser.\u001b[0m\u001b[0;34m\u001b[0m\u001b[0;34m\u001b[0m\u001b[0;34m\u001b[0m\u001b[0m\n\u001b[0;32m--> 482\u001b[0;31m     \u001b[0mparser\u001b[0m \u001b[0;34m=\u001b[0m \u001b[0mTextFileReader\u001b[0m\u001b[0;34m(\u001b[0m\u001b[0mfilepath_or_buffer\u001b[0m\u001b[0;34m,\u001b[0m \u001b[0;34m**\u001b[0m\u001b[0mkwds\u001b[0m\u001b[0;34m)\u001b[0m\u001b[0;34m\u001b[0m\u001b[0;34m\u001b[0m\u001b[0m\n\u001b[0m\u001b[1;32m    483\u001b[0m \u001b[0;34m\u001b[0m\u001b[0m\n\u001b[1;32m    484\u001b[0m     \u001b[0;32mif\u001b[0m \u001b[0mchunksize\u001b[0m \u001b[0;32mor\u001b[0m \u001b[0miterator\u001b[0m\u001b[0;34m:\u001b[0m\u001b[0;34m\u001b[0m\u001b[0;34m\u001b[0m\u001b[0m\n",
            "\u001b[0;32m/usr/local/lib/python3.7/dist-packages/pandas/io/parsers/readers.py\u001b[0m in \u001b[0;36m__init__\u001b[0;34m(self, f, engine, **kwds)\u001b[0m\n\u001b[1;32m    809\u001b[0m             \u001b[0mself\u001b[0m\u001b[0;34m.\u001b[0m\u001b[0moptions\u001b[0m\u001b[0;34m[\u001b[0m\u001b[0;34m\"has_index_names\"\u001b[0m\u001b[0;34m]\u001b[0m \u001b[0;34m=\u001b[0m \u001b[0mkwds\u001b[0m\u001b[0;34m[\u001b[0m\u001b[0;34m\"has_index_names\"\u001b[0m\u001b[0;34m]\u001b[0m\u001b[0;34m\u001b[0m\u001b[0;34m\u001b[0m\u001b[0m\n\u001b[1;32m    810\u001b[0m \u001b[0;34m\u001b[0m\u001b[0m\n\u001b[0;32m--> 811\u001b[0;31m         \u001b[0mself\u001b[0m\u001b[0;34m.\u001b[0m\u001b[0m_engine\u001b[0m \u001b[0;34m=\u001b[0m \u001b[0mself\u001b[0m\u001b[0;34m.\u001b[0m\u001b[0m_make_engine\u001b[0m\u001b[0;34m(\u001b[0m\u001b[0mself\u001b[0m\u001b[0;34m.\u001b[0m\u001b[0mengine\u001b[0m\u001b[0;34m)\u001b[0m\u001b[0;34m\u001b[0m\u001b[0;34m\u001b[0m\u001b[0m\n\u001b[0m\u001b[1;32m    812\u001b[0m \u001b[0;34m\u001b[0m\u001b[0m\n\u001b[1;32m    813\u001b[0m     \u001b[0;32mdef\u001b[0m \u001b[0mclose\u001b[0m\u001b[0;34m(\u001b[0m\u001b[0mself\u001b[0m\u001b[0;34m)\u001b[0m\u001b[0;34m:\u001b[0m\u001b[0;34m\u001b[0m\u001b[0;34m\u001b[0m\u001b[0m\n",
            "\u001b[0;32m/usr/local/lib/python3.7/dist-packages/pandas/io/parsers/readers.py\u001b[0m in \u001b[0;36m_make_engine\u001b[0;34m(self, engine)\u001b[0m\n\u001b[1;32m   1038\u001b[0m             )\n\u001b[1;32m   1039\u001b[0m         \u001b[0;31m# error: Too many arguments for \"ParserBase\"\u001b[0m\u001b[0;34m\u001b[0m\u001b[0;34m\u001b[0m\u001b[0;34m\u001b[0m\u001b[0m\n\u001b[0;32m-> 1040\u001b[0;31m         \u001b[0;32mreturn\u001b[0m \u001b[0mmapping\u001b[0m\u001b[0;34m[\u001b[0m\u001b[0mengine\u001b[0m\u001b[0;34m]\u001b[0m\u001b[0;34m(\u001b[0m\u001b[0mself\u001b[0m\u001b[0;34m.\u001b[0m\u001b[0mf\u001b[0m\u001b[0;34m,\u001b[0m \u001b[0;34m**\u001b[0m\u001b[0mself\u001b[0m\u001b[0;34m.\u001b[0m\u001b[0moptions\u001b[0m\u001b[0;34m)\u001b[0m  \u001b[0;31m# type: ignore[call-arg]\u001b[0m\u001b[0;34m\u001b[0m\u001b[0;34m\u001b[0m\u001b[0m\n\u001b[0m\u001b[1;32m   1041\u001b[0m \u001b[0;34m\u001b[0m\u001b[0m\n\u001b[1;32m   1042\u001b[0m     \u001b[0;32mdef\u001b[0m \u001b[0m_failover_to_python\u001b[0m\u001b[0;34m(\u001b[0m\u001b[0mself\u001b[0m\u001b[0;34m)\u001b[0m\u001b[0;34m:\u001b[0m\u001b[0;34m\u001b[0m\u001b[0;34m\u001b[0m\u001b[0m\n",
            "\u001b[0;32m/usr/local/lib/python3.7/dist-packages/pandas/io/parsers/c_parser_wrapper.py\u001b[0m in \u001b[0;36m__init__\u001b[0;34m(self, src, **kwds)\u001b[0m\n\u001b[1;32m     49\u001b[0m \u001b[0;34m\u001b[0m\u001b[0m\n\u001b[1;32m     50\u001b[0m         \u001b[0;31m# open handles\u001b[0m\u001b[0;34m\u001b[0m\u001b[0;34m\u001b[0m\u001b[0;34m\u001b[0m\u001b[0m\n\u001b[0;32m---> 51\u001b[0;31m         \u001b[0mself\u001b[0m\u001b[0;34m.\u001b[0m\u001b[0m_open_handles\u001b[0m\u001b[0;34m(\u001b[0m\u001b[0msrc\u001b[0m\u001b[0;34m,\u001b[0m \u001b[0mkwds\u001b[0m\u001b[0;34m)\u001b[0m\u001b[0;34m\u001b[0m\u001b[0;34m\u001b[0m\u001b[0m\n\u001b[0m\u001b[1;32m     52\u001b[0m         \u001b[0;32massert\u001b[0m \u001b[0mself\u001b[0m\u001b[0;34m.\u001b[0m\u001b[0mhandles\u001b[0m \u001b[0;32mis\u001b[0m \u001b[0;32mnot\u001b[0m \u001b[0;32mNone\u001b[0m\u001b[0;34m\u001b[0m\u001b[0;34m\u001b[0m\u001b[0m\n\u001b[1;32m     53\u001b[0m \u001b[0;34m\u001b[0m\u001b[0m\n",
            "\u001b[0;32m/usr/local/lib/python3.7/dist-packages/pandas/io/parsers/base_parser.py\u001b[0m in \u001b[0;36m_open_handles\u001b[0;34m(self, src, kwds)\u001b[0m\n\u001b[1;32m    227\u001b[0m             \u001b[0mmemory_map\u001b[0m\u001b[0;34m=\u001b[0m\u001b[0mkwds\u001b[0m\u001b[0;34m.\u001b[0m\u001b[0mget\u001b[0m\u001b[0;34m(\u001b[0m\u001b[0;34m\"memory_map\"\u001b[0m\u001b[0;34m,\u001b[0m \u001b[0;32mFalse\u001b[0m\u001b[0;34m)\u001b[0m\u001b[0;34m,\u001b[0m\u001b[0;34m\u001b[0m\u001b[0;34m\u001b[0m\u001b[0m\n\u001b[1;32m    228\u001b[0m             \u001b[0mstorage_options\u001b[0m\u001b[0;34m=\u001b[0m\u001b[0mkwds\u001b[0m\u001b[0;34m.\u001b[0m\u001b[0mget\u001b[0m\u001b[0;34m(\u001b[0m\u001b[0;34m\"storage_options\"\u001b[0m\u001b[0;34m,\u001b[0m \u001b[0;32mNone\u001b[0m\u001b[0;34m)\u001b[0m\u001b[0;34m,\u001b[0m\u001b[0;34m\u001b[0m\u001b[0;34m\u001b[0m\u001b[0m\n\u001b[0;32m--> 229\u001b[0;31m             \u001b[0merrors\u001b[0m\u001b[0;34m=\u001b[0m\u001b[0mkwds\u001b[0m\u001b[0;34m.\u001b[0m\u001b[0mget\u001b[0m\u001b[0;34m(\u001b[0m\u001b[0;34m\"encoding_errors\"\u001b[0m\u001b[0;34m,\u001b[0m \u001b[0;34m\"strict\"\u001b[0m\u001b[0;34m)\u001b[0m\u001b[0;34m,\u001b[0m\u001b[0;34m\u001b[0m\u001b[0;34m\u001b[0m\u001b[0m\n\u001b[0m\u001b[1;32m    230\u001b[0m         )\n\u001b[1;32m    231\u001b[0m \u001b[0;34m\u001b[0m\u001b[0m\n",
            "\u001b[0;32m/usr/local/lib/python3.7/dist-packages/pandas/io/common.py\u001b[0m in \u001b[0;36mget_handle\u001b[0;34m(path_or_buf, mode, encoding, compression, memory_map, is_text, errors, storage_options)\u001b[0m\n\u001b[1;32m    705\u001b[0m                 \u001b[0mencoding\u001b[0m\u001b[0;34m=\u001b[0m\u001b[0mioargs\u001b[0m\u001b[0;34m.\u001b[0m\u001b[0mencoding\u001b[0m\u001b[0;34m,\u001b[0m\u001b[0;34m\u001b[0m\u001b[0;34m\u001b[0m\u001b[0m\n\u001b[1;32m    706\u001b[0m                 \u001b[0merrors\u001b[0m\u001b[0;34m=\u001b[0m\u001b[0merrors\u001b[0m\u001b[0;34m,\u001b[0m\u001b[0;34m\u001b[0m\u001b[0;34m\u001b[0m\u001b[0m\n\u001b[0;32m--> 707\u001b[0;31m                 \u001b[0mnewline\u001b[0m\u001b[0;34m=\u001b[0m\u001b[0;34m\"\"\u001b[0m\u001b[0;34m,\u001b[0m\u001b[0;34m\u001b[0m\u001b[0;34m\u001b[0m\u001b[0m\n\u001b[0m\u001b[1;32m    708\u001b[0m             )\n\u001b[1;32m    709\u001b[0m         \u001b[0;32melse\u001b[0m\u001b[0;34m:\u001b[0m\u001b[0;34m\u001b[0m\u001b[0;34m\u001b[0m\u001b[0m\n",
            "\u001b[0;31mFileNotFoundError\u001b[0m: [Errno 2] No such file or directory: '/content/drive/MyDrive/TP_ESIR2/IA/IMDB Dataset.csv'"
          ]
        }
      ],
      "source": [
        "data = pd.read_csv('/content/drive/MyDrive/TP_ESIR2/IA/IMDB Dataset.csv')\n",
        "\n",
        "print(data)"
      ]
    },
    {
      "cell_type": "markdown",
      "metadata": {
        "id": "7qWeZH4slZ6Y"
      },
      "source": [
        "Declaration of the stop word"
      ]
    },
    {
      "cell_type": "code",
      "execution_count": null,
      "metadata": {
        "id": "R1hNfEs8lZU5"
      },
      "outputs": [],
      "source": [
        "english_stops = set(stopwords.words('english'))\n"
      ]
    },
    {
      "cell_type": "markdown",
      "metadata": {
        "id": "7Ruudou5lGE1"
      },
      "source": [
        "## Clean Dataset"
      ]
    },
    {
      "cell_type": "markdown",
      "metadata": {
        "id": "h8OOL5_FpUS0"
      },
      "source": [
        "Our first function retreives the dataset and removes the unwanted data from the texts such as the html tags, the non alphabet and the stopwords. Then is replaces the output by 0 or 1."
      ]
    },
    {
      "cell_type": "code",
      "execution_count": null,
      "metadata": {
        "colab": {
          "base_uri": "https://localhost:8080/"
        },
        "id": "jxEjwoXQlJUD",
        "outputId": "58f08e8c-bcc3-42f3-a007-8b4ebdb13b76"
      },
      "outputs": [
        {
          "name": "stdout",
          "output_type": "stream",
          "text": [
            "Reviews\n",
            "0        [one, reviewers, mentioned, watching, oz, epis...\n",
            "1        [a, wonderful, little, production, the, filmin...\n",
            "2        [i, thought, wonderful, way, spend, time, hot,...\n",
            "3        [basically, family, little, boy, jake, thinks,...\n",
            "4        [petter, mattei, love, time, money, visually, ...\n",
            "                               ...                        \n",
            "49995    [i, thought, movie, right, good, job, it, crea...\n",
            "49996    [bad, plot, bad, dialogue, bad, acting, idioti...\n",
            "49997    [i, catholic, taught, parochial, elementary, s...\n",
            "49998    [i, going, disagree, previous, comment, side, ...\n",
            "49999    [no, one, expects, star, trek, movies, high, a...\n",
            "Name: review, Length: 50000, dtype: object \n",
            "\n",
            "Sentiment\n",
            "0        1\n",
            "1        1\n",
            "2        1\n",
            "3        0\n",
            "4        1\n",
            "        ..\n",
            "49995    1\n",
            "49996    0\n",
            "49997    0\n",
            "49998    0\n",
            "49999    0\n",
            "Name: sentiment, Length: 50000, dtype: int64\n"
          ]
        }
      ],
      "source": [
        "def load_dataset():\n",
        "    df = pd.read_csv('/content/drive/MyDrive/TP_ESIR2/IA/IMDB Dataset.csv')\n",
        "    x_data = df['review']       # Reviews/Input\n",
        "    y_data = df['sentiment']    # Sentiment/Output\n",
        "\n",
        "    # PRE-PROCESS REVIEW\n",
        "    x_data = x_data.replace({'<.*?>': ''}, regex = True)          # remove html tag\n",
        "    x_data = x_data.replace({'[^A-Za-z]': ' '}, regex = True)     # remove non alphabet\n",
        "    x_data = x_data.apply(lambda review: [w for w in review.split() if w not in english_stops])  # remove stop words\n",
        "    x_data = x_data.apply(lambda review: [w.lower() for w in review])   # lower case\n",
        "    \n",
        "    # ENCODE SENTIMENT -> 0 & 1\n",
        "    y_data = y_data.replace('positive', 1)\n",
        "    y_data = y_data.replace('negative', 0)\n",
        "\n",
        "    return x_data, y_data\n",
        "\n",
        "x_data, y_data = load_dataset()\n",
        "\n",
        "print('Reviews')\n",
        "print(x_data, '\\n')\n",
        "print('Sentiment')\n",
        "print(y_data)"
      ]
    },
    {
      "cell_type": "markdown",
      "metadata": {
        "id": "AIyvzHbzpviz"
      },
      "source": [
        "### Splitting and shuffling dataset"
      ]
    },
    {
      "cell_type": "markdown",
      "metadata": {
        "id": "VRH_1_LupqZe"
      },
      "source": [
        "Here we split the dataset into 2 parts, the training set and the test set."
      ]
    },
    {
      "cell_type": "code",
      "execution_count": null,
      "metadata": {
        "colab": {
          "base_uri": "https://localhost:8080/"
        },
        "id": "RGM9blaPp2p-",
        "outputId": "18405d1c-294a-4259-f0fd-c92045984a75"
      },
      "outputs": [
        {
          "name": "stdout",
          "output_type": "stream",
          "text": [
            "Train Set\n",
            "42051    [my, partner, i, never, heard, movie, decided,...\n",
            "43782    [i, first, saw, movie, originally, came, i, yr...\n",
            "23111    [eh, i, watch, movie, class, someone, taped, b...\n",
            "42957    [as, native, bolton, film, obvious, appeal, th...\n",
            "5218     [really, dreadful, cheat, film, its, minute, r...\n",
            "                               ...                        \n",
            "42457    [what, ever, happened, one, innovative, brilli...\n",
            "26973    [in, aftermath, september, th, new, york, dram...\n",
            "11227    [what, executive, producer, movie, if, i, reme...\n",
            "4286     [this, depiction, forlorn, japanese, forces, p...\n",
            "24859    [just, moved, new, cottage, english, country, ...\n",
            "Name: review, Length: 40000, dtype: object \n",
            "\n",
            "42841    [given, acting, roles, played, casper, gutman,...\n",
            "21593    [a, great, addition, anyone, collection, monke...\n",
            "9258     [surprisingly, kieslowski, movie, disappointin...\n",
            "37103    [the, movie, opens, beautiful, landscape, shot...\n",
            "43344    [all, dogs, go, heaven, one, best, movies, i, ...\n",
            "                               ...                        \n",
            "11637    [dominion, tank, police, exercise, contradicti...\n",
            "46181    [having, watched, mother, who, got, christmas,...\n",
            "26846    [by, end, first, hour, jaw, nestled, comfortab...\n",
            "37165    [here, spoiler, at, end, movie, little, piece,...\n",
            "36780    [this, movie, far, worst, movie, ever, made, i...\n",
            "Name: review, Length: 10000, dtype: object \n",
            "\n",
            "Test Set\n",
            "42051    1\n",
            "43782    1\n",
            "23111    0\n",
            "42957    1\n",
            "5218     0\n",
            "        ..\n",
            "42457    0\n",
            "26973    0\n",
            "11227    0\n",
            "4286     1\n",
            "24859    1\n",
            "Name: sentiment, Length: 40000, dtype: int64 \n",
            "\n",
            "42841    1\n",
            "21593    1\n",
            "9258     0\n",
            "37103    0\n",
            "43344    1\n",
            "        ..\n",
            "11637    1\n",
            "46181    1\n",
            "26846    1\n",
            "37165    0\n",
            "36780    0\n",
            "Name: sentiment, Length: 10000, dtype: int64\n"
          ]
        }
      ],
      "source": [
        "x_train, x_test, y_train, y_test = train_test_split(x_data, y_data, test_size = 0.2)\n",
        "\n",
        "print('Train Set')\n",
        "print(x_train, '\\n')\n",
        "print(x_test, '\\n')\n",
        "print('Test Set')\n",
        "print(y_train, '\\n')\n",
        "print(y_test)"
      ]
    },
    {
      "cell_type": "markdown",
      "metadata": {
        "id": "kh14O3F4qRiA"
      },
      "source": [
        "Function calculating the max review length"
      ]
    },
    {
      "cell_type": "code",
      "execution_count": null,
      "metadata": {
        "id": "7tJBv4RvqRKK"
      },
      "outputs": [],
      "source": [
        "def get_max_length():\n",
        "    review_length = []\n",
        "    for review in x_train:\n",
        "        review_length.append(len(review))\n",
        "\n",
        "    return int(np.ceil(np.mean(review_length)))"
      ]
    },
    {
      "cell_type": "markdown",
      "metadata": {
        "id": "SP58DTZtqnoz"
      },
      "source": [
        "### Tokenize and Pad/Truncate Reviews"
      ]
    },
    {
      "cell_type": "markdown",
      "metadata": {
        "id": "XngKRimZqutx"
      },
      "source": [
        "Encoding each word into a index"
      ]
    },
    {
      "cell_type": "code",
      "execution_count": null,
      "metadata": {
        "colab": {
          "base_uri": "https://localhost:8080/"
        },
        "id": "KMtwTLVjqp2K",
        "outputId": "7eec9d12-efe8-487f-84b8-1b7386207b94"
      },
      "outputs": [
        {
          "name": "stdout",
          "output_type": "stream",
          "text": [
            "Encoded X Train\n",
            " [[  213  1899     1 ...     0     0     0]\n",
            " [    1    23   121 ...    74 11975  1775]\n",
            " [ 6139     1    33 ...     0     0     0]\n",
            " ...\n",
            " [  105  3522  1147 ...     0     0     0]\n",
            " [    8  2731 17938 ...     0     0     0]\n",
            " [  441  1535    81 ...     0     0     0]] \n",
            "\n",
            "Encoded X Test\n",
            " [[  262    41   502 ... 18114 41202  8131]\n",
            " [   39    22  1559 ...     0     0     0]\n",
            " [ 1165 10032     3 ...  1015   381    77]\n",
            " ...\n",
            " [  775    54    23 ...     0     0     0]\n",
            " [  810  1254   293 ...     0     0     0]\n",
            " [    8     3   132 ...     0     0     0]] \n",
            "\n",
            "Maximum review length:  130\n"
          ]
        }
      ],
      "source": [
        "# ENCODE REVIEW\n",
        "token = Tokenizer(lower=False)    # no need lower, because already lowered the data in load_data()\n",
        "token.fit_on_texts(x_train)\n",
        "x_train = token.texts_to_sequences(x_train)\n",
        "x_test = token.texts_to_sequences(x_test)\n",
        "\n",
        "max_length = get_max_length()\n",
        "\n",
        "x_train = pad_sequences(x_train, maxlen=max_length, padding='post', truncating='post')\n",
        "x_test = pad_sequences(x_test, maxlen=max_length, padding='post', truncating='post')\n",
        "\n",
        "total_words = len(token.word_index) + 1   # add 1 because of 0 padding\n",
        "\n",
        "print('Encoded X Train\\n', x_train, '\\n')\n",
        "print('Encoded X Test\\n', x_test, '\\n')\n",
        "print('Maximum review length: ', max_length)"
      ]
    },
    {
      "cell_type": "markdown",
      "metadata": {
        "id": "4GOHg2AArAUE"
      },
      "source": [
        "## Build Architecture/Model\n"
      ]
    },
    {
      "cell_type": "markdown",
      "metadata": {
        "id": "YGKvd1i2qF36"
      },
      "source": [
        "Our first model is a simple one with a embeding and a LSTM layer."
      ]
    },
    {
      "cell_type": "code",
      "execution_count": null,
      "metadata": {
        "colab": {
          "base_uri": "https://localhost:8080/"
        },
        "id": "uJqyFj82rDIN",
        "outputId": "8c5d70d0-1517-49e9-845e-5fc23b7b35fb"
      },
      "outputs": [
        {
          "name": "stdout",
          "output_type": "stream",
          "text": [
            "Model: \"sequential\"\n",
            "_________________________________________________________________\n",
            " Layer (type)                Output Shape              Param #   \n",
            "=================================================================\n",
            " embedding (Embedding)       (None, 130, 32)           2953280   \n",
            "                                                                 \n",
            " lstm (LSTM)                 (None, 64)                24832     \n",
            "                                                                 \n",
            " dense (Dense)               (None, 1)                 65        \n",
            "                                                                 \n",
            "=================================================================\n",
            "Total params: 2,978,177\n",
            "Trainable params: 2,978,177\n",
            "Non-trainable params: 0\n",
            "_________________________________________________________________\n",
            "None\n"
          ]
        }
      ],
      "source": [
        "# ARCHITECTURE\n",
        "EMBED_DIM = 32\n",
        "LSTM_OUT = 64\n",
        "\n",
        "model = Sequential()\n",
        "model.add(Embedding(total_words, EMBED_DIM, input_length = max_length))\n",
        "model.add(LSTM(LSTM_OUT))\n",
        "model.add(Dense(1, activation='sigmoid'))\n",
        "model.compile(optimizer = 'adam', loss = 'binary_crossentropy', metrics = ['accuracy'])\n",
        "\n",
        "print(model.summary())"
      ]
    },
    {
      "cell_type": "markdown",
      "metadata": {
        "id": "ovJ3iSwbrIjl"
      },
      "source": [
        "## Training"
      ]
    },
    {
      "cell_type": "code",
      "execution_count": null,
      "metadata": {
        "id": "FB7JinUqrGvx"
      },
      "outputs": [],
      "source": [
        "checkpoint = ModelCheckpoint(\n",
        "    'models/LSTM.h5',\n",
        "    monitor='accuracy',\n",
        "    save_best_only=True,\n",
        "    verbose=1\n",
        ")"
      ]
    },
    {
      "cell_type": "code",
      "execution_count": null,
      "metadata": {
        "colab": {
          "base_uri": "https://localhost:8080/"
        },
        "id": "GeicDo6srVoK",
        "outputId": "8ce090ad-d0f6-4b93-d119-063f36161104"
      },
      "outputs": [
        {
          "name": "stdout",
          "output_type": "stream",
          "text": [
            "Epoch 1/5\n",
            "313/313 [==============================] - ETA: 0s - loss: 0.4574 - accuracy: 0.7548\n",
            "Epoch 1: accuracy improved from -inf to 0.75480, saving model to models/LSTM.h5\n",
            "313/313 [==============================] - 56s 170ms/step - loss: 0.4574 - accuracy: 0.7548 - val_loss: 0.2977 - val_accuracy: 0.8827\n",
            "Epoch 2/5\n",
            "313/313 [==============================] - ETA: 0s - loss: 0.2090 - accuracy: 0.9249\n",
            "Epoch 2: accuracy improved from 0.75480 to 0.92493, saving model to models/LSTM.h5\n",
            "313/313 [==============================] - 54s 174ms/step - loss: 0.2090 - accuracy: 0.9249 - val_loss: 0.2951 - val_accuracy: 0.8877\n",
            "Epoch 3/5\n",
            "313/313 [==============================] - ETA: 0s - loss: 0.1148 - accuracy: 0.9641\n",
            "Epoch 3: accuracy improved from 0.92493 to 0.96410, saving model to models/LSTM.h5\n",
            "313/313 [==============================] - 53s 169ms/step - loss: 0.1148 - accuracy: 0.9641 - val_loss: 0.3447 - val_accuracy: 0.8767\n",
            "Epoch 4/5\n",
            "313/313 [==============================] - ETA: 0s - loss: 0.0789 - accuracy: 0.9774\n",
            "Epoch 4: accuracy improved from 0.96410 to 0.97740, saving model to models/LSTM.h5\n",
            "313/313 [==============================] - 53s 170ms/step - loss: 0.0789 - accuracy: 0.9774 - val_loss: 0.4312 - val_accuracy: 0.8722\n",
            "Epoch 5/5\n",
            "313/313 [==============================] - ETA: 0s - loss: 0.0612 - accuracy: 0.9826\n",
            "Epoch 5: accuracy improved from 0.97740 to 0.98260, saving model to models/LSTM.h5\n",
            "313/313 [==============================] - 53s 168ms/step - loss: 0.0612 - accuracy: 0.9826 - val_loss: 0.4597 - val_accuracy: 0.8693\n"
          ]
        }
      ],
      "source": [
        "FirstHistory = model.fit(x_train, y_train, batch_size = 128, epochs = 5, callbacks=[checkpoint],validation_data=(x_test, y_test))"
      ]
    },
    {
      "cell_type": "markdown",
      "metadata": {
        "id": "W2vsp_x2rZWF"
      },
      "source": [
        "## Testing"
      ]
    },
    {
      "cell_type": "markdown",
      "metadata": {
        "id": "k4CatqaCuEzs"
      },
      "source": [
        "The first line had to be modified because it was depreciated in this version of tensorflow."
      ]
    },
    {
      "cell_type": "code",
      "execution_count": null,
      "metadata": {
        "colab": {
          "base_uri": "https://localhost:8080/"
        },
        "id": "BydFEf9ZrWa6",
        "outputId": "a6dd6dba-eeb8-443f-868b-cb159886c2ce"
      },
      "outputs": [
        {
          "name": "stdout",
          "output_type": "stream",
          "text": [
            "Correct Prediction: 8693\n",
            "Wrong Prediction: 1307\n",
            "Accuracy: 86.92999999999999\n"
          ]
        }
      ],
      "source": [
        "#y_pred = model.predict_classes(x_test, batch_size = 128)\n",
        "y_pred = (model.predict(x_test) > 0.5).astype(\"int32\")\n",
        "\n",
        "true = 0\n",
        "for i, y in enumerate(y_test):\n",
        "    if y == y_pred[i]:\n",
        "        true += 1\n",
        "\n",
        "print('Correct Prediction: {}'.format(true))\n",
        "print('Wrong Prediction: {}'.format(len(y_pred) - true))\n",
        "print('Accuracy: {}'.format(true/len(y_pred)*100))"
      ]
    },
    {
      "cell_type": "code",
      "execution_count": null,
      "metadata": {
        "colab": {
          "base_uri": "https://localhost:8080/"
        },
        "id": "tsrO2iGEuAC3",
        "outputId": "de095cef-0b67-46e0-c830-e7eedcd757f9"
      },
      "outputs": [
        {
          "name": "stdout",
          "output_type": "stream",
          "text": [
            "1250/1250 [==============================] - 20s 16ms/step - loss: 0.0354 - accuracy: 0.9909\n"
          ]
        }
      ],
      "source": [
        "loss,accuracy = model.evaluate(x_train,y_train)"
      ]
    },
    {
      "cell_type": "code",
      "execution_count": null,
      "metadata": {
        "colab": {
          "base_uri": "https://localhost:8080/"
        },
        "id": "ZPto9oU2wCwt",
        "outputId": "07037aec-d1e6-42b7-fd39-7392f065a0a2"
      },
      "outputs": [
        {
          "name": "stdout",
          "output_type": "stream",
          "text": [
            "313/313 [==============================] - 5s 16ms/step - loss: 0.4597 - accuracy: 0.8693\n"
          ]
        }
      ],
      "source": [
        "loss,accuracy = model.evaluate(x_test,y_test)"
      ]
    },
    {
      "cell_type": "markdown",
      "metadata": {
        "id": "xoId3f88wXZI"
      },
      "source": [
        "The model is highly overfitted so we decided to add dropout layers"
      ]
    },
    {
      "cell_type": "markdown",
      "metadata": {
        "id": "c5avGdjfwWXS"
      },
      "source": [
        "## Adding Dropout"
      ]
    },
    {
      "cell_type": "code",
      "execution_count": null,
      "metadata": {
        "colab": {
          "base_uri": "https://localhost:8080/"
        },
        "id": "PZ2Exy3wwILy",
        "outputId": "5fb95bab-8a3a-4724-f82f-cd5bce369299"
      },
      "outputs": [
        {
          "name": "stdout",
          "output_type": "stream",
          "text": [
            "Model: \"sequential_1\"\n",
            "_________________________________________________________________\n",
            " Layer (type)                Output Shape              Param #   \n",
            "=================================================================\n",
            " embedding_1 (Embedding)     (None, 130, 32)           2953280   \n",
            "                                                                 \n",
            " dropout (Dropout)           (None, 130, 32)           0         \n",
            "                                                                 \n",
            " lstm_1 (LSTM)               (None, 64)                24832     \n",
            "                                                                 \n",
            " dropout_1 (Dropout)         (None, 64)                0         \n",
            "                                                                 \n",
            " dense_1 (Dense)             (None, 1)                 65        \n",
            "                                                                 \n",
            "=================================================================\n",
            "Total params: 2,978,177\n",
            "Trainable params: 2,978,177\n",
            "Non-trainable params: 0\n",
            "_________________________________________________________________\n",
            "None\n"
          ]
        }
      ],
      "source": [
        "EMBED_DIM = 32\n",
        "LSTM_OUT = 64\n",
        "\n",
        "DrpModel = Sequential()\n",
        "DrpModel.add(Embedding(total_words, EMBED_DIM, input_length = max_length))\n",
        "DrpModel.add(Dropout(0.8))\n",
        "DrpModel.add(LSTM(LSTM_OUT))\n",
        "DrpModel.add(Dropout(0.8))\n",
        "DrpModel.add(Dense(1, activation='sigmoid'))\n",
        "DrpModel.compile(optimizer = 'adam', loss = 'binary_crossentropy', metrics = ['accuracy'])\n",
        "\n",
        "print(DrpModel.summary())"
      ]
    },
    {
      "cell_type": "code",
      "execution_count": null,
      "metadata": {
        "colab": {
          "base_uri": "https://localhost:8080/"
        },
        "id": "S45foxCexnPR",
        "outputId": "e0e6a8f4-cf2b-427b-ede1-2923a8a82294"
      },
      "outputs": [
        {
          "name": "stdout",
          "output_type": "stream",
          "text": [
            "Epoch 1/5\n",
            "313/313 [==============================] - 58s 178ms/step - loss: 0.6939 - accuracy: 0.5029 - val_loss: 0.6921 - val_accuracy: 0.5459\n",
            "Epoch 2/5\n",
            "313/313 [==============================] - 55s 176ms/step - loss: 0.5547 - accuracy: 0.7266 - val_loss: 0.3269 - val_accuracy: 0.8652\n",
            "Epoch 3/5\n",
            "313/313 [==============================] - 55s 175ms/step - loss: 0.3483 - accuracy: 0.8727 - val_loss: 0.2930 - val_accuracy: 0.8792\n",
            "Epoch 4/5\n",
            "313/313 [==============================] - 55s 175ms/step - loss: 0.2625 - accuracy: 0.9060 - val_loss: 0.2891 - val_accuracy: 0.8878\n",
            "Epoch 5/5\n",
            "313/313 [==============================] - 55s 175ms/step - loss: 0.2134 - accuracy: 0.9247 - val_loss: 0.2892 - val_accuracy: 0.8911\n"
          ]
        }
      ],
      "source": [
        "DropHistory = DrpModel.fit(x_train, y_train, batch_size = 128, epochs = 5,validation_data=(x_test, y_test))"
      ]
    },
    {
      "cell_type": "code",
      "execution_count": null,
      "metadata": {
        "colab": {
          "base_uri": "https://localhost:8080/"
        },
        "id": "Dhf6tOfuxqwD",
        "outputId": "eec5b339-4a15-47d7-8fe6-60069bdc4a10"
      },
      "outputs": [
        {
          "name": "stdout",
          "output_type": "stream",
          "text": [
            "1250/1250 [==============================] - 21s 16ms/step - loss: 0.1112 - accuracy: 0.9639\n"
          ]
        }
      ],
      "source": [
        "loss,accuracy = DrpModel.evaluate(x_train,y_train)"
      ]
    },
    {
      "cell_type": "code",
      "execution_count": null,
      "metadata": {
        "colab": {
          "base_uri": "https://localhost:8080/"
        },
        "id": "29qPiOrEyJHI",
        "outputId": "c174b408-72c5-44dd-b366-b4286769fbee"
      },
      "outputs": [
        {
          "name": "stdout",
          "output_type": "stream",
          "text": [
            "313/313 [==============================] - 5s 16ms/step - loss: 0.2892 - accuracy: 0.8911\n"
          ]
        }
      ],
      "source": [
        "loss,accuracy = DrpModel.evaluate(x_test,y_test)"
      ]
    },
    {
      "cell_type": "markdown",
      "metadata": {
        "id": "7AkBuzmD4yH1"
      },
      "source": [
        "We first tested with 0.2 of dropout which almost did not change the results, so we decided to switch to 0.5 which gave us the losses of 0.0434 for the training set and 0.3584 for the test set. <br>\n",
        "To get more noticeable results we tried with 0.8. We managed to reduce the test loss to 0.2709 but it was still higher than the train loss which was 0.1081<br>\n",
        "We deduced from this that the overfiting issue could not be solved only by adding dropout so we switched to network size modification.\n",
        "<hr>"
      ]
    },
    {
      "cell_type": "markdown",
      "metadata": {
        "id": "lqckRbWe5fs3"
      },
      "source": [
        "## Reducing the network size"
      ]
    },
    {
      "cell_type": "code",
      "execution_count": null,
      "metadata": {
        "colab": {
          "base_uri": "https://localhost:8080/"
        },
        "id": "4FxPZNXc5fs_",
        "outputId": "9c06b560-1af5-4d1f-9779-acb1225ca13b"
      },
      "outputs": [
        {
          "name": "stdout",
          "output_type": "stream",
          "text": [
            "Model: \"sequential_2\"\n",
            "_________________________________________________________________\n",
            " Layer (type)                Output Shape              Param #   \n",
            "=================================================================\n",
            " embedding_2 (Embedding)     (None, 130, 4)            369160    \n",
            "                                                                 \n",
            " lstm_2 (LSTM)               (None, 6)                 264       \n",
            "                                                                 \n",
            " dense_2 (Dense)             (None, 1)                 7         \n",
            "                                                                 \n",
            "=================================================================\n",
            "Total params: 369,431\n",
            "Trainable params: 369,431\n",
            "Non-trainable params: 0\n",
            "_________________________________________________________________\n",
            "None\n"
          ]
        }
      ],
      "source": [
        "EMBED_DIM = 4\n",
        "LSTM_OUT = 6\n",
        "\n",
        "SmalModel = Sequential()\n",
        "SmalModel.add(Embedding(total_words, EMBED_DIM, input_length = max_length))\n",
        "SmalModel.add(LSTM(LSTM_OUT))\n",
        "SmalModel.add(Dense(1, activation='sigmoid'))\n",
        "SmalModel.compile(optimizer = 'adam', loss = 'binary_crossentropy', metrics = ['accuracy'])\n",
        "\n",
        "print(SmalModel.summary())"
      ]
    },
    {
      "cell_type": "code",
      "execution_count": null,
      "metadata": {
        "colab": {
          "base_uri": "https://localhost:8080/"
        },
        "id": "Fma-t_bE5ftA",
        "outputId": "cb3ae021-03f3-48a5-b707-09837814048b"
      },
      "outputs": [
        {
          "name": "stdout",
          "output_type": "stream",
          "text": [
            "Epoch 1/5\n",
            "313/313 [==============================] - 18s 50ms/step - loss: 0.6710 - accuracy: 0.5594 - val_loss: 0.5437 - val_accuracy: 0.7925\n",
            "Epoch 2/5\n",
            "313/313 [==============================] - 15s 49ms/step - loss: 0.3553 - accuracy: 0.8645 - val_loss: 0.3161 - val_accuracy: 0.8745\n",
            "Epoch 3/5\n",
            "313/313 [==============================] - 15s 49ms/step - loss: 0.2151 - accuracy: 0.9275 - val_loss: 0.3140 - val_accuracy: 0.8790\n",
            "Epoch 4/5\n",
            "313/313 [==============================] - 15s 49ms/step - loss: 0.1498 - accuracy: 0.9556 - val_loss: 0.3347 - val_accuracy: 0.8777\n",
            "Epoch 5/5\n",
            "313/313 [==============================] - 15s 49ms/step - loss: 0.1085 - accuracy: 0.9708 - val_loss: 0.3473 - val_accuracy: 0.8774\n"
          ]
        }
      ],
      "source": [
        "SmalHistory =SmalModel.fit(x_train, y_train, batch_size = 128, epochs = 5,validation_data=(x_test, y_test))"
      ]
    },
    {
      "cell_type": "code",
      "execution_count": null,
      "metadata": {
        "colab": {
          "base_uri": "https://localhost:8080/"
        },
        "id": "dBZE2lJb5ftA",
        "outputId": "1aef1cad-c229-4137-a624-5558e6bf6a42"
      },
      "outputs": [
        {
          "name": "stdout",
          "output_type": "stream",
          "text": [
            "1250/1250 [==============================] - 10s 8ms/step - loss: 0.0775 - accuracy: 0.9830\n"
          ]
        }
      ],
      "source": [
        "loss,accuracy = SmalModel.evaluate(x_train,y_train)"
      ]
    },
    {
      "cell_type": "code",
      "execution_count": null,
      "metadata": {
        "colab": {
          "base_uri": "https://localhost:8080/"
        },
        "id": "edEMEY3S5ftA",
        "outputId": "92e92793-fd7a-40b4-b678-1469ebf68613"
      },
      "outputs": [
        {
          "name": "stdout",
          "output_type": "stream",
          "text": [
            "313/313 [==============================] - 2s 7ms/step - loss: 0.3473 - accuracy: 0.8774\n"
          ]
        }
      ],
      "source": [
        "loss,accuracy = SmalModel.evaluate(x_test,y_test)"
      ]
    },
    {
      "cell_type": "markdown",
      "metadata": {
        "id": "_ofPY-3v5ftA"
      },
      "source": [
        "We first reduced the numbers of node by two with \n",
        "```\n",
        "EMBED_DIM = 16\n",
        "LSTM_OUT = 32\n",
        "```\n",
        "but the result we got from this were still overfited with an loss of 0.06 for the train and 0.36 for the test, so we decided to divide it again by two.<br>\n",
        "But it was again overfited, with loss values of 0.045 and 0.49.<br>\n",
        "So, to be sure, we modified it again with these values:\n",
        "```\n",
        "EMBED_DIM = 4\n",
        "LSTM_OUT = 6\n",
        "```\n",
        "And the results were 0.085 and 0.41, again, overfited, we deduced that the problem was somewhere else.\n",
        "\n",
        "<hr>\n"
      ]
    },
    {
      "cell_type": "markdown",
      "metadata": {
        "id": "QXFwErsjvV9U"
      },
      "source": [
        "## Batch size modification"
      ]
    },
    {
      "cell_type": "markdown",
      "metadata": {
        "id": "hVRhoL9BvY4g"
      },
      "source": [
        "One of the few parameters that we did not try to modify was the batch size, so we decided to try to see what results we could get."
      ]
    },
    {
      "cell_type": "code",
      "execution_count": null,
      "metadata": {
        "colab": {
          "base_uri": "https://localhost:8080/"
        },
        "id": "ssyWq8zqwko7",
        "outputId": "ae3d9772-aa71-4a5d-adb2-33363c0c07d5"
      },
      "outputs": [
        {
          "name": "stdout",
          "output_type": "stream",
          "text": [
            "Model: \"sequential_3\"\n",
            "_________________________________________________________________\n",
            " Layer (type)                Output Shape              Param #   \n",
            "=================================================================\n",
            " embedding_3 (Embedding)     (None, 130, 32)           2953280   \n",
            "                                                                 \n",
            " lstm_3 (LSTM)               (None, 64)                24832     \n",
            "                                                                 \n",
            " dense_3 (Dense)             (None, 1)                 65        \n",
            "                                                                 \n",
            "=================================================================\n",
            "Total params: 2,978,177\n",
            "Trainable params: 2,978,177\n",
            "Non-trainable params: 0\n",
            "_________________________________________________________________\n",
            "None\n"
          ]
        }
      ],
      "source": [
        "# ARCHITECTURE\n",
        "EMBED_DIM = 32\n",
        "LSTM_OUT = 64\n",
        "\n",
        "BatchModel = Sequential()\n",
        "BatchModel.add(Embedding(total_words, EMBED_DIM, input_length = max_length))\n",
        "BatchModel.add(LSTM(LSTM_OUT))\n",
        "BatchModel.add(Dense(1, activation='sigmoid'))\n",
        "BatchModel.compile(optimizer = 'adam', loss = 'binary_crossentropy', metrics = ['accuracy'])\n",
        "\n",
        "print(BatchModel.summary())"
      ]
    },
    {
      "cell_type": "code",
      "execution_count": null,
      "metadata": {
        "colab": {
          "base_uri": "https://localhost:8080/"
        },
        "id": "KOs0l6Eewr99",
        "outputId": "e516ef81-5633-478f-de26-c5798a52add6"
      },
      "outputs": [
        {
          "name": "stdout",
          "output_type": "stream",
          "text": [
            "Epoch 1/5\n",
            "40/40 [==============================] - 39s 912ms/step - loss: 0.6929 - accuracy: 0.5125 - val_loss: 0.6920 - val_accuracy: 0.5272\n",
            "Epoch 2/5\n",
            "40/40 [==============================] - 36s 911ms/step - loss: 0.5380 - accuracy: 0.7335 - val_loss: 0.3735 - val_accuracy: 0.8531\n",
            "Epoch 3/5\n",
            "40/40 [==============================] - 35s 880ms/step - loss: 0.2523 - accuracy: 0.9071 - val_loss: 0.3052 - val_accuracy: 0.8815\n",
            "Epoch 4/5\n",
            "40/40 [==============================] - 36s 907ms/step - loss: 0.1444 - accuracy: 0.9530 - val_loss: 0.3550 - val_accuracy: 0.8718\n",
            "Epoch 5/5\n",
            "40/40 [==============================] - 36s 902ms/step - loss: 0.0933 - accuracy: 0.9739 - val_loss: 0.3626 - val_accuracy: 0.8761\n"
          ]
        }
      ],
      "source": [
        "BatchHistory =BatchModel.fit(x_train, y_train, batch_size = 1024, epochs = 5,validation_data=(x_test, y_test))"
      ]
    },
    {
      "cell_type": "code",
      "execution_count": null,
      "metadata": {
        "colab": {
          "base_uri": "https://localhost:8080/"
        },
        "id": "vkbkHKtHwtnk",
        "outputId": "47d5bd72-ce7b-42da-b227-bb454052fadc"
      },
      "outputs": [
        {
          "name": "stdout",
          "output_type": "stream",
          "text": [
            "1250/1250 [==============================] - 20s 16ms/step - loss: 0.0684 - accuracy: 0.9873\n"
          ]
        }
      ],
      "source": [
        "loss,accuracy = BatchModel.evaluate(x_train,y_train)"
      ]
    },
    {
      "cell_type": "code",
      "execution_count": null,
      "metadata": {
        "colab": {
          "base_uri": "https://localhost:8080/"
        },
        "id": "IJ7dZ0HowuxR",
        "outputId": "3d21c44f-4f9e-4e33-97e0-dd0fa852d506"
      },
      "outputs": [
        {
          "name": "stdout",
          "output_type": "stream",
          "text": [
            "313/313 [==============================] - 5s 16ms/step - loss: 0.3626 - accuracy: 0.8761\n"
          ]
        }
      ],
      "source": [
        "loss,accuracy = BatchModel.evaluate(x_test,y_test)"
      ]
    },
    {
      "cell_type": "markdown",
      "metadata": {
        "id": "SE4a8Xvlw2XH"
      },
      "source": [
        "We first tried with a batch size of 1024, the computation seemed to be slightly faster and we got these results:\n",
        "\n",
        "\n",
        "```\n",
        "train : loss: 0.0588 - accuracy: 0.9892\n",
        "test : loss: 0.3568 - accuracy: 0.8780\n",
        "```\n",
        "\n",
        "and they were also overfited, we quickly conluded that this wasn't going to be the solution."
      ]
    },
    {
      "cell_type": "markdown",
      "metadata": {
        "id": "72uIYV1KqYWB"
      },
      "source": [
        "## Weight regularization"
      ]
    },
    {
      "cell_type": "markdown",
      "metadata": {
        "id": "tJud1APgqd1q"
      },
      "source": [
        "After doing some researchs, we found that we could use what is called weight regularization, wich is used to reduce the entropy of the model by adding a cost to the loss function depending on how large the weights are.<br>\n",
        "We use L2 regularization where the cost added is proportional to the square of the value of the weigth coefficients."
      ]
    },
    {
      "cell_type": "code",
      "execution_count": null,
      "metadata": {
        "colab": {
          "base_uri": "https://localhost:8080/"
        },
        "id": "yucIV-t9qdNx",
        "outputId": "1610d25a-3083-40e5-cc0a-455447806e67"
      },
      "outputs": [
        {
          "name": "stdout",
          "output_type": "stream",
          "text": [
            "Model: \"sequential_4\"\n",
            "_________________________________________________________________\n",
            " Layer (type)                Output Shape              Param #   \n",
            "=================================================================\n",
            " embedding_4 (Embedding)     (None, 130, 32)           2953280   \n",
            "                                                                 \n",
            " lstm_4 (LSTM)               (None, 64)                24832     \n",
            "                                                                 \n",
            " dense_4 (Dense)             (None, 1)                 65        \n",
            "                                                                 \n",
            "=================================================================\n",
            "Total params: 2,978,177\n",
            "Trainable params: 2,978,177\n",
            "Non-trainable params: 0\n",
            "_________________________________________________________________\n",
            "None\n"
          ]
        }
      ],
      "source": [
        "# ARCHITECTURE\n",
        "EMBED_DIM = 32\n",
        "LSTM_OUT = 64\n",
        "\n",
        "RegModel = Sequential()\n",
        "RegModel.add(Embedding(total_words, EMBED_DIM, input_length = max_length))\n",
        "RegModel.add(LSTM(LSTM_OUT,kernel_regularizer=keras.regularizers.l2(0.0005)))\n",
        "RegModel.add(Dense(1, activation='sigmoid',kernel_regularizer=keras.regularizers.l2(0.0005)))\n",
        "RegModel.compile(optimizer = 'adam', loss = 'binary_crossentropy', metrics = ['accuracy'])\n",
        "\n",
        "print(RegModel.summary())"
      ]
    },
    {
      "cell_type": "code",
      "execution_count": null,
      "metadata": {
        "colab": {
          "base_uri": "https://localhost:8080/"
        },
        "id": "U0vU9LqyrrUm",
        "outputId": "4f1de676-5efa-46a6-ed94-c7c0ea362b8e"
      },
      "outputs": [
        {
          "name": "stdout",
          "output_type": "stream",
          "text": [
            "Epoch 1/5\n",
            "313/313 [==============================] - 56s 172ms/step - loss: 0.5546 - accuracy: 0.6971 - val_loss: 0.3607 - val_accuracy: 0.8573\n",
            "Epoch 2/5\n",
            "313/313 [==============================] - 53s 170ms/step - loss: 0.2479 - accuracy: 0.9101 - val_loss: 0.2939 - val_accuracy: 0.8826\n",
            "Epoch 3/5\n",
            "313/313 [==============================] - 53s 170ms/step - loss: 0.1535 - accuracy: 0.9535 - val_loss: 0.3021 - val_accuracy: 0.8800\n",
            "Epoch 4/5\n",
            "313/313 [==============================] - 53s 170ms/step - loss: 0.0941 - accuracy: 0.9750 - val_loss: 0.3619 - val_accuracy: 0.8726\n",
            "Epoch 5/5\n",
            "313/313 [==============================] - 53s 170ms/step - loss: 0.0698 - accuracy: 0.9844 - val_loss: 0.4340 - val_accuracy: 0.8735\n"
          ]
        }
      ],
      "source": [
        "RegHistory =RegModel.fit(x_train, y_train, batch_size = 128, epochs = 5,validation_data=(x_test, y_test))"
      ]
    },
    {
      "cell_type": "code",
      "execution_count": null,
      "metadata": {
        "colab": {
          "base_uri": "https://localhost:8080/"
        },
        "id": "hcrPxMCOruQF",
        "outputId": "7a8b41ff-af4e-4e40-f9e9-2ac957e653ef"
      },
      "outputs": [
        {
          "name": "stdout",
          "output_type": "stream",
          "text": [
            "1250/1250 [==============================] - 20s 16ms/step - loss: 0.0428 - accuracy: 0.9928\n"
          ]
        }
      ],
      "source": [
        "loss,accuracy = RegModel.evaluate(x_train,y_train)"
      ]
    },
    {
      "cell_type": "code",
      "execution_count": null,
      "metadata": {
        "colab": {
          "base_uri": "https://localhost:8080/"
        },
        "id": "0WEkfGNzrwUB",
        "outputId": "95196605-ccfc-420e-f013-760bc8d62e1d"
      },
      "outputs": [
        {
          "name": "stdout",
          "output_type": "stream",
          "text": [
            "313/313 [==============================] - 5s 16ms/step - loss: 0.4340 - accuracy: 0.8735\n"
          ]
        }
      ],
      "source": [
        "loss,accuracy = RegModel.evaluate(x_test,y_test)"
      ]
    },
    {
      "cell_type": "markdown",
      "metadata": {
        "id": "BEqYsrHn3B6_"
      },
      "source": [
        "We first tried with L2 with 0.001 and ended up having a model not trained enough with these results:\n",
        "```\n",
        "Train : loss: 0.4206 - accuracy: 0.8576\n",
        "Test : loss: 0.4772 - accuracy: 0.8201\n",
        "```\n",
        "We then tried with a coeficient of 0.0008, and we got results that were really overfited\n",
        "```\n",
        "Train : loss: 0.0819 - accuracy: 0.9827\n",
        "Test : loss: 0.3990 - accuracy: 0.8662\n",
        "```\n",
        "This did not seem to be the solution we needed."
      ]
    },
    {
      "cell_type": "markdown",
      "metadata": {
        "id": "qh9DzYQX36h_"
      },
      "source": [
        "## Early stopping"
      ]
    },
    {
      "cell_type": "markdown",
      "metadata": {
        "id": "dTtmW6rH3-Pt"
      },
      "source": [
        "We thougth about going back to the original model and stop the training earlier so that it would'nt be so overfited, to do so we used a callback method called `EarlyStopping`."
      ]
    },
    {
      "cell_type": "code",
      "execution_count": null,
      "metadata": {
        "colab": {
          "base_uri": "https://localhost:8080/"
        },
        "id": "6nOnduZS4hpw",
        "outputId": "bd5e4e7c-e17d-4b76-ac97-fcb120f03c2d"
      },
      "outputs": [
        {
          "name": "stdout",
          "output_type": "stream",
          "text": [
            "Model: \"sequential_5\"\n",
            "_________________________________________________________________\n",
            " Layer (type)                Output Shape              Param #   \n",
            "=================================================================\n",
            " embedding_5 (Embedding)     (None, 130, 32)           2953280   \n",
            "                                                                 \n",
            " lstm_5 (LSTM)               (None, 64)                24832     \n",
            "                                                                 \n",
            " dense_5 (Dense)             (None, 1)                 65        \n",
            "                                                                 \n",
            "=================================================================\n",
            "Total params: 2,978,177\n",
            "Trainable params: 2,978,177\n",
            "Non-trainable params: 0\n",
            "_________________________________________________________________\n",
            "None\n"
          ]
        }
      ],
      "source": [
        "# ARCHITECTURE\n",
        "EMBED_DIM = 32\n",
        "LSTM_OUT = 64\n",
        "\n",
        "earlModel = Sequential()\n",
        "earlModel.add(Embedding(total_words, EMBED_DIM, input_length = max_length))\n",
        "earlModel.add(LSTM(LSTM_OUT))\n",
        "earlModel.add(Dense(1, activation='sigmoid'))\n",
        "earlModel.compile(optimizer = 'adam', loss = 'binary_crossentropy', metrics = ['accuracy'])\n",
        "\n",
        "print(earlModel.summary())"
      ]
    },
    {
      "cell_type": "markdown",
      "metadata": {
        "id": "qvh0UmAhJJkV"
      },
      "source": [
        "What we monitor here is the validation loss, as soon as this value starts rising up again, the training will stop."
      ]
    },
    {
      "cell_type": "code",
      "execution_count": null,
      "metadata": {
        "id": "KShXh1834lBY"
      },
      "outputs": [],
      "source": [
        "early_stopping = EarlyStopping(\n",
        "    monitor='val_loss', \n",
        "    patience=0\n",
        ")"
      ]
    },
    {
      "cell_type": "code",
      "execution_count": null,
      "metadata": {
        "colab": {
          "base_uri": "https://localhost:8080/"
        },
        "id": "h_H--8rw4kAh",
        "outputId": "0e6ef9f8-fbd7-4081-881a-74a1ea677975"
      },
      "outputs": [
        {
          "name": "stdout",
          "output_type": "stream",
          "text": [
            "Epoch 1/5\n",
            "235/235 - 41s - loss: 0.5791 - accuracy: 0.6507 - val_loss: 0.3623 - val_accuracy: 0.8497 - 41s/epoch - 175ms/step\n",
            "Epoch 2/5\n",
            "235/235 - 39s - loss: 0.2593 - accuracy: 0.9070 - val_loss: 0.2955 - val_accuracy: 0.8781 - 39s/epoch - 164ms/step\n"
          ]
        }
      ],
      "source": [
        "earlHistory =earlModel.fit(x_train, y_train, batch_size = 128, epochs = 5,validation_split=0.25,verbose=2, callbacks=[early_stopping],validation_data=(x_test, y_test))"
      ]
    },
    {
      "cell_type": "code",
      "execution_count": null,
      "metadata": {
        "colab": {
          "base_uri": "https://localhost:8080/"
        },
        "id": "umj1MfhZ4zFY",
        "outputId": "1be53389-689c-4609-a3fa-abbc7b0bf09b"
      },
      "outputs": [
        {
          "name": "stdout",
          "output_type": "stream",
          "text": [
            "1250/1250 [==============================] - 21s 16ms/step - loss: 0.1748 - accuracy: 0.9429\n"
          ]
        }
      ],
      "source": [
        "loss,accuracy = earlModel.evaluate(x_train,y_train)"
      ]
    },
    {
      "cell_type": "code",
      "execution_count": null,
      "metadata": {
        "colab": {
          "base_uri": "https://localhost:8080/"
        },
        "id": "zByhfp2s41Uz",
        "outputId": "60180e1e-299e-497c-f139-8f1f1edb643b"
      },
      "outputs": [
        {
          "name": "stdout",
          "output_type": "stream",
          "text": [
            "313/313 [==============================] - 5s 16ms/step - loss: 0.3051 - accuracy: 0.8777\n"
          ]
        }
      ],
      "source": [
        "loss,accuracy = earlModel.evaluate(x_test,y_test)"
      ]
    },
    {
      "cell_type": "markdown",
      "metadata": {
        "id": "O60W4rFbLEN3"
      },
      "source": [
        "The results are slightly better but since there are only 5 epochs and each epochs updates the model a lot, it stopped on the second epoch, and was once again overfited."
      ]
    },
    {
      "cell_type": "markdown",
      "metadata": {
        "id": "Xur4TabkxhtT"
      },
      "source": [
        "## Comparison of each model"
      ]
    },
    {
      "cell_type": "code",
      "execution_count": null,
      "metadata": {
        "id": "5cXpfGUBhee8"
      },
      "outputs": [],
      "source": [
        "def plot_history(histories, key='loss'):\n",
        "  plt.figure(figsize=(16,10))\n",
        "\n",
        "  for name, history in histories:\n",
        "    val = plt.plot(history.epoch, history.history['val_'+key],\n",
        "                   '--', label=name.title()+' Val')\n",
        "    plt.plot(history.epoch, history.history[key], color=val[0].get_color(),\n",
        "             label=name.title()+' Train')\n",
        "\n",
        "  plt.xlabel('Epochs')\n",
        "  plt.ylabel(key.replace('_',' ').title())\n",
        "  plt.legend()\n",
        "\n",
        "  #plt.xlim([0,max(histories[0].epoch)])\n"
      ]
    },
    {
      "cell_type": "code",
      "execution_count": null,
      "metadata": {
        "colab": {
          "base_uri": "https://localhost:8080/",
          "height": 606
        },
        "id": "fGHGb5B_xm11",
        "outputId": "60c6d4ff-ca78-4869-ad4f-4c106361ca4c"
      },
      "outputs": [
        {
          "data": {
            "image/png": "[encoded data removed]",
            "text/plain": [
              "<Figure size 1152x720 with 1 Axes>"
            ]
          },
          "metadata": {},
          "output_type": "display_data"
        }
      ],
      "source": [
        "\n",
        "\n",
        "plot_history([('baseline', FirstHistory),\n",
        "              ('Dropout', DropHistory),\n",
        "              ('Small', SmalHistory),\n",
        "              ('Batch', BatchHistory),\n",
        "              ('Regularized', RegHistory),\n",
        "              ('earlystop', earlHistory)])"
      ]
    },
    {
      "cell_type": "markdown",
      "metadata": {
        "id": "kPF1eFzs5vkN"
      },
      "source": [
        "the test losses are in dotted lines and the train losses in full lines\n",
        "What we can see is that apart from the dropout, all the test losses keep increasing after the second epoch but the dropout seems to be bottlenecked at around 0.3<br>\n",
        "We cas see as well that the early stopping stops almost instantly.<br>\n",
        "The rigth thing to do seems to be the droppout mixed with the early stopping and a smaller model."
      ]
    },
    {
      "cell_type": "markdown",
      "metadata": {
        "id": "gfemUpcBaa_r"
      },
      "source": [
        "## Trying to combine the best models"
      ]
    },
    {
      "cell_type": "code",
      "execution_count": null,
      "metadata": {
        "colab": {
          "base_uri": "https://localhost:8080/"
        },
        "id": "CYFM3aVVaaBM",
        "outputId": "5f0bce56-89d2-4809-b06b-cf9862b1de31"
      },
      "outputs": [
        {
          "name": "stdout",
          "output_type": "stream",
          "text": [
            "Model: \"sequential_12\"\n",
            "_________________________________________________________________\n",
            " Layer (type)                Output Shape              Param #   \n",
            "=================================================================\n",
            " embedding_12 (Embedding)    (None, 130, 4)            369160    \n",
            "                                                                 \n",
            " dropout_14 (Dropout)        (None, 130, 4)            0         \n",
            "                                                                 \n",
            " lstm_12 (LSTM)              (None, 6)                 264       \n",
            "                                                                 \n",
            " dropout_15 (Dropout)        (None, 6)                 0         \n",
            "                                                                 \n",
            " dense_12 (Dense)            (None, 1)                 7         \n",
            "                                                                 \n",
            "=================================================================\n",
            "Total params: 369,431\n",
            "Trainable params: 369,431\n",
            "Non-trainable params: 0\n",
            "_________________________________________________________________\n",
            "None\n"
          ]
        }
      ],
      "source": [
        "EMBED_DIM = 4\n",
        "LSTM_OUT = 6\n",
        "\n",
        "NModel = Sequential()\n",
        "NModel.add(Embedding(total_words, EMBED_DIM, input_length = max_length))\n",
        "NModel.add(Dropout(0.8))\n",
        "NModel.add(LSTM(LSTM_OUT))\n",
        "NModel.add(Dropout(0.8))\n",
        "NModel.add(Dense(1, activation='sigmoid'))\n",
        "NModel.compile(optimizer = 'adam', loss = 'binary_crossentropy', metrics = ['accuracy'])\n",
        "\n",
        "print(NModel.summary())"
      ]
    },
    {
      "cell_type": "code",
      "execution_count": null,
      "metadata": {
        "id": "7IqhvCg3bJQf"
      },
      "outputs": [],
      "source": [
        "early_stopping = EarlyStopping(\n",
        "    monitor='val_loss', \n",
        "    patience=2\n",
        ")"
      ]
    },
    {
      "cell_type": "code",
      "execution_count": null,
      "metadata": {
        "colab": {
          "base_uri": "https://localhost:8080/"
        },
        "id": "70oi4F1xak1i",
        "outputId": "3513023c-364f-4794-ea70-60cd37d5d42d"
      },
      "outputs": [
        {
          "name": "stdout",
          "output_type": "stream",
          "text": [
            "Epoch 1/35\n",
            "313/313 [==============================] - 18s 51ms/step - loss: 0.6935 - accuracy: 0.4972 - val_loss: 0.6931 - val_accuracy: 0.5031\n",
            "Epoch 2/35\n",
            "313/313 [==============================] - 16s 50ms/step - loss: 0.6931 - accuracy: 0.5007 - val_loss: 0.6930 - val_accuracy: 0.5094\n",
            "Epoch 3/35\n",
            "313/313 [==============================] - 16s 50ms/step - loss: 0.6930 - accuracy: 0.5032 - val_loss: 0.6928 - val_accuracy: 0.5245\n",
            "Epoch 4/35\n",
            "313/313 [==============================] - 16s 50ms/step - loss: 0.6745 - accuracy: 0.5567 - val_loss: 0.5749 - val_accuracy: 0.7831\n",
            "Epoch 5/35\n",
            "313/313 [==============================] - 16s 50ms/step - loss: 0.5884 - accuracy: 0.6920 - val_loss: 0.4284 - val_accuracy: 0.8581\n",
            "Epoch 6/35\n",
            "313/313 [==============================] - 16s 50ms/step - loss: 0.5194 - accuracy: 0.7369 - val_loss: 0.3929 - val_accuracy: 0.8663\n",
            "Epoch 7/35\n",
            "313/313 [==============================] - 16s 50ms/step - loss: 0.4732 - accuracy: 0.7564 - val_loss: 0.3412 - val_accuracy: 0.8802\n",
            "Epoch 8/35\n",
            "313/313 [==============================] - 16s 50ms/step - loss: 0.4562 - accuracy: 0.7624 - val_loss: 0.3094 - val_accuracy: 0.8834\n",
            "Epoch 9/35\n",
            "313/313 [==============================] - 16s 50ms/step - loss: 0.4350 - accuracy: 0.7739 - val_loss: 0.2976 - val_accuracy: 0.8880\n",
            "Epoch 10/35\n",
            "313/313 [==============================] - 15s 49ms/step - loss: 0.4255 - accuracy: 0.7781 - val_loss: 0.3143 - val_accuracy: 0.8845\n",
            "Epoch 11/35\n",
            "313/313 [==============================] - 15s 50ms/step - loss: 0.4136 - accuracy: 0.7822 - val_loss: 0.2853 - val_accuracy: 0.8869\n",
            "Epoch 12/35\n",
            "313/313 [==============================] - 15s 49ms/step - loss: 0.4096 - accuracy: 0.7857 - val_loss: 0.2865 - val_accuracy: 0.8915\n",
            "Epoch 13/35\n",
            "313/313 [==============================] - 16s 50ms/step - loss: 0.4013 - accuracy: 0.7850 - val_loss: 0.2810 - val_accuracy: 0.8929\n",
            "Epoch 14/35\n",
            "313/313 [==============================] - 16s 50ms/step - loss: 0.3923 - accuracy: 0.7926 - val_loss: 0.2851 - val_accuracy: 0.8908\n",
            "Epoch 15/35\n",
            "313/313 [==============================] - 16s 50ms/step - loss: 0.3877 - accuracy: 0.7922 - val_loss: 0.2867 - val_accuracy: 0.8805\n"
          ]
        }
      ],
      "source": [
        "nHistory = NModel.fit(x_train, y_train, batch_size = 128, epochs = 35,validation_data=(x_test, y_test), callbacks=[early_stopping])"
      ]
    },
    {
      "cell_type": "code",
      "execution_count": null,
      "metadata": {
        "colab": {
          "base_uri": "https://localhost:8080/"
        },
        "id": "Cc09ph1fanf8",
        "outputId": "db6b062c-00a7-4f8d-d898-cf863ea3e565"
      },
      "outputs": [
        {
          "name": "stdout",
          "output_type": "stream",
          "text": [
            "1250/1250 [==============================] - 10s 8ms/step - loss: 0.1563 - accuracy: 0.9505\n"
          ]
        }
      ],
      "source": [
        "loss,accuracy = NModel.evaluate(x_train,y_train)"
      ]
    },
    {
      "cell_type": "code",
      "execution_count": null,
      "metadata": {
        "colab": {
          "base_uri": "https://localhost:8080/"
        },
        "id": "JrQvoBITapLR",
        "outputId": "41a9eb66-5b9d-4631-bd4b-e0712bd4cf49"
      },
      "outputs": [
        {
          "name": "stdout",
          "output_type": "stream",
          "text": [
            "313/313 [==============================] - 2s 8ms/step - loss: 0.2867 - accuracy: 0.8805\n"
          ]
        }
      ],
      "source": [
        "loss,accuracy = NModel.evaluate(x_test,y_test)"
      ]
    },
    {
      "cell_type": "code",
      "execution_count": null,
      "metadata": {
        "colab": {
          "base_uri": "https://localhost:8080/",
          "height": 606
        },
        "id": "uRNAdk86ar1f",
        "outputId": "4a599c9f-13ad-44bc-c5ec-c81ab5ec04b2"
      },
      "outputs": [
        {
          "data": {
            "image/png": "[encoded data removed]",
            "text/plain": [
              "<Figure size 1152x720 with 1 Axes>"
            ]
          },
          "metadata": {},
          "output_type": "display_data"
        }
      ],
      "source": [
        "plot_history([('Best', nHistory)])"
      ]
    },
    {
      "cell_type": "markdown",
      "metadata": {
        "id": "1XkGf027kEhU"
      },
      "source": [
        "With the use of all the tools combined we manage to have a much more controlled model<br>\n",
        "This model is composed of two dropout layers of 0.8, with this we reduced the size of the other layers with `EMBED_DIM = 4 LSTM_OUT = 6 ` and finally we added a callback parameter EarlyStopping.<br>\n",
        "The resulted graph shows a training loss that decreases much slower and therefor the test loss is much more controlled."
      ]
    },
    {
      "cell_type": "markdown",
      "metadata": {
        "id": "R5j2pXJBu-hs"
      },
      "source": [
        "# Exercice 4"
      ]
    },
    {
      "cell_type": "markdown",
      "metadata": {
        "id": "LT0oNUoHJoUS"
      },
      "source": [
        "## imports"
      ]
    },
    {
      "cell_type": "code",
      "execution_count": null,
      "metadata": {
        "colab": {
          "base_uri": "https://localhost:8080/"
        },
        "id": "GR2frGRNZL5w",
        "outputId": "f1485e28-13b9-4800-f93d-abdc321f533f"
      },
      "outputs": [
        {
          "name": "stdout",
          "output_type": "stream",
          "text": [
            "Mounted at /content/drive\n"
          ]
        }
      ],
      "source": [
        "from google.colab import drive\n",
        "drive.mount('/content/drive')"
      ]
    },
    {
      "cell_type": "code",
      "execution_count": null,
      "metadata": {
        "id": "YtKWz3Or7J2F"
      },
      "outputs": [],
      "source": [
        "import shutil\n",
        "import numpy as np     # for mathematic equation\n",
        "import pandas as pd\n",
        "from matplotlib import pyplot as plt\n",
        "from nltk.tokenize import RegexpTokenizer\n",
        "from tensorflow.keras.preprocessing.sequence import pad_sequences   # to do padding or truncating\n",
        "from tensorflow.keras.models import Sequential     # the model\n",
        "from tensorflow.keras.layers import Embedding, LSTM, Dense, Dropout, Flatten# layers of the architecture\n",
        "from tensorflow.keras.callbacks import ModelCheckpoint, EarlyStopping   # save model\n",
        "from tensorflow.keras.models import load_model   # load saved model\n",
        "import tensorflow as tf\n",
        "import tensorflow.keras\n",
        "import os\n",
        "from collections import defaultdict\n",
        "from keras.preprocessing.text import text_to_word_sequence, Tokenizer"
      ]
    },
    {
      "cell_type": "code",
      "execution_count": null,
      "metadata": {
        "colab": {
          "base_uri": "https://localhost:8080/"
        },
        "id": "CT37hZGJlFoA",
        "outputId": "5e0a2d4c-e86a-43cc-a624-5138150ea2ef"
      },
      "outputs": [
        {
          "name": "stdout",
          "output_type": "stream",
          "text": [
            "NLTK Downloader\n",
            "---------------------------------------------------------------------------\n",
            "    d) Download   l) List    u) Update   c) Config   h) Help   q) Quit\n",
            "---------------------------------------------------------------------------\n",
            "Downloader> d\n",
            "\n",
            "Download which package (l=list; x=cancel)?\n",
            "  Identifier> stopwords\n",
            "    Downloading package stopwords to /root/nltk_data...\n",
            "      Unzipping corpora/stopwords.zip.\n",
            "\n",
            "---------------------------------------------------------------------------\n",
            "    d) Download   l) List    u) Update   c) Config   h) Help   q) Quit\n",
            "---------------------------------------------------------------------------\n",
            "Downloader> q\n"
          ]
        },
        {
          "data": {
            "text/plain": [
              "True"
            ]
          },
          "execution_count": 3,
          "metadata": {},
          "output_type": "execute_result"
        }
      ],
      "source": [
        "from nltk.corpus import stopwords   # to get collection of stopwords\n",
        "import nltk\n",
        "nltk.download()"
      ]
    },
    {
      "cell_type": "markdown",
      "metadata": {
        "id": "XFBnMGA_vY7_"
      },
      "source": [
        "## Retrieving the data"
      ]
    },
    {
      "cell_type": "code",
      "execution_count": null,
      "metadata": {
        "id": "Gq-yDjku68wn"
      },
      "outputs": [],
      "source": [
        "shutil.unpack_archive(\"/content/drive/MyDrive/TP_ESIR2/IA/ohsumed-first-20000-docs.tar.gz\",\"/content/drive/MyDrive/TP_ESIR2/IA/\")"
      ]
    },
    {
      "cell_type": "code",
      "execution_count": null,
      "metadata": {
        "id": "dOVubg-ivewr"
      },
      "outputs": [],
      "source": [
        "\n",
        "\n",
        "def get_info(path: str):\n",
        "    data = list(os.walk(path))[1:]\n",
        "    files = []\n",
        "    for d in data:\n",
        "        folder_name = d[0]\n",
        "        for file in d[2]:\n",
        "            files.append((folder_name.split('/')[-1], os.path.join(folder_name, file)))\n",
        "\n",
        "    d = defaultdict(int)\n",
        "    texts = defaultdict(list)\n",
        "    for (cate, file) in files:\n",
        "        with open(file, 'r') as outfile:\n",
        "            text = outfile.read()\n",
        "            texts[cate].append(text)\n",
        "            words = text_to_word_sequence(text)\n",
        "            for word in words:\n",
        "                d[word] += 1\n",
        "    words = sorted(d.items(), key=lambda x: x[1], reverse=True)\n",
        "    return (texts, words)"
      ]
    },
    {
      "cell_type": "code",
      "execution_count": null,
      "metadata": {
        "id": "DUdQjT8MzmSd"
      },
      "outputs": [],
      "source": [
        "(TrainTexts,Trainwords) = get_info(\"/content/drive/MyDrive/TP_ESIR2/IA/ohsumed-first-20000-docs/training\")"
      ]
    },
    {
      "cell_type": "code",
      "execution_count": null,
      "metadata": {
        "id": "zugAxq9veUjm"
      },
      "outputs": [],
      "source": [
        "(TestTexts,TestWords) = get_info(\"/content/drive/MyDrive/TP_ESIR2/IA/ohsumed-first-20000-docs/test\")"
      ]
    },
    {
      "cell_type": "markdown",
      "metadata": {
        "id": "0C2PVUCFAjii"
      },
      "source": [
        "## Creating the dataset"
      ]
    },
    {
      "cell_type": "code",
      "execution_count": null,
      "metadata": {
        "id": "rudqbP00AjCC"
      },
      "outputs": [],
      "source": [
        "df = pd.DataFrame()\n",
        "for i in range(23):\n",
        "  if(i<9):  \n",
        "    tmp= pd.DataFrame(TrainTexts[\"C0\"+str(i+1)])\n",
        "    tmp[\"Class\"] = \"C0\"+str(i+1)\n",
        "    df= pd.concat([df,tmp])\n",
        "  else:\n",
        "    tmp= pd.DataFrame(TrainTexts[\"C\"+str(i+1)])\n",
        "    tmp[\"Class\"] = \"C\"+str(i+1)\n",
        "    df= pd.concat([df,tmp])\n",
        "\n"
      ]
    },
    {
      "cell_type": "code",
      "execution_count": null,
      "metadata": {
        "colab": {
          "base_uri": "https://localhost:8080/",
          "height": 423
        },
        "id": "rePSj-gaFmKq",
        "outputId": "0b7a7b69-67e3-458b-f8f7-cfb0ee97eead"
      },
      "outputs": [
        {
          "data": {
            "text/html": [
              "\n",
              "  <div id=\"df-643f0d4b-4f3c-4173-baea-c06eb28dd552\">\n",
              "    <div class=\"colab-df-container\">\n",
              "      <div>\n",
              "<style scoped>\n",
              "    .dataframe tbody tr th:only-of-type {\n",
              "        vertical-align: middle;\n",
              "    }\n",
              "\n",
              "    .dataframe tbody tr th {\n",
              "        vertical-align: top;\n",
              "    }\n",
              "\n",
              "    .dataframe thead th {\n",
              "        text-align: right;\n",
              "    }\n",
              "</style>\n",
              "<table border=\"1\" class=\"dataframe\">\n",
              "  <thead>\n",
              "    <tr style=\"text-align: right;\">\n",
              "      <th></th>\n",
              "      <th>0</th>\n",
              "      <th>Class</th>\n",
              "    </tr>\n",
              "  </thead>\n",
              "  <tbody>\n",
              "    <tr>\n",
              "      <th>0</th>\n",
              "      <td>Haemophilus influenzae meningitis with prolong...</td>\n",
              "      <td>C01</td>\n",
              "    </tr>\n",
              "    <tr>\n",
              "      <th>1</th>\n",
              "      <td>Mucosal intussusception to avoid ascending cho...</td>\n",
              "      <td>C01</td>\n",
              "    </tr>\n",
              "    <tr>\n",
              "      <th>2</th>\n",
              "      <td>Gastrointestinal function and structure in HIV...</td>\n",
              "      <td>C01</td>\n",
              "    </tr>\n",
              "    <tr>\n",
              "      <th>3</th>\n",
              "      <td>Epidemiology in bone and joint infection.\\n Th...</td>\n",
              "      <td>C01</td>\n",
              "    </tr>\n",
              "    <tr>\n",
              "      <th>4</th>\n",
              "      <td>The diabetic foot. Soft tissue and bone infect...</td>\n",
              "      <td>C01</td>\n",
              "    </tr>\n",
              "    <tr>\n",
              "      <th>...</th>\n",
              "      <td>...</td>\n",
              "      <td>...</td>\n",
              "    </tr>\n",
              "    <tr>\n",
              "      <th>2148</th>\n",
              "      <td>Interruption of professional and home activity...</td>\n",
              "      <td>C23</td>\n",
              "    </tr>\n",
              "    <tr>\n",
              "      <th>2149</th>\n",
              "      <td>Effect of thiopental on neurologic outcome fol...</td>\n",
              "      <td>C23</td>\n",
              "    </tr>\n",
              "    <tr>\n",
              "      <th>2150</th>\n",
              "      <td>Recovery profile after desflurane-nitrous oxid...</td>\n",
              "      <td>C23</td>\n",
              "    </tr>\n",
              "    <tr>\n",
              "      <th>2151</th>\n",
              "      <td>Postoperative myocardial ischemia in patients ...</td>\n",
              "      <td>C23</td>\n",
              "    </tr>\n",
              "    <tr>\n",
              "      <th>2152</th>\n",
              "      <td>Enhanced mobilization of intracellular Ca2+ in...</td>\n",
              "      <td>C23</td>\n",
              "    </tr>\n",
              "  </tbody>\n",
              "</table>\n",
              "<p>12733 rows × 2 columns</p>\n",
              "</div>\n",
              "      <button class=\"colab-df-convert\" onclick=\"convertToInteractive('df-643f0d4b-4f3c-4173-baea-c06eb28dd552')\"\n",
              "              title=\"Convert this dataframe to an interactive table.\"\n",
              "              style=\"display:none;\">\n",
              "        \n",
              "  <svg xmlns=\"http://www.w3.org/2000/svg\" height=\"24px\"viewBox=\"0 0 24 24\"\n",
              "       width=\"24px\">\n",
              "    <path d=\"M0 0h24v24H0V0z\" fill=\"none\"/>\n",
              "    <path d=\"M18.56 5.44l.94 2.06.94-2.06 2.06-.94-2.06-.94-.94-2.06-.94 2.06-2.06.94zm-11 1L8.5 8.5l.94-2.06 2.06-.94-2.06-.94L8.5 2.5l-.94 2.06-2.06.94zm10 10l.94 2.06.94-2.06 2.06-.94-2.06-.94-.94-2.06-.94 2.06-2.06.94z\"/><path d=\"M17.41 7.96l-1.37-1.37c-.4-.4-.92-.59-1.43-.59-.52 0-1.04.2-1.43.59L10.3 9.45l-7.72 7.72c-.78.78-.78 2.05 0 2.83L4 21.41c.39.39.9.59 1.41.59.51 0 1.02-.2 1.41-.59l7.78-7.78 2.81-2.81c.8-.78.8-2.07 0-2.86zM5.41 20L4 18.59l7.72-7.72 1.47 1.35L5.41 20z\"/>\n",
              "  </svg>\n",
              "      </button>\n",
              "      \n",
              "  <style>\n",
              "    .colab-df-container {\n",
              "      display:flex;\n",
              "      flex-wrap:wrap;\n",
              "      gap: 12px;\n",
              "    }\n",
              "\n",
              "    .colab-df-convert {\n",
              "      background-color: #E8F0FE;\n",
              "      border: none;\n",
              "      border-radius: 50%;\n",
              "      cursor: pointer;\n",
              "      display: none;\n",
              "      fill: #1967D2;\n",
              "      height: 32px;\n",
              "      padding: 0 0 0 0;\n",
              "      width: 32px;\n",
              "    }\n",
              "\n",
              "    .colab-df-convert:hover {\n",
              "      background-color: #E2EBFA;\n",
              "      box-shadow: 0px 1px 2px rgba(60, 64, 67, 0.3), 0px 1px 3px 1px rgba(60, 64, 67, 0.15);\n",
              "      fill: #174EA6;\n",
              "    }\n",
              "\n",
              "    [theme=dark] .colab-df-convert {\n",
              "      background-color: #3B4455;\n",
              "      fill: #D2E3FC;\n",
              "    }\n",
              "\n",
              "    [theme=dark] .colab-df-convert:hover {\n",
              "      background-color: #434B5C;\n",
              "      box-shadow: 0px 1px 3px 1px rgba(0, 0, 0, 0.15);\n",
              "      filter: drop-shadow(0px 1px 2px rgba(0, 0, 0, 0.3));\n",
              "      fill: #FFFFFF;\n",
              "    }\n",
              "  </style>\n",
              "\n",
              "      <script>\n",
              "        const buttonEl =\n",
              "          document.querySelector('#df-643f0d4b-4f3c-4173-baea-c06eb28dd552 button.colab-df-convert');\n",
              "        buttonEl.style.display =\n",
              "          google.colab.kernel.accessAllowed ? 'block' : 'none';\n",
              "\n",
              "        async function convertToInteractive(key) {\n",
              "          const element = document.querySelector('#df-643f0d4b-4f3c-4173-baea-c06eb28dd552');\n",
              "          const dataTable =\n",
              "            await google.colab.kernel.invokeFunction('convertToInteractive',\n",
              "                                                     [key], {});\n",
              "          if (!dataTable) return;\n",
              "\n",
              "          const docLinkHtml = 'Like what you see? Visit the ' +\n",
              "            '<a target=\"_blank\" href=https://colab.research.google.com/notebooks/data_table.ipynb>data table notebook</a>'\n",
              "            + ' to learn more about interactive tables.';\n",
              "          element.innerHTML = '';\n",
              "          dataTable['output_type'] = 'display_data';\n",
              "          await google.colab.output.renderOutput(dataTable, element);\n",
              "          const docLink = document.createElement('div');\n",
              "          docLink.innerHTML = docLinkHtml;\n",
              "          element.appendChild(docLink);\n",
              "        }\n",
              "      </script>\n",
              "    </div>\n",
              "  </div>\n",
              "  "
            ],
            "text/plain": [
              "                                                      0 Class\n",
              "0     Haemophilus influenzae meningitis with prolong...   C01\n",
              "1     Mucosal intussusception to avoid ascending cho...   C01\n",
              "2     Gastrointestinal function and structure in HIV...   C01\n",
              "3     Epidemiology in bone and joint infection.\\n Th...   C01\n",
              "4     The diabetic foot. Soft tissue and bone infect...   C01\n",
              "...                                                 ...   ...\n",
              "2148  Interruption of professional and home activity...   C23\n",
              "2149  Effect of thiopental on neurologic outcome fol...   C23\n",
              "2150  Recovery profile after desflurane-nitrous oxid...   C23\n",
              "2151  Postoperative myocardial ischemia in patients ...   C23\n",
              "2152  Enhanced mobilization of intracellular Ca2+ in...   C23\n",
              "\n",
              "[12733 rows x 2 columns]"
            ]
          },
          "execution_count": 8,
          "metadata": {},
          "output_type": "execute_result"
        }
      ],
      "source": [
        "df"
      ]
    },
    {
      "cell_type": "code",
      "execution_count": null,
      "metadata": {
        "id": "Y_ytcQgBIEvM"
      },
      "outputs": [],
      "source": [
        "df.to_csv(\"/content/drive/MyDrive/TP_ESIR2/IA/test.csv\")\n"
      ]
    },
    {
      "cell_type": "markdown",
      "metadata": {
        "id": "5j3eZuPyZ3dy"
      },
      "source": [
        "## Dataset description"
      ]
    },
    {
      "cell_type": "code",
      "execution_count": null,
      "metadata": {
        "id": "zOipnCKzaLEX"
      },
      "outputs": [],
      "source": [
        "dfTrain=pd.read_csv(\"/content/drive/MyDrive/TP_ESIR2/IA/training.csv\")\n",
        "dfTest=pd.read_csv(\"/content/drive/MyDrive/TP_ESIR2/IA/test.csv\")"
      ]
    },
    {
      "cell_type": "markdown",
      "metadata": {
        "id": "ZZmZvsgmcQAX"
      },
      "source": [
        "### Data distribution"
      ]
    },
    {
      "cell_type": "code",
      "execution_count": null,
      "metadata": {
        "colab": {
          "base_uri": "https://localhost:8080/",
          "height": 265
        },
        "id": "Wl7iXXqtbCKo",
        "outputId": "cc0617f1-f3a7-4fe5-8ed2-bb0216c41349"
      },
      "outputs": [
        {
          "data": {
            "image/png": "[encoded data removed]",
            "text/plain": [
              "<Figure size 432x288 with 1 Axes>"
            ]
          },
          "metadata": {},
          "output_type": "display_data"
        }
      ],
      "source": [
        "plt.hist(dfTrain[\"Class\"], bins = 23, rwidth = 0.8)\n",
        "plt.show()"
      ]
    },
    {
      "cell_type": "code",
      "execution_count": null,
      "metadata": {
        "colab": {
          "base_uri": "https://localhost:8080/",
          "height": 265
        },
        "id": "rPFPTlwwcAcM",
        "outputId": "1385e1b1-2dba-4ea9-e8fb-9a3756961ed1"
      },
      "outputs": [
        {
          "data": {
            "image/png": "[encoded data removed]",
            "text/plain": [
              "<Figure size 432x288 with 1 Axes>"
            ]
          },
          "metadata": {},
          "output_type": "display_data"
        }
      ],
      "source": [
        "plt.hist(dfTest[\"Class\"], bins = 23, rwidth = 0.8)\n",
        "plt.show()"
      ]
    },
    {
      "cell_type": "markdown",
      "metadata": {
        "id": "LykOff6EcZF5"
      },
      "source": [
        "Since the distribution for the test set and the train set are pretty similar, we can train a model on our train set and it will still work"
      ]
    },
    {
      "cell_type": "markdown",
      "metadata": {
        "id": "9wzSAGjIen-E"
      },
      "source": [
        "### Words Description"
      ]
    },
    {
      "cell_type": "markdown",
      "metadata": {
        "id": "DlRQqyy_eu74"
      },
      "source": [
        "#### Vocabulary size"
      ]
    },
    {
      "cell_type": "code",
      "execution_count": null,
      "metadata": {
        "colab": {
          "base_uri": "https://localhost:8080/",
          "height": 165
        },
        "id": "8_a4Ip2oe57W",
        "outputId": "040bb5a9-4dad-4051-bde8-43ca43e9c0f5"
      },
      "outputs": [
        {
          "ename": "NameError",
          "evalue": "ignored",
          "output_type": "error",
          "traceback": [
            "\u001b[0;31m---------------------------------------------------------------------------\u001b[0m",
            "\u001b[0;31mNameError\u001b[0m                                 Traceback (most recent call last)",
            "\u001b[0;32m<ipython-input-8-023bf777a39a>\u001b[0m in \u001b[0;36m<module>\u001b[0;34m()\u001b[0m\n\u001b[0;32m----> 1\u001b[0;31m \u001b[0mlen\u001b[0m\u001b[0;34m(\u001b[0m\u001b[0mTrainwords\u001b[0m\u001b[0;34m)\u001b[0m\u001b[0;34m\u001b[0m\u001b[0;34m\u001b[0m\u001b[0m\n\u001b[0m",
            "\u001b[0;31mNameError\u001b[0m: name 'Trainwords' is not defined"
          ]
        }
      ],
      "source": [
        "len(Trainwords)"
      ]
    },
    {
      "cell_type": "code",
      "execution_count": null,
      "metadata": {
        "colab": {
          "base_uri": "https://localhost:8080/",
          "height": 165
        },
        "id": "jbkC3Nw3csAh",
        "outputId": "475cca63-6a71-4c30-c5ad-5fa8d6398fad"
      },
      "outputs": [
        {
          "ename": "NameError",
          "evalue": "ignored",
          "output_type": "error",
          "traceback": [
            "\u001b[0;31m---------------------------------------------------------------------------\u001b[0m",
            "\u001b[0;31mNameError\u001b[0m                                 Traceback (most recent call last)",
            "\u001b[0;32m<ipython-input-9-89dbe59211bd>\u001b[0m in \u001b[0;36m<module>\u001b[0;34m()\u001b[0m\n\u001b[0;32m----> 1\u001b[0;31m \u001b[0mlen\u001b[0m\u001b[0;34m(\u001b[0m\u001b[0mTestWords\u001b[0m\u001b[0;34m)\u001b[0m\u001b[0;34m\u001b[0m\u001b[0;34m\u001b[0m\u001b[0m\n\u001b[0m",
            "\u001b[0;31mNameError\u001b[0m: name 'TestWords' is not defined"
          ]
        }
      ],
      "source": [
        "len(TestWords)"
      ]
    },
    {
      "cell_type": "markdown",
      "metadata": {
        "id": "a9q5KQmpfA1W"
      },
      "source": [
        "#### Word Distribution"
      ]
    },
    {
      "cell_type": "code",
      "execution_count": null,
      "metadata": {
        "colab": {
          "base_uri": "https://localhost:8080/",
          "height": 183
        },
        "id": "lIcG-moYgf6s",
        "outputId": "9398cc3f-a73f-46b7-9803-9524ead583f0"
      },
      "outputs": [
        {
          "ename": "NameError",
          "evalue": "ignored",
          "output_type": "error",
          "traceback": [
            "\u001b[0;31m---------------------------------------------------------------------------\u001b[0m",
            "\u001b[0;31mNameError\u001b[0m                                 Traceback (most recent call last)",
            "\u001b[0;32m<ipython-input-10-8a5b4457d31c>\u001b[0m in \u001b[0;36m<module>\u001b[0;34m()\u001b[0m\n\u001b[0;32m----> 1\u001b[0;31m \u001b[0mdf\u001b[0m \u001b[0;34m=\u001b[0m \u001b[0mpd\u001b[0m\u001b[0;34m.\u001b[0m\u001b[0mDataFrame\u001b[0m\u001b[0;34m(\u001b[0m\u001b[0mTrainwords\u001b[0m\u001b[0;34m[\u001b[0m\u001b[0;36m0\u001b[0m\u001b[0;34m:\u001b[0m\u001b[0;36m20\u001b[0m\u001b[0;34m]\u001b[0m\u001b[0;34m,\u001b[0m \u001b[0mcolumns\u001b[0m\u001b[0;34m=\u001b[0m\u001b[0;34m[\u001b[0m\u001b[0;34m'word'\u001b[0m\u001b[0;34m,\u001b[0m \u001b[0;34m'frequency'\u001b[0m\u001b[0;34m]\u001b[0m\u001b[0;34m)\u001b[0m\u001b[0;34m\u001b[0m\u001b[0;34m\u001b[0m\u001b[0m\n\u001b[0m\u001b[1;32m      2\u001b[0m \u001b[0mdf\u001b[0m\u001b[0;34m.\u001b[0m\u001b[0mplot\u001b[0m\u001b[0;34m(\u001b[0m\u001b[0mkind\u001b[0m\u001b[0;34m=\u001b[0m\u001b[0;34m'bar'\u001b[0m\u001b[0;34m,\u001b[0m \u001b[0mx\u001b[0m\u001b[0;34m=\u001b[0m\u001b[0;34m'word'\u001b[0m\u001b[0;34m)\u001b[0m\u001b[0;34m\u001b[0m\u001b[0;34m\u001b[0m\u001b[0m\n",
            "\u001b[0;31mNameError\u001b[0m: name 'Trainwords' is not defined"
          ]
        }
      ],
      "source": [
        "df = pd.DataFrame(Trainwords[0:20], columns=['word', 'frequency'])\n",
        "df.plot(kind='bar', x='word')"
      ]
    },
    {
      "cell_type": "code",
      "execution_count": null,
      "metadata": {
        "colab": {
          "base_uri": "https://localhost:8080/",
          "height": 183
        },
        "id": "J-QnO6yBgnEa",
        "outputId": "85a32fe3-c857-421d-d5c3-9f1cf8415463"
      },
      "outputs": [
        {
          "ename": "NameError",
          "evalue": "ignored",
          "output_type": "error",
          "traceback": [
            "\u001b[0;31m---------------------------------------------------------------------------\u001b[0m",
            "\u001b[0;31mNameError\u001b[0m                                 Traceback (most recent call last)",
            "\u001b[0;32m<ipython-input-11-76cc01105ad6>\u001b[0m in \u001b[0;36m<module>\u001b[0;34m()\u001b[0m\n\u001b[0;32m----> 1\u001b[0;31m \u001b[0mdf\u001b[0m \u001b[0;34m=\u001b[0m \u001b[0mpd\u001b[0m\u001b[0;34m.\u001b[0m\u001b[0mDataFrame\u001b[0m\u001b[0;34m(\u001b[0m\u001b[0mTestWords\u001b[0m\u001b[0;34m[\u001b[0m\u001b[0;36m0\u001b[0m\u001b[0;34m:\u001b[0m\u001b[0;36m20\u001b[0m\u001b[0;34m]\u001b[0m\u001b[0;34m,\u001b[0m \u001b[0mcolumns\u001b[0m\u001b[0;34m=\u001b[0m\u001b[0;34m[\u001b[0m\u001b[0;34m'word'\u001b[0m\u001b[0;34m,\u001b[0m \u001b[0;34m'frequency'\u001b[0m\u001b[0;34m]\u001b[0m\u001b[0;34m)\u001b[0m\u001b[0;34m\u001b[0m\u001b[0;34m\u001b[0m\u001b[0m\n\u001b[0m\u001b[1;32m      2\u001b[0m \u001b[0mdf\u001b[0m\u001b[0;34m.\u001b[0m\u001b[0mplot\u001b[0m\u001b[0;34m(\u001b[0m\u001b[0mkind\u001b[0m\u001b[0;34m=\u001b[0m\u001b[0;34m'bar'\u001b[0m\u001b[0;34m,\u001b[0m \u001b[0mx\u001b[0m\u001b[0;34m=\u001b[0m\u001b[0;34m'word'\u001b[0m\u001b[0;34m)\u001b[0m\u001b[0;34m\u001b[0m\u001b[0;34m\u001b[0m\u001b[0m\n",
            "\u001b[0;31mNameError\u001b[0m: name 'TestWords' is not defined"
          ]
        }
      ],
      "source": [
        "df = pd.DataFrame(TestWords[0:20], columns=['word', 'frequency'])\n",
        "df.plot(kind='bar', x='word')"
      ]
    },
    {
      "cell_type": "markdown",
      "metadata": {
        "id": "YJgbg7AsgxYL"
      },
      "source": [
        "#### Most common / Least common"
      ]
    },
    {
      "cell_type": "code",
      "execution_count": null,
      "metadata": {
        "colab": {
          "base_uri": "https://localhost:8080/",
          "height": 165
        },
        "id": "NKDqDT36g0lD",
        "outputId": "b3de51c6-337b-4b7b-bc88-dd7f23840c94"
      },
      "outputs": [
        {
          "ename": "NameError",
          "evalue": "ignored",
          "output_type": "error",
          "traceback": [
            "\u001b[0;31m---------------------------------------------------------------------------\u001b[0m",
            "\u001b[0;31mNameError\u001b[0m                                 Traceback (most recent call last)",
            "\u001b[0;32m<ipython-input-12-fa21e1c787ff>\u001b[0m in \u001b[0;36m<module>\u001b[0;34m()\u001b[0m\n\u001b[0;32m----> 1\u001b[0;31m \u001b[0mTrainwords\u001b[0m\u001b[0;34m[\u001b[0m\u001b[0;36m0\u001b[0m\u001b[0;34m]\u001b[0m\u001b[0;34m\u001b[0m\u001b[0;34m\u001b[0m\u001b[0m\n\u001b[0m",
            "\u001b[0;31mNameError\u001b[0m: name 'Trainwords' is not defined"
          ]
        }
      ],
      "source": [
        "Trainwords[0]"
      ]
    },
    {
      "cell_type": "code",
      "execution_count": null,
      "metadata": {
        "colab": {
          "base_uri": "https://localhost:8080/",
          "height": 165
        },
        "id": "nFawaGu0hB6-",
        "outputId": "84a4e8fd-45a5-4a0a-c1a5-d50ba1c9fd2f"
      },
      "outputs": [
        {
          "ename": "NameError",
          "evalue": "ignored",
          "output_type": "error",
          "traceback": [
            "\u001b[0;31m---------------------------------------------------------------------------\u001b[0m",
            "\u001b[0;31mNameError\u001b[0m                                 Traceback (most recent call last)",
            "\u001b[0;32m<ipython-input-13-04e34d5fe683>\u001b[0m in \u001b[0;36m<module>\u001b[0;34m()\u001b[0m\n\u001b[0;32m----> 1\u001b[0;31m \u001b[0mTrainwords\u001b[0m\u001b[0;34m[\u001b[0m\u001b[0;34m-\u001b[0m\u001b[0;36m1\u001b[0m\u001b[0;34m]\u001b[0m\u001b[0;34m\u001b[0m\u001b[0;34m\u001b[0m\u001b[0m\n\u001b[0m",
            "\u001b[0;31mNameError\u001b[0m: name 'Trainwords' is not defined"
          ]
        }
      ],
      "source": [
        "Trainwords[-1]"
      ]
    },
    {
      "cell_type": "code",
      "execution_count": null,
      "metadata": {
        "id": "NDNtygK6hLKb"
      },
      "outputs": [],
      "source": [
        "TestWords[0]"
      ]
    },
    {
      "cell_type": "code",
      "execution_count": null,
      "metadata": {
        "id": "UuRhBYZBhPEZ"
      },
      "outputs": [],
      "source": [
        "TestWords[-1]"
      ]
    },
    {
      "cell_type": "markdown",
      "metadata": {
        "id": "ZKI2a4tpIC2w"
      },
      "source": [
        "## Text cleaning"
      ]
    },
    {
      "cell_type": "markdown",
      "metadata": {
        "id": "VDJKNLBHmQtv"
      },
      "source": [
        "We start by naming the axis and removing a useless column"
      ]
    },
    {
      "cell_type": "code",
      "execution_count": null,
      "metadata": {
        "id": "snfGMSa1nKtV"
      },
      "outputs": [],
      "source": [
        "english_stops = set(stopwords.words('english'))"
      ]
    },
    {
      "cell_type": "code",
      "execution_count": null,
      "metadata": {
        "id": "20D0a5KlldZ9"
      },
      "outputs": [],
      "source": [
        "dfTrain = dfTrain.set_axis([\"index\",'text', 'class'], axis=1, inplace=False)\n",
        "dfTest = dfTest.set_axis([\"index\",'text', 'class'], axis=1, inplace=False)\n"
      ]
    },
    {
      "cell_type": "code",
      "execution_count": null,
      "metadata": {
        "id": "W5wUst_XoZCj"
      },
      "outputs": [],
      "source": [
        "dfTrain = dfTrain.drop(columns=[\"index\"])\n",
        "dfTest = dfTest.drop(columns=[\"index\"])"
      ]
    },
    {
      "cell_type": "markdown",
      "metadata": {
        "id": "d7WGeEcqnlnY"
      },
      "source": [
        "### Removing non-alphabet, stopwords and lower-casing"
      ]
    },
    {
      "cell_type": "code",
      "execution_count": null,
      "metadata": {
        "id": "bApD5FxfkwnV"
      },
      "outputs": [],
      "source": [
        "dfTrain[\"text\"] = dfTrain[\"text\"].replace({'[^A-Za-z]': ' '}, regex = True)     # remove non alphabet\n",
        "dfTrain[\"text\"] = dfTrain[\"text\"].apply(lambda review: [w for w in review.split() if w not in english_stops])  # remove stop words\n",
        "dfTrain[\"text\"] = dfTrain[\"text\"].apply(lambda review: [w.lower() for w in review])   # lower case"
      ]
    },
    {
      "cell_type": "code",
      "execution_count": null,
      "metadata": {
        "id": "h3WMLULTk8Rn"
      },
      "outputs": [],
      "source": [
        "dfTest[\"text\"] = dfTest[\"text\"].replace({'[^A-Za-z]': ' '}, regex = True)     # remove non alphabet\n",
        "dfTest[\"text\"] = dfTest[\"text\"].apply(lambda review: [w for w in review.split() if w not in english_stops])  # remove stop words\n",
        "dfTest[\"text\"] = dfTest[\"text\"].apply(lambda review: [w.lower() for w in review])   # lower case"
      ]
    },
    {
      "cell_type": "code",
      "execution_count": null,
      "metadata": {
        "colab": {
          "base_uri": "https://localhost:8080/"
        },
        "id": "i0CmlS68n6cL",
        "outputId": "902ee0a8-4083-43e1-a35a-ba0cc8cf1017"
      },
      "outputs": [
        {
          "data": {
            "text/plain": [
              "0        [augmentation, mentoplasty, using, mersilene, ...\n",
              "1        [multiple, intracranial, mucoceles, associated...\n",
              "2        [replacement, aortic, valve, cusp, neonatal, e...\n",
              "3        [the, value, indium, leukocyte, scanning, eval...\n",
              "4        [febrile, infants, less, eight, weeks, old, pr...\n",
              "                               ...                        \n",
              "10428    [afferent, nipple, valve, malfunction, caused,...\n",
              "10429    [extracorporeal, shock, wave, lithotripsy, com...\n",
              "10430    [tamm, horsfall, autoantibodies, interstitial,...\n",
              "10431    [results, contemporary, radical, cystectomy, i...\n",
              "10432    [total, bladder, replacement, using, detubular...\n",
              "Name: text, Length: 10433, dtype: object"
            ]
          },
          "execution_count": 10,
          "metadata": {},
          "output_type": "execute_result"
        }
      ],
      "source": [
        "dfTrain[\"text\"]"
      ]
    },
    {
      "cell_type": "markdown",
      "metadata": {
        "id": "ChuL7cQbxiyB"
      },
      "source": [
        "### Output cleaning"
      ]
    },
    {
      "cell_type": "code",
      "execution_count": null,
      "metadata": {
        "id": "lw8y7M3fIXVg"
      },
      "outputs": [],
      "source": [
        "labels = dfTest[\"class\"].unique().tolist()#list of unique outputs\n",
        "mapping = dict(zip(labels,range(len(labels))))#dictionnary between unique outputs and indexes\n",
        "dfTest.replace({\"class\":mapping},inplace=True)#replacing outputs by there indexes in the dictionnary\n",
        "dfTrain.replace({\"class\":mapping},inplace=True)"
      ]
    },
    {
      "cell_type": "code",
      "execution_count": null,
      "metadata": {
        "id": "6v_z4bHNxnj1"
      },
      "outputs": [],
      "source": [
        "y_train = dfTrain[\"class\"]\n",
        "y_test = dfTest[\"class\"]"
      ]
    },
    {
      "cell_type": "code",
      "execution_count": null,
      "metadata": {
        "id": "Si5foUDRxK_O"
      },
      "outputs": [],
      "source": [
        "y_train = tf.keras.utils.to_categorical(y_train, num_classes=23)"
      ]
    },
    {
      "cell_type": "code",
      "execution_count": null,
      "metadata": {
        "id": "IZi9V6UNxpbT"
      },
      "outputs": [],
      "source": [
        "y_test = tf.keras.utils.to_categorical(y_test, num_classes=23)"
      ]
    },
    {
      "cell_type": "markdown",
      "metadata": {
        "id": "SGTWx3bUuHLR"
      },
      "source": [
        "## Retrieving train and test set"
      ]
    },
    {
      "cell_type": "code",
      "execution_count": null,
      "metadata": {
        "id": "ZO0ioiZ-uKZc"
      },
      "outputs": [],
      "source": [
        "x_train = dfTrain[\"text\"]\n",
        "x_test = dfTest[\"text\"]"
      ]
    },
    {
      "cell_type": "markdown",
      "metadata": {
        "id": "A6WDeZckpP7P"
      },
      "source": [
        "## Tokenize"
      ]
    },
    {
      "cell_type": "code",
      "execution_count": null,
      "metadata": {
        "id": "WXwI9Jqsp3Qk"
      },
      "outputs": [],
      "source": [
        "def get_max_length():\n",
        "    review_length = []\n",
        "    for review in x_train:\n",
        "        review_length.append(len(review))\n",
        "\n",
        "    return int(np.ceil(np.mean(review_length)))"
      ]
    },
    {
      "cell_type": "code",
      "execution_count": null,
      "metadata": {
        "colab": {
          "base_uri": "https://localhost:8080/"
        },
        "id": "hUIaTxVdj43n",
        "outputId": "da237ea5-606b-4da7-ffff-9e19f24bd897"
      },
      "outputs": [
        {
          "name": "stdout",
          "output_type": "stream",
          "text": [
            "Encoded X Train\n",
            " [[ 5193 14808    77 ...     0     0     0]\n",
            " [  211  1075  8608 ...     0     0     0]\n",
            " [  553   218   365 ...     0     0     0]\n",
            " ...\n",
            " [ 4991  4992  2104 ...     0     0     0]\n",
            " [   20  5924   763 ...  1854   216  2528]\n",
            " [   86   422   553 ...     0     0     0]] \n",
            "\n",
            "Encoded X Test\n",
            " [[ 3705  2377  1165 ...     0     0     0]\n",
            " [  784 12827  1953 ...  1619  1710  2150]\n",
            " [  699    96  2161 ...   300   400   160]\n",
            " ...\n",
            " [  479  1571  4739 ...   194    77 10236]\n",
            " [  184   163   279 ...   346   184   279]\n",
            " [  835  7339  2064 ...     0     0     0]] \n",
            "\n",
            "Maximum review length:  112\n"
          ]
        }
      ],
      "source": [
        "# ENCODE REVIEW\n",
        "token = Tokenizer(lower=False)    # no need lower, because already lowered the data in load_data()\n",
        "token.fit_on_texts(x_train)\n",
        "x_train = token.texts_to_sequences(x_train)\n",
        "x_test = token.texts_to_sequences(x_test)\n",
        "\n",
        "max_length = get_max_length()\n",
        "\n",
        "x_train = pad_sequences(x_train, maxlen=max_length, padding='post', truncating='post')\n",
        "x_test = pad_sequences(x_test, maxlen=max_length, padding='post', truncating='post')\n",
        "\n",
        "total_words = len(token.word_index) + 1   # add 1 because of 0 padding\n",
        "\n",
        "print('Encoded X Train\\n', x_train, '\\n')\n",
        "print('Encoded X Test\\n', x_test, '\\n')\n",
        "print('Maximum review length: ', max_length)"
      ]
    },
    {
      "cell_type": "code",
      "execution_count": null,
      "metadata": {
        "colab": {
          "base_uri": "https://localhost:8080/"
        },
        "id": "2RIDscLc02kf",
        "outputId": "745949ef-89de-4e86-d051-3071d9bcb4c7"
      },
      "outputs": [
        {
          "data": {
            "text/plain": [
              "28308"
            ]
          },
          "execution_count": 18,
          "metadata": {},
          "output_type": "execute_result"
        }
      ],
      "source": [
        "len(list(set(list(token.word_index.keys()))))"
      ]
    },
    {
      "cell_type": "markdown",
      "metadata": {
        "id": "KD3JENJhw8WE"
      },
      "source": [
        "## Model Building"
      ]
    },
    {
      "cell_type": "code",
      "execution_count": null,
      "metadata": {
        "colab": {
          "base_uri": "https://localhost:8080/"
        },
        "id": "-mFC57i7sYQM",
        "outputId": "38b07bea-8dcc-43ea-aa47-6b601032623a"
      },
      "outputs": [
        {
          "name": "stdout",
          "output_type": "stream",
          "text": [
            "Model: \"sequential\"\n",
            "_________________________________________________________________\n",
            " Layer (type)                Output Shape              Param #   \n",
            "=================================================================\n",
            " embedding (Embedding)       (None, 112, 64)           1811776   \n",
            "                                                                 \n",
            " lstm (LSTM)                 (None, 128)               98816     \n",
            "                                                                 \n",
            " dense (Dense)               (None, 23)                2967      \n",
            "                                                                 \n",
            "=================================================================\n",
            "Total params: 1,913,559\n",
            "Trainable params: 1,913,559\n",
            "Non-trainable params: 0\n",
            "_________________________________________________________________\n",
            "None\n"
          ]
        }
      ],
      "source": [
        "# ARCHITECTURE\n",
        "EMBED_DIM = 64\n",
        "LSTM_OUT = 128\n",
        "\n",
        "model = Sequential()\n",
        "model.add(Embedding(total_words, EMBED_DIM, input_length = max_length))\n",
        "model.add(LSTM(LSTM_OUT))\n",
        "model.add(Dense(23, activation='sigmoid'))\n",
        "model.compile(optimizer = 'adam', loss=keras.losses.CategoricalCrossentropy(), metrics = ['accuracy'])\n",
        "\n",
        "print(model.summary())"
      ]
    },
    {
      "cell_type": "markdown",
      "metadata": {
        "id": "n3ZV08gJJeTv"
      },
      "source": [
        "## Model training"
      ]
    },
    {
      "cell_type": "code",
      "execution_count": null,
      "metadata": {
        "colab": {
          "base_uri": "https://localhost:8080/"
        },
        "id": "KUJJ5AVPJg94",
        "outputId": "68b9f710-39e1-43fb-cd44-6beabc36ace9"
      },
      "outputs": [
        {
          "name": "stdout",
          "output_type": "stream",
          "text": [
            "Epoch 1/10\n"
          ]
        },
        {
          "name": "stderr",
          "output_type": "stream",
          "text": [
            "/usr/local/lib/python3.7/dist-packages/tensorflow/python/util/dispatch.py:1082: UserWarning: \"`sparse_categorical_crossentropy` received `from_logits=True`, but the `output` argument was produced by a sigmoid or softmax activation and thus does not represent logits. Was this intended?\"\n",
            "  return dispatch_target(*args, **kwargs)\n"
          ]
        },
        {
          "name": "stdout",
          "output_type": "stream",
          "text": [
            "327/327 [==============================] - 23s 53ms/step - loss: 2.8010 - accuracy: 0.1774 - val_loss: 2.7344 - val_accuracy: 0.1768\n",
            "Epoch 2/10\n",
            "327/327 [==============================] - 13s 39ms/step - loss: 2.6869 - accuracy: 0.2051 - val_loss: 2.6825 - val_accuracy: 0.2085\n",
            "Epoch 3/10\n",
            "327/327 [==============================] - 12s 38ms/step - loss: 2.5526 - accuracy: 0.2467 - val_loss: 2.6112 - val_accuracy: 0.2237\n",
            "Epoch 4/10\n",
            "327/327 [==============================] - 12s 38ms/step - loss: 2.4211 - accuracy: 0.2903 - val_loss: 2.5566 - val_accuracy: 0.2573\n",
            "Epoch 5/10\n",
            "327/327 [==============================] - 12s 37ms/step - loss: 2.3508 - accuracy: 0.3020 - val_loss: 2.5385 - val_accuracy: 0.2572\n",
            "Epoch 6/10\n",
            "327/327 [==============================] - 13s 39ms/step - loss: 2.1993 - accuracy: 0.3478 - val_loss: 2.5255 - val_accuracy: 0.2685\n",
            "Epoch 7/10\n",
            "327/327 [==============================] - 12s 38ms/step - loss: 2.0680 - accuracy: 0.3714 - val_loss: 2.5035 - val_accuracy: 0.2663\n",
            "Epoch 8/10\n",
            "327/327 [==============================] - 12s 38ms/step - loss: 1.9549 - accuracy: 0.3965 - val_loss: 2.5070 - val_accuracy: 0.2733\n",
            "Epoch 9/10\n",
            "327/327 [==============================] - 12s 37ms/step - loss: 1.8663 - accuracy: 0.4152 - val_loss: 2.5572 - val_accuracy: 0.2546\n",
            "Epoch 10/10\n",
            "327/327 [==============================] - 12s 38ms/step - loss: 1.7686 - accuracy: 0.4269 - val_loss: 2.5160 - val_accuracy: 0.2684\n"
          ]
        }
      ],
      "source": [
        "keras.backend.clear_session()\n",
        "FirstHistory = model.fit(x_train, y_train, batch_size = 32, epochs = 10,validation_data=(x_test, y_test))"
      ]
    },
    {
      "cell_type": "markdown",
      "metadata": {
        "id": "m25YS7y_J2Ie"
      },
      "source": [
        "## Model evaluation"
      ]
    },
    {
      "cell_type": "code",
      "execution_count": null,
      "metadata": {
        "id": "PlmU2hSNJ0r8"
      },
      "outputs": [],
      "source": [
        "def plot_history(histories, key='loss'):\n",
        "  plt.figure(figsize=(16,10))\n",
        "\n",
        "  for name, history in histories:\n",
        "    val = plt.plot(history.epoch, history.history['val_'+key],\n",
        "                   '--', label=name.title()+' Val')\n",
        "    plt.plot(history.epoch, history.history[key], color=val[0].get_color(),\n",
        "             label=name.title()+' Train')\n",
        "\n",
        "  plt.xlabel('Epochs')\n",
        "  plt.ylabel(key.replace('_',' ').title())\n",
        "  plt.legend()\n"
      ]
    },
    {
      "cell_type": "code",
      "execution_count": null,
      "metadata": {
        "colab": {
          "base_uri": "https://localhost:8080/",
          "height": 606
        },
        "id": "VtOSNgzTJ7E-",
        "outputId": "ea7ccdb7-9995-4e85-b748-4e886ae0234f"
      },
      "outputs": [
        {
          "data": {
            "image/png": "[encoded data removed]",
            "text/plain": [
              "<Figure size 1152x720 with 1 Axes>"
            ]
          },
          "metadata": {},
          "output_type": "display_data"
        }
      ],
      "source": [
        "plot_history([('baseline', FirstHistory)])"
      ]
    },
    {
      "cell_type": "code",
      "execution_count": null,
      "metadata": {
        "colab": {
          "base_uri": "https://localhost:8080/"
        },
        "id": "UGi3DoxzPkfg",
        "outputId": "1e827dc3-d204-4ceb-9081-511bba529721"
      },
      "outputs": [
        {
          "name": "stdout",
          "output_type": "stream",
          "text": [
            "327/327 [==============================] - 4s 13ms/step - loss: 1.6487 - accuracy: 0.4664\n"
          ]
        }
      ],
      "source": [
        "loss,accuracy = model.evaluate(x_train,y_train)"
      ]
    },
    {
      "cell_type": "code",
      "execution_count": null,
      "metadata": {
        "colab": {
          "base_uri": "https://localhost:8080/"
        },
        "id": "RglPuIP2Pk-h",
        "outputId": "52e07669-7118-42d1-cd8d-dd6d5a65d784"
      },
      "outputs": [
        {
          "name": "stdout",
          "output_type": "stream",
          "text": [
            "398/398 [==============================] - 5s 13ms/step - loss: 2.5160 - accuracy: 0.2684\n"
          ]
        }
      ],
      "source": [
        "loss,accuracy = model.evaluate(x_test,y_test)"
      ]
    },
    {
      "cell_type": "markdown",
      "metadata": {
        "id": "R5dzL7qKdugU"
      },
      "source": [
        "Our results are quite disapointing. In order to achieve better performances, we will increase the complexity of the network and add dropout."
      ]
    },
    {
      "cell_type": "markdown",
      "metadata": {
        "id": "0G-XRt9reqMI"
      },
      "source": [
        "## Bigger Network"
      ]
    },
    {
      "cell_type": "code",
      "execution_count": null,
      "metadata": {
        "colab": {
          "base_uri": "https://localhost:8080/"
        },
        "id": "_xpYpiwHes-o",
        "outputId": "1ad3a207-08a5-4de2-be9e-4600a3656f26"
      },
      "outputs": [
        {
          "name": "stdout",
          "output_type": "stream",
          "text": [
            "Model: \"sequential\"\n",
            "_________________________________________________________________\n",
            " Layer (type)                Output Shape              Param #   \n",
            "=================================================================\n",
            " embedding (Embedding)       (None, 112, 64)           1811776   \n",
            "                                                                 \n",
            " lstm (LSTM)                 (None, 128)               98816     \n",
            "                                                                 \n",
            " dropout (Dropout)           (None, 128)               0         \n",
            "                                                                 \n",
            " dense (Dense)               (None, 128)               16512     \n",
            "                                                                 \n",
            " dropout_1 (Dropout)         (None, 128)               0         \n",
            "                                                                 \n",
            " dense_1 (Dense)             (None, 23)                2967      \n",
            "                                                                 \n",
            "=================================================================\n",
            "Total params: 1,930,071\n",
            "Trainable params: 1,930,071\n",
            "Non-trainable params: 0\n",
            "_________________________________________________________________\n",
            "None\n"
          ]
        }
      ],
      "source": [
        "# ARCHITECTURE\n",
        "EMBED_DIM = 64\n",
        "LSTM_OUT = 128\n",
        "\n",
        "Bigmodel = Sequential()\n",
        "Bigmodel.add(Embedding(total_words, EMBED_DIM, input_length = max_length))\n",
        "Bigmodel.add(LSTM(LSTM_OUT))\n",
        "Bigmodel.add(Dropout(0.2))\n",
        "Bigmodel.add(Dense(128, activation='sigmoid'))\n",
        "Bigmodel.add(Dropout(0.2))\n",
        "Bigmodel.add(Dense(23, activation='sigmoid'))\n",
        "Bigmodel.compile(optimizer = 'adam', loss=keras.losses.CategoricalCrossentropy(), metrics = ['accuracy'])\n",
        "\n",
        "print(Bigmodel.summary())"
      ]
    },
    {
      "cell_type": "code",
      "execution_count": null,
      "metadata": {
        "colab": {
          "base_uri": "https://localhost:8080/"
        },
        "id": "_FlJu21Se07L",
        "outputId": "c2e8506f-662e-4b5a-f1ed-4a2a4775482f"
      },
      "outputs": [
        {
          "name": "stdout",
          "output_type": "stream",
          "text": [
            "Epoch 1/5\n"
          ]
        },
        {
          "name": "stderr",
          "output_type": "stream",
          "text": [
            "/usr/local/lib/python3.7/dist-packages/tensorflow/python/util/dispatch.py:1082: UserWarning: \"`sparse_categorical_crossentropy` received `from_logits=True`, but the `output` argument was produced by a sigmoid or softmax activation and thus does not represent logits. Was this intended?\"\n",
            "  return dispatch_target(*args, **kwargs)\n"
          ]
        },
        {
          "name": "stdout",
          "output_type": "stream",
          "text": [
            "653/653 [==============================] - 30s 42ms/step - loss: 2.8364 - accuracy: 0.1619 - val_loss: 2.7456 - val_accuracy: 0.1963\n",
            "Epoch 2/5\n",
            "653/653 [==============================] - 26s 40ms/step - loss: 2.7165 - accuracy: 0.1985 - val_loss: 2.7040 - val_accuracy: 0.2000\n",
            "Epoch 3/5\n",
            "653/653 [==============================] - 26s 40ms/step - loss: 2.6655 - accuracy: 0.2092 - val_loss: 2.6729 - val_accuracy: 0.2170\n",
            "Epoch 4/5\n",
            "653/653 [==============================] - 26s 40ms/step - loss: 2.6060 - accuracy: 0.2328 - val_loss: 2.6828 - val_accuracy: 0.2129\n",
            "Epoch 5/5\n",
            "653/653 [==============================] - 27s 41ms/step - loss: 2.5639 - accuracy: 0.2464 - val_loss: 2.6249 - val_accuracy: 0.2465\n"
          ]
        }
      ],
      "source": [
        "keras.backend.clear_session()\n",
        "BigHistory = Bigmodel.fit(x_train, y_train, batch_size = 16, epochs = 5,validation_data=(x_test, y_test))"
      ]
    },
    {
      "cell_type": "code",
      "execution_count": null,
      "metadata": {
        "colab": {
          "base_uri": "https://localhost:8080/",
          "height": 605
        },
        "id": "nk-sJ9rPe77s",
        "outputId": "17d9446c-9b19-4495-decb-0f6dd529085e"
      },
      "outputs": [
        {
          "data": {
            "image/png": "[encoded data removed]",
            "text/plain": [
              "<Figure size 1152x720 with 1 Axes>"
            ]
          },
          "metadata": {},
          "output_type": "display_data"
        }
      ],
      "source": [
        "plot_history([('baseline', BigHistory)])"
      ]
    },
    {
      "cell_type": "code",
      "execution_count": null,
      "metadata": {
        "colab": {
          "base_uri": "https://localhost:8080/"
        },
        "id": "t3tN1Oi1e6Hw",
        "outputId": "369ca785-2a04-4c74-be7a-86e6e2d43e33"
      },
      "outputs": [
        {
          "name": "stdout",
          "output_type": "stream",
          "text": [
            "327/327 [==============================] - 4s 12ms/step - loss: 2.4613 - accuracy: 0.2783\n"
          ]
        }
      ],
      "source": [
        "loss,accuracy = Bigmodel.evaluate(x_train,y_train)"
      ]
    },
    {
      "cell_type": "code",
      "execution_count": null,
      "metadata": {
        "colab": {
          "base_uri": "https://localhost:8080/"
        },
        "id": "Esden40Ue4Ee",
        "outputId": "182e108b-6e03-4596-971b-99efa6bc2d93"
      },
      "outputs": [
        {
          "name": "stdout",
          "output_type": "stream",
          "text": [
            "398/398 [==============================] - 5s 11ms/step - loss: 2.6249 - accuracy: 0.2465\n"
          ]
        }
      ],
      "source": [
        "loss,accuracy = Bigmodel.evaluate(x_test,y_test)"
      ]
    },
    {
      "cell_type": "markdown",
      "metadata": {
        "id": "b6MGF222g5Tl"
      },
      "source": [
        "The accuracy did not really increase by adding another layer, so we deduced that the problem was coming from somewhere else. So we decided to apply stemming to our data."
      ]
    },
    {
      "cell_type": "markdown",
      "metadata": {
        "id": "lBC7fM1Nphwr"
      },
      "source": [
        "## Applying stemming"
      ]
    },
    {
      "cell_type": "markdown",
      "metadata": {
        "id": "W9b2yZP-H1Pa"
      },
      "source": [
        "### Data treatment and imports"
      ]
    },
    {
      "cell_type": "markdown",
      "metadata": {
        "id": "uk3PTf2PExu9"
      },
      "source": [
        "We start by importing the Lancaster stemmer from the nltk library  and retreiving the data from the dataset."
      ]
    },
    {
      "cell_type": "code",
      "execution_count": null,
      "metadata": {
        "id": "tsdqygTophGN"
      },
      "outputs": [],
      "source": [
        "from nltk.stem import LancasterStemmer\n",
        "Lancaster = LancasterStemmer()"
      ]
    },
    {
      "cell_type": "code",
      "execution_count": null,
      "metadata": {
        "id": "EhthcGENqBdJ"
      },
      "outputs": [],
      "source": [
        "x_trainStem = dfTrain[\"text\"]\n",
        "x_testStem = dfTest[\"text\"]"
      ]
    },
    {
      "cell_type": "markdown",
      "metadata": {
        "id": "wc6isPtVE8qG"
      },
      "source": [
        "We then make a function that we will apply to every review of the dataset. This function uses the stemmer to replace each word in a review by its stem so that our model can work on simpler data and be more efficient."
      ]
    },
    {
      "cell_type": "code",
      "execution_count": null,
      "metadata": {
        "id": "6RCzWbchq-E5"
      },
      "outputs": [],
      "source": [
        "def stemList(Li):\n",
        "  StemLi =[]\n",
        "  for word in Li:\n",
        "    StemLi.append(Lancaster.stem(word))\n",
        "  return StemLi"
      ]
    },
    {
      "cell_type": "code",
      "execution_count": null,
      "metadata": {
        "id": "Is1_2VepqGxx"
      },
      "outputs": [],
      "source": [
        "x_trainStem=x_trainStem.apply(lambda x : stemList(x))"
      ]
    },
    {
      "cell_type": "code",
      "execution_count": null,
      "metadata": {
        "id": "iu6Fzzwar53Z"
      },
      "outputs": [],
      "source": [
        "x_testStem = x_testStem.apply(lambda x : stemList(x))"
      ]
    },
    {
      "cell_type": "code",
      "execution_count": null,
      "metadata": {
        "colab": {
          "base_uri": "https://localhost:8080/"
        },
        "id": "cwkC3s_lFawI",
        "outputId": "ef464a5a-2b58-4817-8565-edc170380b02"
      },
      "outputs": [
        {
          "data": {
            "text/plain": [
              "['mentoplasty', 'howev', 'optim', 'impl', 'mat']"
            ]
          },
          "execution_count": 24,
          "metadata": {},
          "output_type": "execute_result"
        }
      ],
      "source": [
        "x_trainStem[0][10:15]"
      ]
    },
    {
      "cell_type": "markdown",
      "metadata": {
        "id": "v9SxU447Fkj5"
      },
      "source": [
        "We can see here that words don't make any sense anymore and are just the \"base\" of words."
      ]
    },
    {
      "cell_type": "markdown",
      "metadata": {
        "id": "y7ztu0TdrvZ9"
      },
      "source": [
        "### Tokenizing"
      ]
    },
    {
      "cell_type": "markdown",
      "metadata": {
        "id": "NR5oYD9cFzQY"
      },
      "source": [
        "We then make the same treatment as before on our data by replacing each word by a number."
      ]
    },
    {
      "cell_type": "code",
      "execution_count": null,
      "metadata": {
        "id": "tiaPaMeAWH8k"
      },
      "outputs": [],
      "source": [
        "def get_max_length():\n",
        "    review_length = []\n",
        "    for review in x_trainStem:\n",
        "        review_length.append(len(review))\n",
        "\n",
        "    return int(np.ceil(np.mean(review_length)))"
      ]
    },
    {
      "cell_type": "code",
      "execution_count": null,
      "metadata": {
        "colab": {
          "base_uri": "https://localhost:8080/"
        },
        "id": "zMvoaxDrrlPl",
        "outputId": "c6c711c3-7b9c-45a9-ff85-3ff01c36bfa3"
      },
      "outputs": [
        {
          "name": "stdout",
          "output_type": "stream",
          "text": [
            "Encoded X Train\n",
            " [[1564 9706    5 ...    0    0    0]\n",
            " [ 300 1037 4406 ...    0    0    0]\n",
            " [ 494  218  350 ...    0    0    0]\n",
            " ...\n",
            " [2932 3610 1463 ...    0    0    0]\n",
            " [  19 3935  610 ...  265   63 1309]\n",
            " [ 132  506  494 ...    0    0    0]] \n",
            "\n",
            "Encoded X Test\n",
            " [[2651 1941 1089 ...    0    0    0]\n",
            " [ 470 7928  870 ...   47  116    3]\n",
            " [ 752   74 1797 ...  296  369  168]\n",
            " ...\n",
            " [ 563 1090 2255 ...   70    5 1480]\n",
            " [ 210  204  205 ...  415  210  205]\n",
            " [ 488 2330 1595 ...    0    0    0]] \n",
            "\n",
            "Maximum review length:  112\n"
          ]
        }
      ],
      "source": [
        "# ENCODE REVIEW\n",
        "token = Tokenizer(lower=False)    # no need lower, because already lowered the data in load_data()\n",
        "token.fit_on_texts(x_trainStem)\n",
        "x_trainStem = token.texts_to_sequences(x_trainStem)\n",
        "x_testStem = token.texts_to_sequences(x_testStem)\n",
        "\n",
        "max_length = get_max_length()\n",
        "\n",
        "x_trainStem = pad_sequences(x_trainStem, maxlen=max_length, padding='post', truncating='post')\n",
        "x_testStem = pad_sequences(x_testStem, maxlen=max_length, padding='post', truncating='post')\n",
        "\n",
        "total_words = len(token.word_index) + 1   # add 1 because of 0 padding\n",
        "\n",
        "print('Encoded X Train\\n', x_trainStem, '\\n')\n",
        "print('Encoded X Test\\n', x_testStem, '\\n')\n",
        "print('Maximum review length: ', max_length)"
      ]
    },
    {
      "cell_type": "code",
      "execution_count": null,
      "metadata": {
        "colab": {
          "base_uri": "https://localhost:8080/"
        },
        "id": "M6Zlv25K0zGk",
        "outputId": "c3b90bd2-68ce-4183-c711-dee421f0d446"
      },
      "outputs": [
        {
          "data": {
            "text/plain": [
              "17479"
            ]
          },
          "execution_count": 27,
          "metadata": {},
          "output_type": "execute_result"
        }
      ],
      "source": [
        "len(list(set(list(token.word_index.keys()))))"
      ]
    },
    {
      "cell_type": "markdown",
      "metadata": {
        "id": "i7eiTUwAF93F"
      },
      "source": [
        "We can see here that our number of data has decrease from 28308 words to 17489 words, which theorically, should help our model."
      ]
    },
    {
      "cell_type": "markdown",
      "metadata": {
        "id": "-jHqljr3s0KI"
      },
      "source": [
        "### Model"
      ]
    },
    {
      "cell_type": "markdown",
      "metadata": {
        "id": "v2x3NuyDGYHZ"
      },
      "source": [
        "We decided to directly go to a bigger model and to keep the dropout while adding some early stopping to make the task easier."
      ]
    },
    {
      "cell_type": "code",
      "execution_count": null,
      "metadata": {
        "colab": {
          "base_uri": "https://localhost:8080/"
        },
        "id": "hr1c9_Nps0we",
        "outputId": "2c03bf8d-93ca-461a-dc67-b26f95f5ec44"
      },
      "outputs": [
        {
          "name": "stdout",
          "output_type": "stream",
          "text": [
            "Model: \"sequential\"\n",
            "_________________________________________________________________\n",
            " Layer (type)                Output Shape              Param #   \n",
            "=================================================================\n",
            " embedding (Embedding)       (None, 112, 64)           1118720   \n",
            "                                                                 \n",
            " lstm (LSTM)                 (None, 128)               98816     \n",
            "                                                                 \n",
            " dense (Dense)               (None, 528)               68112     \n",
            "                                                                 \n",
            " dropout (Dropout)           (None, 528)               0         \n",
            "                                                                 \n",
            " dense_1 (Dense)             (None, 528)               279312    \n",
            "                                                                 \n",
            " dropout_1 (Dropout)         (None, 528)               0         \n",
            "                                                                 \n",
            " dense_2 (Dense)             (None, 23)                12167     \n",
            "                                                                 \n",
            "=================================================================\n",
            "Total params: 1,577,127\n",
            "Trainable params: 1,577,127\n",
            "Non-trainable params: 0\n",
            "_________________________________________________________________\n",
            "None\n"
          ]
        }
      ],
      "source": [
        "# ARCHITECTURE\n",
        "EMBED_DIM = 64\n",
        "LSTM_OUT = 128\n",
        "\n",
        "Stemmodel = Sequential()\n",
        "Stemmodel.add(Embedding(total_words, EMBED_DIM, input_length = max_length))\n",
        "Stemmodel.add(LSTM(LSTM_OUT))\n",
        "Stemmodel.add(Dense(528, activation='sigmoid'))\n",
        "Stemmodel.add(Dropout(0.3))\n",
        "Stemmodel.add(Dense(528, activation='sigmoid'))\n",
        "Stemmodel.add(Dropout(0.3))\n",
        "Stemmodel.add(Dense(23, activation='sigmoid'))\n",
        "Stemmodel.compile(optimizer = 'adam', loss=keras.losses.CategoricalCrossentropy(), metrics = ['accuracy'])\n",
        "\n",
        "print(Stemmodel.summary())"
      ]
    },
    {
      "cell_type": "code",
      "execution_count": null,
      "metadata": {
        "id": "Z0Xbr6TyHdiu"
      },
      "outputs": [],
      "source": [
        "callback = tf.keras.callbacks.EarlyStopping(monitor='val_loss', patience=3)"
      ]
    },
    {
      "cell_type": "markdown",
      "metadata": {
        "id": "18jL_hU0H5--"
      },
      "source": [
        "### Training"
      ]
    },
    {
      "cell_type": "code",
      "execution_count": null,
      "metadata": {
        "colab": {
          "base_uri": "https://localhost:8080/"
        },
        "id": "HwvI4WTls_LV",
        "outputId": "310fd7c5-cd58-47f7-f27e-d931ef9b0a8a"
      },
      "outputs": [
        {
          "name": "stdout",
          "output_type": "stream",
          "text": [
            "Epoch 1/50\n",
            "327/327 [==============================] - 18s 47ms/step - loss: 2.8510 - accuracy: 0.1714 - val_loss: 2.7853 - val_accuracy: 0.1848\n",
            "Epoch 2/50\n",
            "327/327 [==============================] - 15s 46ms/step - loss: 2.7584 - accuracy: 0.1863 - val_loss: 2.7715 - val_accuracy: 0.1768\n",
            "Epoch 3/50\n",
            "327/327 [==============================] - 15s 45ms/step - loss: 2.7301 - accuracy: 0.1923 - val_loss: 2.7102 - val_accuracy: 0.1901\n",
            "Epoch 4/50\n",
            "327/327 [==============================] - 15s 47ms/step - loss: 2.6402 - accuracy: 0.2257 - val_loss: 2.6383 - val_accuracy: 0.2398\n",
            "Epoch 5/50\n",
            "327/327 [==============================] - 16s 49ms/step - loss: 2.5566 - accuracy: 0.2581 - val_loss: 2.6070 - val_accuracy: 0.2497\n",
            "Epoch 6/50\n",
            "327/327 [==============================] - 15s 46ms/step - loss: 2.5030 - accuracy: 0.2723 - val_loss: 2.5865 - val_accuracy: 0.2495\n",
            "Epoch 7/50\n",
            "327/327 [==============================] - 15s 45ms/step - loss: 2.5251 - accuracy: 0.2637 - val_loss: 2.6082 - val_accuracy: 0.2394\n",
            "Epoch 8/50\n",
            "327/327 [==============================] - 17s 52ms/step - loss: 2.4444 - accuracy: 0.2812 - val_loss: 2.5821 - val_accuracy: 0.2536\n",
            "Epoch 9/50\n",
            "327/327 [==============================] - 16s 49ms/step - loss: 2.4084 - accuracy: 0.2868 - val_loss: 2.5844 - val_accuracy: 0.2570\n",
            "Epoch 10/50\n",
            "327/327 [==============================] - 16s 48ms/step - loss: 2.3722 - accuracy: 0.2926 - val_loss: 2.5663 - val_accuracy: 0.2603\n",
            "Epoch 11/50\n",
            "327/327 [==============================] - 15s 45ms/step - loss: 2.3467 - accuracy: 0.2939 - val_loss: 2.5834 - val_accuracy: 0.2617\n",
            "Epoch 12/50\n",
            "327/327 [==============================] - 14s 43ms/step - loss: 2.3139 - accuracy: 0.2941 - val_loss: 2.5913 - val_accuracy: 0.2637\n",
            "Epoch 13/50\n",
            "327/327 [==============================] - 14s 43ms/step - loss: 2.2979 - accuracy: 0.2990 - val_loss: 2.6162 - val_accuracy: 0.2445\n"
          ]
        }
      ],
      "source": [
        "keras.backend.clear_session()\n",
        "StemHistory = Stemmodel.fit(x_trainStem, y_train, batch_size = 32, epochs = 50,callbacks =[callback],validation_data=(x_testStem, y_test))"
      ]
    },
    {
      "cell_type": "code",
      "execution_count": null,
      "metadata": {
        "colab": {
          "base_uri": "https://localhost:8080/",
          "height": 606
        },
        "id": "pwLdrvA9IlK-",
        "outputId": "16998890-829b-43dd-9d5d-5b3d865feced"
      },
      "outputs": [
        {
          "data": {
            "image/png": "[encoded data removed]",
            "text/plain": [
              "<Figure size 1152x720 with 1 Axes>"
            ]
          },
          "metadata": {},
          "output_type": "display_data"
        }
      ],
      "source": [
        "plot_history([('baseline', StemHistory)])"
      ]
    },
    {
      "cell_type": "markdown",
      "metadata": {
        "id": "VtmSPlg_Im_V"
      },
      "source": [
        "Quite surprisingly, the prediction was not better than without the stemming. The early stopping made the model stop after it had started to overfit, but the best values we got were around 2,6. We decided to keep the stemmed dataset for the next models because we still believed it was better for the classification. Especially with the bigger dataset where we would have even more words."
      ]
    },
    {
      "cell_type": "markdown",
      "metadata": {
        "id": "dShmcuyzIBDZ"
      },
      "source": [
        "## Regularization"
      ]
    },
    {
      "cell_type": "markdown",
      "metadata": {
        "id": "x00GuPheIFqq"
      },
      "source": [
        "In this part, we tried adding regularizationg to the previous model to try to reduce the overfitting."
      ]
    },
    {
      "cell_type": "code",
      "execution_count": null,
      "metadata": {
        "id": "BA6C3X0ANNYK"
      },
      "outputs": [],
      "source": [
        "from tensorflow.keras import regularizers"
      ]
    },
    {
      "cell_type": "markdown",
      "metadata": {
        "id": "sB8ztcIHJmpc"
      },
      "source": [
        "### Model building"
      ]
    },
    {
      "cell_type": "markdown",
      "metadata": {
        "id": "UinG_Ob_J7oK"
      },
      "source": [
        "We tried different regularization like kernel, bias and activity. We ended up trying with regularization from [this](https://keras.io/api/layers/regularizers/) website.<br>\n",
        "As the site says:<br>\n",
        "*   kernel_regularizer: Regularizer to apply a penalty on the layer's kernel\n",
        "*   bias_regularizer: Regularizer to apply a penalty on the layer's bias\n",
        "*   activity_regularizer: Regularizer to apply a penalty on the layer's outpu"
      ]
    },
    {
      "cell_type": "code",
      "execution_count": null,
      "metadata": {
        "colab": {
          "base_uri": "https://localhost:8080/"
        },
        "id": "zM_xestdIEt9",
        "outputId": "dc67fed3-4d0d-4608-ea03-4109bf387b57"
      },
      "outputs": [
        {
          "name": "stdout",
          "output_type": "stream",
          "text": [
            "Model: \"sequential_1\"\n",
            "_________________________________________________________________\n",
            " Layer (type)                Output Shape              Param #   \n",
            "=================================================================\n",
            " embedding_1 (Embedding)     (None, 112, 64)           1118720   \n",
            "                                                                 \n",
            " lstm_1 (LSTM)               (None, 128)               98816     \n",
            "                                                                 \n",
            " dense (Dense)               (None, 528)               68112     \n",
            "                                                                 \n",
            " dropout (Dropout)           (None, 528)               0         \n",
            "                                                                 \n",
            " dense_1 (Dense)             (None, 528)               279312    \n",
            "                                                                 \n",
            " dropout_1 (Dropout)         (None, 528)               0         \n",
            "                                                                 \n",
            " dense_2 (Dense)             (None, 23)                12167     \n",
            "                                                                 \n",
            "=================================================================\n",
            "Total params: 1,577,127\n",
            "Trainable params: 1,577,127\n",
            "Non-trainable params: 0\n",
            "_________________________________________________________________\n",
            "None\n"
          ]
        }
      ],
      "source": [
        "# ARCHITECTURE\n",
        "EMBED_DIM = 64\n",
        "LSTM_OUT = 128\n",
        "\n",
        "Regmodel = Sequential()\n",
        "Regmodel.add(Embedding(total_words, EMBED_DIM, input_length = max_length))\n",
        "Regmodel.add(LSTM(LSTM_OUT))\n",
        "Regmodel.add(Dense(528,\n",
        "    kernel_regularizer=regularizers.l1_l2(l1=1e-5, l2=1e-4),\n",
        "    bias_regularizer=regularizers.l2(1e-4),\n",
        "    activity_regularizer=regularizers.l2(1e-5), activation='sigmoid'))\n",
        "Regmodel.add(Dropout(0.2))\n",
        "Regmodel.add(Dense(528,\n",
        "    kernel_regularizer=regularizers.l1_l2(l1=1e-5, l2=1e-4),\n",
        "    bias_regularizer=regularizers.l2(1e-4),\n",
        "    activity_regularizer=regularizers.l2(1e-5), activation='sigmoid'))\n",
        "Regmodel.add(Dropout(0.2))\n",
        "Regmodel.add(Dense(23, activation='sigmoid'))\n",
        "Regmodel.compile(optimizer = 'adam', loss=keras.losses.CategoricalCrossentropy(), metrics = ['accuracy'])\n",
        "\n",
        "print(Regmodel.summary())"
      ]
    },
    {
      "cell_type": "code",
      "execution_count": null,
      "metadata": {
        "id": "dID98umpJ08y"
      },
      "outputs": [],
      "source": [
        "callback = tf.keras.callbacks.EarlyStopping(monitor='val_loss', patience=3)"
      ]
    },
    {
      "cell_type": "markdown",
      "metadata": {
        "id": "cSn0PcuhJ5un"
      },
      "source": [
        "### Training"
      ]
    },
    {
      "cell_type": "code",
      "execution_count": null,
      "metadata": {
        "colab": {
          "base_uri": "https://localhost:8080/"
        },
        "id": "-jIMypQPJ7Fu",
        "outputId": "9879c20c-5bdf-411c-83f6-a5f7e5f52c87"
      },
      "outputs": [
        {
          "name": "stdout",
          "output_type": "stream",
          "text": [
            "Epoch 1/50\n",
            "327/327 [==============================] - 17s 44ms/step - loss: 3.0331 - accuracy: 0.1578 - val_loss: 2.9782 - val_accuracy: 0.1691\n",
            "Epoch 2/50\n",
            "327/327 [==============================] - 14s 42ms/step - loss: 2.9088 - accuracy: 0.1835 - val_loss: 2.8524 - val_accuracy: 0.1808\n",
            "Epoch 3/50\n",
            "327/327 [==============================] - 13s 41ms/step - loss: 2.8209 - accuracy: 0.1916 - val_loss: 2.8482 - val_accuracy: 0.1899\n",
            "Epoch 4/50\n",
            "327/327 [==============================] - 13s 41ms/step - loss: 2.7600 - accuracy: 0.2020 - val_loss: 2.7773 - val_accuracy: 0.2007\n",
            "Epoch 5/50\n",
            "327/327 [==============================] - 13s 41ms/step - loss: 2.7137 - accuracy: 0.2120 - val_loss: 2.7254 - val_accuracy: 0.2187\n",
            "Epoch 6/50\n",
            "327/327 [==============================] - 13s 40ms/step - loss: 2.7213 - accuracy: 0.2112 - val_loss: 2.8225 - val_accuracy: 0.2123\n",
            "Epoch 7/50\n",
            "327/327 [==============================] - 13s 40ms/step - loss: 2.6820 - accuracy: 0.2283 - val_loss: 2.7555 - val_accuracy: 0.2022\n",
            "Epoch 8/50\n",
            "327/327 [==============================] - 13s 41ms/step - loss: 2.6768 - accuracy: 0.2295 - val_loss: 2.7485 - val_accuracy: 0.2042\n"
          ]
        }
      ],
      "source": [
        "keras.backend.clear_session()\n",
        "RegHistory = Regmodel.fit(x_trainStem, y_train, batch_size = 32, epochs = 50,callbacks =[callback],validation_data=(x_testStem, y_test))"
      ]
    },
    {
      "cell_type": "markdown",
      "metadata": {
        "id": "JFFLTJYNK0Bc"
      },
      "source": [
        "### Evaluation"
      ]
    },
    {
      "cell_type": "code",
      "execution_count": null,
      "metadata": {
        "colab": {
          "base_uri": "https://localhost:8080/",
          "height": 608
        },
        "id": "g9Og4mSjK1am",
        "outputId": "2688133c-05aa-4d58-f5f9-c33f0305c723"
      },
      "outputs": [
        {
          "data": {
            "image/png": "[encoded data removed]",
            "text/plain": [
              "<Figure size 1152x720 with 1 Axes>"
            ]
          },
          "metadata": {},
          "output_type": "display_data"
        }
      ],
      "source": [
        "plot_history([('baseline', RegHistory)])"
      ]
    },
    {
      "cell_type": "markdown",
      "metadata": {
        "id": "WWLknBY_OhNf"
      },
      "source": [
        "Unfortunatly, none of the parameters that we tried actually worked, it did reduced the overfitting, but reduced its overall quality as well. We decided to not use it."
      ]
    },
    {
      "cell_type": "markdown",
      "metadata": {
        "id": "fKr2FNawO1Eo"
      },
      "source": [
        "## Keras Tuner"
      ]
    },
    {
      "cell_type": "markdown",
      "metadata": {
        "id": "U66HwZnmTW8M"
      },
      "source": [
        "After searching throught internet, We found a automatic model tuner called \"keras tuner\". Since we did not manage to get a good accuracy with our previous models we decided to try this to see if we could get better results.<br>\n",
        "All the code is inspired by [this](https://www.tensorflow.org/tutorials/keras/keras_tuner) tutorial on the tensorflow website."
      ]
    },
    {
      "cell_type": "markdown",
      "metadata": {
        "id": "k5j01E6LUIoO"
      },
      "source": [
        "### Imports"
      ]
    },
    {
      "cell_type": "code",
      "execution_count": null,
      "metadata": {
        "colab": {
          "base_uri": "https://localhost:8080/"
        },
        "id": "OAHvmVW6QbD5",
        "outputId": "64c19f44-7e72-4072-9363-1a89042ee79f"
      },
      "outputs": [
        {
          "name": "stdout",
          "output_type": "stream",
          "text": [
            "\u001b[?25l\r\u001b[K     |██▌                             | 10 kB 25.0 MB/s eta 0:00:01\r\u001b[K     |█████                           | 20 kB 22.6 MB/s eta 0:00:01\r\u001b[K     |███████▍                        | 30 kB 10.7 MB/s eta 0:00:01\r\u001b[K     |█████████▉                      | 40 kB 8.6 MB/s eta 0:00:01\r\u001b[K     |████████████▎                   | 51 kB 4.6 MB/s eta 0:00:01\r\u001b[K     |██████████████▊                 | 61 kB 5.5 MB/s eta 0:00:01\r\u001b[K     |█████████████████▏              | 71 kB 5.5 MB/s eta 0:00:01\r\u001b[K     |███████████████████▋            | 81 kB 5.5 MB/s eta 0:00:01\r\u001b[K     |██████████████████████          | 92 kB 6.1 MB/s eta 0:00:01\r\u001b[K     |████████████████████████▌       | 102 kB 5.2 MB/s eta 0:00:01\r\u001b[K     |███████████████████████████     | 112 kB 5.2 MB/s eta 0:00:01\r\u001b[K     |█████████████████████████████▍  | 122 kB 5.2 MB/s eta 0:00:01\r\u001b[K     |███████████████████████████████▉| 133 kB 5.2 MB/s eta 0:00:01\r\u001b[K     |████████████████████████████████| 133 kB 5.2 MB/s \n",
            "\u001b[?25h"
          ]
        }
      ],
      "source": [
        "!pip install -q -U keras-tuner"
      ]
    },
    {
      "cell_type": "code",
      "execution_count": null,
      "metadata": {
        "id": "O63vOLbsOu9s"
      },
      "outputs": [],
      "source": [
        "import keras_tuner as kt"
      ]
    },
    {
      "cell_type": "markdown",
      "metadata": {
        "id": "S4NNNHmFQnjR"
      },
      "source": [
        "### Model Building"
      ]
    },
    {
      "cell_type": "code",
      "execution_count": null,
      "metadata": {
        "id": "C104ecXzQpYU"
      },
      "outputs": [],
      "source": [
        "# ARCHITECTURE\n",
        "EMBED_DIM = 64\n",
        "def model_builder(hp):\n",
        "\n",
        "  # Tune the number of units in the Dense layers\n",
        "  # Choose an optimal value between 32-512\n",
        "  hp_unitsd1 = hp.Int('unitsd1', min_value=32, max_value=512, step=32)\n",
        "  hp_unitsd2 = hp.Int('unitsd2', min_value=32, max_value=512, step=32)\n",
        "\n",
        "  #same for lstm_out\n",
        "  LSTM_OUT = hp.Int('unitsLSTM', min_value=32, max_value=128, step=32)\n",
        "\n",
        "  KerModel = Sequential()\n",
        "  KerModel.add(Embedding(total_words, EMBED_DIM, input_length = max_length))\n",
        "  KerModel.add(LSTM(units=LSTM_OUT))\n",
        "  KerModel.add(Dense(units=hp_unitsd1, activation='sigmoid'))\n",
        "  KerModel.add(Dropout(0.3))\n",
        "  KerModel.add(Dense(units=hp_unitsd2, activation='sigmoid'))\n",
        "  KerModel.add(Dropout(0.3))\n",
        "  KerModel.add(Dense(23, activation='sigmoid'))\n",
        "\n",
        "  # Tune the learning rate for the optimizer\n",
        "  # Choose an optimal value from 0.01, 0.001, or 0.0001\n",
        "  hp_learning_rate = hp.Choice('learning_rate', values=[1e-2, 1e-3, 1e-4])\n",
        "\n",
        "  KerModel.compile(optimizer=tf.keras.optimizers.Adam(learning_rate=hp_learning_rate), loss=tf.keras.losses.CategoricalCrossentropy(), metrics = ['accuracy'])\n",
        "\n",
        "  print(KerModel.summary())\n",
        "  return KerModel"
      ]
    },
    {
      "cell_type": "markdown",
      "metadata": {
        "id": "H2sgmSssURtx"
      },
      "source": [
        "### Instanciating the tuner"
      ]
    },
    {
      "cell_type": "markdown",
      "metadata": {
        "id": "AN7dejYxXl6E"
      },
      "source": [
        "To instanciate our tuner we need to specify the objective(val_accuracy) and the maximum number of epoch(10)."
      ]
    },
    {
      "cell_type": "code",
      "execution_count": null,
      "metadata": {
        "colab": {
          "base_uri": "https://localhost:8080/"
        },
        "id": "G_95RJVpRgeP",
        "outputId": "3f5c452e-0c16-44c7-fda5-9e36201b7ca1"
      },
      "outputs": [
        {
          "name": "stdout",
          "output_type": "stream",
          "text": [
            "Model: \"sequential\"\n",
            "_________________________________________________________________\n",
            " Layer (type)                Output Shape              Param #   \n",
            "=================================================================\n",
            " embedding (Embedding)       (None, 112, 64)           1118720   \n",
            "                                                                 \n",
            " lstm (LSTM)                 (None, 32)                12416     \n",
            "                                                                 \n",
            " dense (Dense)               (None, 32)                1056      \n",
            "                                                                 \n",
            " dropout (Dropout)           (None, 32)                0         \n",
            "                                                                 \n",
            " dense_1 (Dense)             (None, 32)                1056      \n",
            "                                                                 \n",
            " dropout_1 (Dropout)         (None, 32)                0         \n",
            "                                                                 \n",
            " dense_2 (Dense)             (None, 23)                759       \n",
            "                                                                 \n",
            "=================================================================\n",
            "Total params: 1,134,007\n",
            "Trainable params: 1,134,007\n",
            "Non-trainable params: 0\n",
            "_________________________________________________________________\n",
            "None\n"
          ]
        }
      ],
      "source": [
        "Tuner = kt.Hyperband(model_builder,\n",
        "                     objective='val_accuracy',\n",
        "                     max_epochs=10,\n",
        "                     factor=3,\n",
        "                     directory='my_dir',\n",
        "                     project_name='intro_to_kt',\n",
        "                     overwrite=True,)"
      ]
    },
    {
      "cell_type": "markdown",
      "metadata": {
        "id": "JBu9g1IqX25-"
      },
      "source": [
        "We create a callback to stop the model after reaching a certain validation loss."
      ]
    },
    {
      "cell_type": "code",
      "execution_count": null,
      "metadata": {
        "id": "wObknRxTRolV"
      },
      "outputs": [],
      "source": [
        "stop_early = tf.keras.callbacks.EarlyStopping(monitor='val_loss', patience=5)"
      ]
    },
    {
      "cell_type": "markdown",
      "metadata": {
        "id": "IfwiQieeaRQq"
      },
      "source": [
        "### Running the tuner"
      ]
    },
    {
      "cell_type": "markdown",
      "metadata": {
        "id": "mwbs2vwJYBVQ"
      },
      "source": [
        "Now we can run the tuner, the arguments are the same as the `model.fit()` method. The tuner will now try to find the best parameters for our network with the values that we specified. "
      ]
    },
    {
      "cell_type": "code",
      "execution_count": null,
      "metadata": {
        "colab": {
          "base_uri": "https://localhost:8080/"
        },
        "id": "hJ7hHblEW7LL",
        "outputId": "0738e73a-623f-45b7-a7ee-ce85ed6fcb6b"
      },
      "outputs": [
        {
          "name": "stdout",
          "output_type": "stream",
          "text": [
            "Trial 30 Complete [00h 02m 24s]\n",
            "val_accuracy: 0.2707924246788025\n",
            "\n",
            "Best val_accuracy So Far: 0.2866567075252533\n",
            "Total elapsed time: 00h 32m 17s\n",
            "INFO:tensorflow:Oracle triggered exit\n",
            "\n",
            "The hyperparameter search is complete. The optimal number of units in the densely-connected\n",
            "layer are 128 and 192. The optimal units for the \n",
            "LSTM layer is 64and the optimal learning rate for the optimizer\n",
            "is 0.01.\n",
            "\n"
          ]
        }
      ],
      "source": [
        "Tuner.search(x_trainStem, y_train, epochs=50, validation_data=(x_testStem, y_test), callbacks=[stop_early])\n",
        "\n",
        "# Get the optimal hyperparameters\n",
        "best_hps=Tuner.get_best_hyperparameters(num_trials=1)[0]\n",
        "\n",
        "print(f\"\"\"\n",
        "The hyperparameter search is complete. The optimal number of units in the densely-connected\n",
        "layer are {best_hps.get('unitsd1')} and {best_hps.get('unitsd2')}. The optimal units for the \n",
        "LSTM layer is {best_hps.get('unitsLSTM')}and the optimal learning rate for the optimizer\n",
        "is {best_hps.get('learning_rate')}.\n",
        "\"\"\")"
      ]
    },
    {
      "cell_type": "markdown",
      "metadata": {
        "id": "UEa82sihaZkD"
      },
      "source": [
        "### Training with the optained parameters"
      ]
    },
    {
      "cell_type": "markdown",
      "metadata": {
        "id": "cfK6Omr2adcX"
      },
      "source": [
        "We now use the parameters that we got from the tuner in our model and train it on 50 epoch. At the same time we check the best epoch that the model achieved so that we can use it again and get the best parameters possible."
      ]
    },
    {
      "cell_type": "code",
      "execution_count": null,
      "metadata": {
        "colab": {
          "base_uri": "https://localhost:8080/"
        },
        "id": "3R5-Qh6NRx9c",
        "outputId": "d0647d43-251e-4a05-b6ac-58c6f549a2c5"
      },
      "outputs": [
        {
          "name": "stdout",
          "output_type": "stream",
          "text": [
            "Model: \"sequential_1\"\n",
            "_________________________________________________________________\n",
            " Layer (type)                Output Shape              Param #   \n",
            "=================================================================\n",
            " embedding_1 (Embedding)     (None, 112, 64)           1118720   \n",
            "                                                                 \n",
            " lstm_1 (LSTM)               (None, 64)                33024     \n",
            "                                                                 \n",
            " dense_3 (Dense)             (None, 128)               8320      \n",
            "                                                                 \n",
            " dropout_2 (Dropout)         (None, 128)               0         \n",
            "                                                                 \n",
            " dense_4 (Dense)             (None, 192)               24768     \n",
            "                                                                 \n",
            " dropout_3 (Dropout)         (None, 192)               0         \n",
            "                                                                 \n",
            " dense_5 (Dense)             (None, 23)                4439      \n",
            "                                                                 \n",
            "=================================================================\n",
            "Total params: 1,189,271\n",
            "Trainable params: 1,189,271\n",
            "Non-trainable params: 0\n",
            "_________________________________________________________________\n",
            "None\n",
            "Epoch 1/50\n",
            "327/327 [==============================] - 17s 44ms/step - loss: 2.8430 - accuracy: 0.1744 - val_loss: 2.8136 - val_accuracy: 0.1691\n",
            "Epoch 2/50\n",
            "327/327 [==============================] - 12s 38ms/step - loss: 2.7737 - accuracy: 0.1813 - val_loss: 2.7504 - val_accuracy: 0.1866\n",
            "Epoch 3/50\n",
            "327/327 [==============================] - 12s 38ms/step - loss: 2.6787 - accuracy: 0.2096 - val_loss: 2.6620 - val_accuracy: 0.2211\n",
            "Epoch 4/50\n",
            "327/327 [==============================] - 12s 38ms/step - loss: 2.6277 - accuracy: 0.2322 - val_loss: 2.6483 - val_accuracy: 0.2242\n",
            "Epoch 5/50\n",
            "327/327 [==============================] - 12s 38ms/step - loss: 2.5864 - accuracy: 0.2439 - val_loss: 2.6238 - val_accuracy: 0.2356\n",
            "Epoch 6/50\n",
            "327/327 [==============================] - 12s 38ms/step - loss: 2.5577 - accuracy: 0.2515 - val_loss: 2.6248 - val_accuracy: 0.2373\n",
            "Epoch 7/50\n",
            "327/327 [==============================] - 14s 42ms/step - loss: 2.5502 - accuracy: 0.2564 - val_loss: 2.6301 - val_accuracy: 0.2316\n",
            "Epoch 8/50\n",
            "327/327 [==============================] - 12s 38ms/step - loss: 2.5276 - accuracy: 0.2613 - val_loss: 2.6006 - val_accuracy: 0.2463\n",
            "Epoch 9/50\n",
            "327/327 [==============================] - 12s 38ms/step - loss: 2.4973 - accuracy: 0.2628 - val_loss: 2.5972 - val_accuracy: 0.2481\n",
            "Epoch 10/50\n",
            "327/327 [==============================] - 12s 38ms/step - loss: 2.4836 - accuracy: 0.2727 - val_loss: 2.5877 - val_accuracy: 0.2548\n",
            "Epoch 11/50\n",
            "327/327 [==============================] - 12s 38ms/step - loss: 2.4739 - accuracy: 0.2712 - val_loss: 2.5985 - val_accuracy: 0.2554\n",
            "Epoch 12/50\n",
            "327/327 [==============================] - 12s 38ms/step - loss: 2.4703 - accuracy: 0.2764 - val_loss: 2.5898 - val_accuracy: 0.2485\n",
            "Epoch 13/50\n",
            "327/327 [==============================] - 12s 38ms/step - loss: 2.4637 - accuracy: 0.2762 - val_loss: 2.5919 - val_accuracy: 0.2481\n",
            "Epoch 14/50\n",
            "327/327 [==============================] - 12s 38ms/step - loss: 2.4525 - accuracy: 0.2743 - val_loss: 2.5774 - val_accuracy: 0.2472\n",
            "Epoch 15/50\n",
            "327/327 [==============================] - 12s 38ms/step - loss: 2.4334 - accuracy: 0.2777 - val_loss: 2.5715 - val_accuracy: 0.2495\n",
            "Epoch 16/50\n",
            "327/327 [==============================] - 12s 38ms/step - loss: 2.4151 - accuracy: 0.2817 - val_loss: 2.5648 - val_accuracy: 0.2556\n",
            "Epoch 17/50\n",
            "327/327 [==============================] - 12s 38ms/step - loss: 2.3923 - accuracy: 0.2811 - val_loss: 2.5658 - val_accuracy: 0.2523\n",
            "Epoch 18/50\n",
            "327/327 [==============================] - 12s 38ms/step - loss: 2.3971 - accuracy: 0.2819 - val_loss: 2.5697 - val_accuracy: 0.2541\n",
            "Epoch 19/50\n",
            "327/327 [==============================] - 12s 38ms/step - loss: 2.3873 - accuracy: 0.2836 - val_loss: 2.5540 - val_accuracy: 0.2530\n",
            "Epoch 20/50\n",
            "327/327 [==============================] - 12s 37ms/step - loss: 2.3562 - accuracy: 0.2890 - val_loss: 2.5784 - val_accuracy: 0.2532\n",
            "Epoch 21/50\n",
            "327/327 [==============================] - 12s 38ms/step - loss: 2.3596 - accuracy: 0.2882 - val_loss: 2.5562 - val_accuracy: 0.2534\n",
            "Epoch 22/50\n",
            "327/327 [==============================] - 12s 38ms/step - loss: 2.3647 - accuracy: 0.2837 - val_loss: 2.6001 - val_accuracy: 0.2586\n",
            "Epoch 23/50\n",
            "327/327 [==============================] - 12s 37ms/step - loss: 2.3496 - accuracy: 0.2912 - val_loss: 2.5623 - val_accuracy: 0.2570\n",
            "Epoch 24/50\n",
            "327/327 [==============================] - 12s 38ms/step - loss: 2.3377 - accuracy: 0.2933 - val_loss: 2.5633 - val_accuracy: 0.2589\n",
            "Epoch 25/50\n",
            "327/327 [==============================] - 12s 38ms/step - loss: 2.3187 - accuracy: 0.2970 - val_loss: 2.5949 - val_accuracy: 0.2570\n",
            "Epoch 26/50\n",
            "327/327 [==============================] - 12s 38ms/step - loss: 2.3301 - accuracy: 0.2976 - val_loss: 2.5724 - val_accuracy: 0.2583\n",
            "Epoch 27/50\n",
            "327/327 [==============================] - 12s 37ms/step - loss: 2.3301 - accuracy: 0.2965 - val_loss: 2.5738 - val_accuracy: 0.2613\n",
            "Epoch 28/50\n",
            "327/327 [==============================] - 12s 38ms/step - loss: 2.3326 - accuracy: 0.2900 - val_loss: 2.5769 - val_accuracy: 0.2583\n",
            "Epoch 29/50\n",
            "327/327 [==============================] - 12s 38ms/step - loss: 2.3010 - accuracy: 0.2954 - val_loss: 2.5891 - val_accuracy: 0.2616\n",
            "Epoch 30/50\n",
            "327/327 [==============================] - 12s 38ms/step - loss: 2.2867 - accuracy: 0.2988 - val_loss: 2.5842 - val_accuracy: 0.2564\n",
            "Epoch 31/50\n",
            "327/327 [==============================] - 12s 38ms/step - loss: 2.2821 - accuracy: 0.3025 - val_loss: 2.5834 - val_accuracy: 0.2641\n",
            "Epoch 32/50\n",
            "327/327 [==============================] - 12s 38ms/step - loss: 2.2586 - accuracy: 0.3045 - val_loss: 2.5977 - val_accuracy: 0.2513\n",
            "Epoch 33/50\n",
            "327/327 [==============================] - 12s 38ms/step - loss: 2.2512 - accuracy: 0.3100 - val_loss: 2.5801 - val_accuracy: 0.2630\n",
            "Epoch 34/50\n",
            "327/327 [==============================] - 14s 43ms/step - loss: 2.2412 - accuracy: 0.3121 - val_loss: 2.5907 - val_accuracy: 0.2646\n",
            "Epoch 35/50\n",
            "327/327 [==============================] - 12s 38ms/step - loss: 2.2430 - accuracy: 0.3082 - val_loss: 2.5937 - val_accuracy: 0.2548\n",
            "Epoch 36/50\n",
            "327/327 [==============================] - 12s 37ms/step - loss: 2.2405 - accuracy: 0.3150 - val_loss: 2.6129 - val_accuracy: 0.2555\n",
            "Epoch 37/50\n",
            "327/327 [==============================] - 12s 38ms/step - loss: 2.2204 - accuracy: 0.3145 - val_loss: 2.6086 - val_accuracy: 0.2584\n",
            "Epoch 38/50\n",
            "327/327 [==============================] - 12s 38ms/step - loss: 2.2261 - accuracy: 0.3083 - val_loss: 2.5709 - val_accuracy: 0.2651\n",
            "Epoch 39/50\n",
            "327/327 [==============================] - 12s 38ms/step - loss: 2.2101 - accuracy: 0.3163 - val_loss: 2.6146 - val_accuracy: 0.2569\n",
            "Epoch 40/50\n",
            "327/327 [==============================] - 14s 42ms/step - loss: 2.1948 - accuracy: 0.3213 - val_loss: 2.5831 - val_accuracy: 0.2623\n",
            "Epoch 41/50\n",
            "327/327 [==============================] - 12s 38ms/step - loss: 2.1924 - accuracy: 0.3188 - val_loss: 2.5791 - val_accuracy: 0.2567\n",
            "Epoch 42/50\n",
            "327/327 [==============================] - 14s 42ms/step - loss: 2.1859 - accuracy: 0.3281 - val_loss: 2.6178 - val_accuracy: 0.2598\n",
            "Epoch 43/50\n",
            "327/327 [==============================] - 12s 38ms/step - loss: 2.1889 - accuracy: 0.3184 - val_loss: 2.5675 - val_accuracy: 0.2592\n",
            "Epoch 44/50\n",
            "327/327 [==============================] - 12s 37ms/step - loss: 2.1918 - accuracy: 0.3190 - val_loss: 2.5952 - val_accuracy: 0.2578\n",
            "Epoch 45/50\n",
            "327/327 [==============================] - 12s 38ms/step - loss: 2.1726 - accuracy: 0.3236 - val_loss: 2.6404 - val_accuracy: 0.2515\n",
            "Epoch 46/50\n",
            "327/327 [==============================] - 12s 38ms/step - loss: 2.1974 - accuracy: 0.3156 - val_loss: 2.6510 - val_accuracy: 0.2567\n",
            "Epoch 47/50\n",
            "327/327 [==============================] - 12s 38ms/step - loss: 2.1704 - accuracy: 0.3281 - val_loss: 2.6256 - val_accuracy: 0.2647\n",
            "Epoch 48/50\n",
            "327/327 [==============================] - 12s 38ms/step - loss: 2.1643 - accuracy: 0.3240 - val_loss: 2.5837 - val_accuracy: 0.2628\n",
            "Epoch 49/50\n",
            "327/327 [==============================] - 12s 38ms/step - loss: 2.1555 - accuracy: 0.3402 - val_loss: 2.5856 - val_accuracy: 0.2651\n",
            "Epoch 50/50\n",
            "327/327 [==============================] - 12s 38ms/step - loss: 2.1577 - accuracy: 0.3345 - val_loss: 2.5787 - val_accuracy: 0.2595\n",
            "Best epoch: 38\n"
          ]
        }
      ],
      "source": [
        "model = Tuner.hypermodel.build(best_hps)\n",
        "history = model.fit(x_trainStem, y_train, epochs=50, validation_data=(x_testStem, y_test))\n",
        "\n",
        "val_acc_per_epoch = history.history['val_accuracy']\n",
        "best_epoch = val_acc_per_epoch.index(max(val_acc_per_epoch)) + 1\n",
        "print('Best epoch: %d' % (best_epoch,))"
      ]
    },
    {
      "cell_type": "code",
      "execution_count": null,
      "metadata": {
        "colab": {
          "base_uri": "https://localhost:8080/"
        },
        "id": "NejXd2OtR32P",
        "outputId": "363a1ae7-b5aa-44ad-a1e2-9485b2889c4c"
      },
      "outputs": [
        {
          "name": "stdout",
          "output_type": "stream",
          "text": [
            "Model: \"sequential_2\"\n",
            "_________________________________________________________________\n",
            " Layer (type)                Output Shape              Param #   \n",
            "=================================================================\n",
            " embedding_2 (Embedding)     (None, 112, 64)           1118720   \n",
            "                                                                 \n",
            " lstm_2 (LSTM)               (None, 64)                33024     \n",
            "                                                                 \n",
            " dense_6 (Dense)             (None, 128)               8320      \n",
            "                                                                 \n",
            " dropout_4 (Dropout)         (None, 128)               0         \n",
            "                                                                 \n",
            " dense_7 (Dense)             (None, 192)               24768     \n",
            "                                                                 \n",
            " dropout_5 (Dropout)         (None, 192)               0         \n",
            "                                                                 \n",
            " dense_8 (Dense)             (None, 23)                4439      \n",
            "                                                                 \n",
            "=================================================================\n",
            "Total params: 1,189,271\n",
            "Trainable params: 1,189,271\n",
            "Non-trainable params: 0\n",
            "_________________________________________________________________\n",
            "None\n",
            "Epoch 1/38\n",
            "327/327 [==============================] - 16s 41ms/step - loss: 2.8428 - accuracy: 0.1665 - val_loss: 2.8145 - val_accuracy: 0.1686\n",
            "Epoch 2/38\n",
            "327/327 [==============================] - 12s 38ms/step - loss: 2.7755 - accuracy: 0.1784 - val_loss: 2.7673 - val_accuracy: 0.1757\n",
            "Epoch 3/38\n",
            "327/327 [==============================] - 13s 38ms/step - loss: 2.7159 - accuracy: 0.1924 - val_loss: 2.8532 - val_accuracy: 0.1725\n",
            "Epoch 4/38\n",
            "327/327 [==============================] - 12s 38ms/step - loss: 2.6692 - accuracy: 0.2129 - val_loss: 2.7172 - val_accuracy: 0.2086\n",
            "Epoch 5/38\n",
            "327/327 [==============================] - 12s 38ms/step - loss: 2.6134 - accuracy: 0.2330 - val_loss: 2.6624 - val_accuracy: 0.2179\n",
            "Epoch 6/38\n",
            "327/327 [==============================] - 12s 38ms/step - loss: 2.6108 - accuracy: 0.2321 - val_loss: 2.6622 - val_accuracy: 0.2205\n",
            "Epoch 7/38\n",
            "327/327 [==============================] - 12s 38ms/step - loss: 2.5709 - accuracy: 0.2474 - val_loss: 2.6378 - val_accuracy: 0.2392\n",
            "Epoch 8/38\n",
            "327/327 [==============================] - 12s 38ms/step - loss: 2.5388 - accuracy: 0.2556 - val_loss: 2.6148 - val_accuracy: 0.2406\n",
            "Epoch 9/38\n",
            "327/327 [==============================] - 12s 38ms/step - loss: 2.5142 - accuracy: 0.2568 - val_loss: 2.6269 - val_accuracy: 0.2453\n",
            "Epoch 10/38\n",
            "327/327 [==============================] - 12s 38ms/step - loss: 2.5076 - accuracy: 0.2593 - val_loss: 2.6189 - val_accuracy: 0.2413\n",
            "Epoch 11/38\n",
            "327/327 [==============================] - 14s 44ms/step - loss: 2.5052 - accuracy: 0.2578 - val_loss: 2.6120 - val_accuracy: 0.2447\n",
            "Epoch 12/38\n",
            "327/327 [==============================] - 14s 43ms/step - loss: 2.4816 - accuracy: 0.2637 - val_loss: 2.6077 - val_accuracy: 0.2459\n",
            "Epoch 13/38\n",
            "327/327 [==============================] - 12s 38ms/step - loss: 2.4783 - accuracy: 0.2622 - val_loss: 2.6250 - val_accuracy: 0.2454\n",
            "Epoch 14/38\n",
            "327/327 [==============================] - 14s 42ms/step - loss: 2.4630 - accuracy: 0.2668 - val_loss: 2.6275 - val_accuracy: 0.2512\n",
            "Epoch 15/38\n",
            "327/327 [==============================] - 12s 38ms/step - loss: 2.4430 - accuracy: 0.2708 - val_loss: 2.6220 - val_accuracy: 0.2468\n",
            "Epoch 16/38\n",
            "327/327 [==============================] - 12s 38ms/step - loss: 2.4330 - accuracy: 0.2648 - val_loss: 2.6333 - val_accuracy: 0.2465\n",
            "Epoch 17/38\n",
            "327/327 [==============================] - 12s 38ms/step - loss: 2.4193 - accuracy: 0.2668 - val_loss: 2.6284 - val_accuracy: 0.2345\n",
            "Epoch 18/38\n",
            "327/327 [==============================] - 12s 38ms/step - loss: 2.4048 - accuracy: 0.2774 - val_loss: 2.6441 - val_accuracy: 0.2495\n",
            "Epoch 19/38\n",
            "327/327 [==============================] - 12s 38ms/step - loss: 2.3989 - accuracy: 0.2751 - val_loss: 2.6232 - val_accuracy: 0.2400\n",
            "Epoch 20/38\n",
            "327/327 [==============================] - 12s 38ms/step - loss: 2.3738 - accuracy: 0.2799 - val_loss: 2.6457 - val_accuracy: 0.2515\n",
            "Epoch 21/38\n",
            "327/327 [==============================] - 12s 38ms/step - loss: 2.3636 - accuracy: 0.2870 - val_loss: 2.6681 - val_accuracy: 0.2505\n",
            "Epoch 22/38\n",
            "327/327 [==============================] - 12s 38ms/step - loss: 2.3463 - accuracy: 0.2896 - val_loss: 2.6277 - val_accuracy: 0.2485\n",
            "Epoch 23/38\n",
            "327/327 [==============================] - 12s 38ms/step - loss: 2.3432 - accuracy: 0.2892 - val_loss: 2.6461 - val_accuracy: 0.2441\n",
            "Epoch 24/38\n",
            "327/327 [==============================] - 13s 38ms/step - loss: 2.3316 - accuracy: 0.2915 - val_loss: 2.6423 - val_accuracy: 0.2415\n",
            "Epoch 25/38\n",
            "327/327 [==============================] - 12s 38ms/step - loss: 2.3237 - accuracy: 0.2919 - val_loss: 2.6578 - val_accuracy: 0.2496\n",
            "Epoch 26/38\n",
            "327/327 [==============================] - 13s 39ms/step - loss: 2.3176 - accuracy: 0.2902 - val_loss: 2.6220 - val_accuracy: 0.2510\n",
            "Epoch 27/38\n",
            "327/327 [==============================] - 14s 43ms/step - loss: 2.2876 - accuracy: 0.2989 - val_loss: 2.6370 - val_accuracy: 0.2467\n",
            "Epoch 28/38\n",
            "327/327 [==============================] - 12s 38ms/step - loss: 2.2968 - accuracy: 0.2928 - val_loss: 2.6394 - val_accuracy: 0.2507\n",
            "Epoch 29/38\n",
            "327/327 [==============================] - 12s 38ms/step - loss: 2.2750 - accuracy: 0.2995 - val_loss: 2.6437 - val_accuracy: 0.2437\n",
            "Epoch 30/38\n",
            "327/327 [==============================] - 12s 38ms/step - loss: 2.2630 - accuracy: 0.3071 - val_loss: 2.6613 - val_accuracy: 0.2245\n",
            "Epoch 31/38\n",
            "327/327 [==============================] - 12s 38ms/step - loss: 2.2547 - accuracy: 0.3097 - val_loss: 2.6678 - val_accuracy: 0.2473\n",
            "Epoch 32/38\n",
            "327/327 [==============================] - 12s 38ms/step - loss: 2.2521 - accuracy: 0.3002 - val_loss: 2.6601 - val_accuracy: 0.2419\n",
            "Epoch 33/38\n",
            "327/327 [==============================] - 12s 38ms/step - loss: 2.2404 - accuracy: 0.3086 - val_loss: 2.6750 - val_accuracy: 0.2453\n",
            "Epoch 34/38\n",
            "327/327 [==============================] - 12s 38ms/step - loss: 2.2419 - accuracy: 0.3069 - val_loss: 2.6419 - val_accuracy: 0.2495\n",
            "Epoch 35/38\n",
            "327/327 [==============================] - 12s 38ms/step - loss: 2.2093 - accuracy: 0.3142 - val_loss: 2.6851 - val_accuracy: 0.2446\n",
            "Epoch 36/38\n",
            "327/327 [==============================] - 12s 38ms/step - loss: 2.2070 - accuracy: 0.3133 - val_loss: 2.6696 - val_accuracy: 0.2484\n",
            "Epoch 37/38\n",
            "327/327 [==============================] - 13s 38ms/step - loss: 2.1984 - accuracy: 0.3138 - val_loss: 2.6631 - val_accuracy: 0.2442\n",
            "Epoch 38/38\n",
            "327/327 [==============================] - 13s 38ms/step - loss: 2.1899 - accuracy: 0.3190 - val_loss: 2.6656 - val_accuracy: 0.2491\n"
          ]
        }
      ],
      "source": [
        "hypermodel = Tuner.hypermodel.build(best_hps)\n",
        "\n",
        "# Retrain the model\n",
        "hyperHistory = hypermodel.fit(x_trainStem, y_train, epochs=best_epoch, validation_data=(x_testStem, y_test))"
      ]
    },
    {
      "cell_type": "code",
      "execution_count": null,
      "metadata": {
        "colab": {
          "base_uri": "https://localhost:8080/",
          "height": 574
        },
        "id": "rzDB9ZIaR_Nz",
        "outputId": "d8d39f18-0a39-4832-fac8-3e1dfaefc3d0"
      },
      "outputs": [
        {
          "data": {
            "image/png": "[encoded data removed]",
            "text/plain": [
              "<Figure size 1152x720 with 1 Axes>"
            ]
          },
          "metadata": {},
          "output_type": "display_data"
        }
      ],
      "source": [
        "plot_history([('baseline', hyperHistory)])"
      ]
    },
    {
      "cell_type": "code",
      "execution_count": null,
      "metadata": {
        "colab": {
          "base_uri": "https://localhost:8080/"
        },
        "id": "Ok58TmGsSBIs",
        "outputId": "a5e520ae-43d0-4fcd-8436-c63df830e0a3"
      },
      "outputs": [
        {
          "name": "stdout",
          "output_type": "stream",
          "text": [
            "398/398 [==============================] - 4s 11ms/step - loss: 2.6656 - accuracy: 0.2491\n"
          ]
        }
      ],
      "source": [
        "eval_result = hypermodel.evaluate(x_testStem,y_test)"
      ]
    },
    {
      "cell_type": "markdown",
      "metadata": {
        "id": "o06awFys1T-x"
      },
      "source": [
        "Still not that good of a model even with the tuner, we will still try it on the biger dataset to see if it makes a difference."
      ]
    },
    {
      "cell_type": "markdown",
      "metadata": {
        "id": "65HcJHC5re5l"
      },
      "source": [
        "## Changing the topology"
      ]
    },
    {
      "cell_type": "markdown",
      "metadata": {
        "id": "c6fO_0cNrjln"
      },
      "source": [
        "In this part, we decided to try to use two bi-directionnal layers to see if our previous topology was the problem."
      ]
    },
    {
      "cell_type": "markdown",
      "metadata": {
        "id": "Ve8xAVr-sacC"
      },
      "source": [
        "### Model"
      ]
    },
    {
      "cell_type": "code",
      "execution_count": null,
      "metadata": {
        "colab": {
          "background_save": true
        },
        "id": "CkyVPYYHsf3i"
      },
      "outputs": [],
      "source": [
        "BiModel = tf.keras.Sequential([\n",
        "    tf.keras.layers.Embedding(total_words, 64, mask_zero=True),\n",
        "    tf.keras.layers.Bidirectional(tf.keras.layers.LSTM(64,  return_sequences=True)),\n",
        "    tf.keras.layers.Bidirectional(tf.keras.layers.LSTM(32)),\n",
        "    tf.keras.layers.Dense(64, activation='relu'),\n",
        "    tf.keras.layers.Dropout(0.3),\n",
        "    tf.keras.layers.Dense(23)\n",
        "])"
      ]
    },
    {
      "cell_type": "code",
      "execution_count": 42,
      "metadata": {
        "id": "MWPdDLcDst69"
      },
      "outputs": [],
      "source": [
        "BiModel.compile(loss=tf.keras.losses.CategoricalCrossentropy(),\n",
        "              optimizer=tf.keras.optimizers.Adam(1e-4),\n",
        "              metrics=['accuracy'])"
      ]
    },
    {
      "cell_type": "markdown",
      "metadata": {
        "id": "5optjMfjspHP"
      },
      "source": [
        "### Training the model"
      ]
    },
    {
      "cell_type": "code",
      "execution_count": 43,
      "metadata": {
        "id": "m6ZNGRpusxnR",
        "colab": {
          "base_uri": "https://localhost:8080/"
        },
        "outputId": "4fc6a97e-d950-48d2-cf9f-8cbf37fed368"
      },
      "outputs": [
        {
          "output_type": "stream",
          "name": "stdout",
          "text": [
            "Epoch 1/10\n",
            "327/327 [==============================] - 10s 30ms/step - loss: 2.1575 - accuracy: 0.3311 - val_loss: 2.6386 - val_accuracy: 0.2534\n",
            "Epoch 2/10\n",
            "327/327 [==============================] - 9s 28ms/step - loss: 2.1478 - accuracy: 0.3336 - val_loss: 2.5793 - val_accuracy: 0.2647\n",
            "Epoch 3/10\n",
            "327/327 [==============================] - 8s 26ms/step - loss: 2.1384 - accuracy: 0.3427 - val_loss: 2.6027 - val_accuracy: 0.2541\n",
            "Epoch 4/10\n",
            "327/327 [==============================] - 8s 24ms/step - loss: 2.1368 - accuracy: 0.3403 - val_loss: 2.5981 - val_accuracy: 0.2676\n",
            "Epoch 5/10\n",
            "327/327 [==============================] - 8s 23ms/step - loss: 2.1375 - accuracy: 0.3399 - val_loss: 2.5803 - val_accuracy: 0.2597\n",
            "Epoch 6/10\n",
            "327/327 [==============================] - 8s 24ms/step - loss: 2.1304 - accuracy: 0.3372 - val_loss: 2.5725 - val_accuracy: 0.2592\n",
            "Epoch 7/10\n",
            "327/327 [==============================] - 8s 24ms/step - loss: 2.1335 - accuracy: 0.3398 - val_loss: 2.5915 - val_accuracy: 0.2630\n",
            "Epoch 8/10\n",
            "327/327 [==============================] - 8s 25ms/step - loss: 2.1278 - accuracy: 0.3391 - val_loss: 2.6044 - val_accuracy: 0.2572\n",
            "Epoch 9/10\n",
            "327/327 [==============================] - 9s 27ms/step - loss: 2.1195 - accuracy: 0.3442 - val_loss: 2.5732 - val_accuracy: 0.2622\n",
            "Epoch 10/10\n",
            "327/327 [==============================] - 9s 27ms/step - loss: 2.0992 - accuracy: 0.3437 - val_loss: 2.6220 - val_accuracy: 0.2613\n"
          ]
        }
      ],
      "source": [
        "BiHistory = model.fit(x_trainStem, y_train, epochs=10,\n",
        "                    validation_data=(x_testStem, y_test),\n",
        "                    validation_steps=30)"
      ]
    },
    {
      "cell_type": "code",
      "execution_count": 44,
      "metadata": {
        "id": "6gfvNO5vzr4g",
        "colab": {
          "base_uri": "https://localhost:8080/",
          "height": 574
        },
        "outputId": "b3694cfd-5d02-4c00-ede5-2ed17d4e301c"
      },
      "outputs": [
        {
          "output_type": "display_data",
          "data": {
            "text/plain": [
              "<Figure size 1152x720 with 1 Axes>"
            ],
            "image/png": "[encoded data removed]"
          },
          "metadata": {
            "needs_background": "light"
          }
        }
      ],
      "source": [
        "plot_history([('baseline', BiHistory)])"
      ]
    },
    {
      "cell_type": "markdown",
      "source": [
        "This model seems bottlenecked right from the begginning. Even tho the quality is slightly better than with the other model, we still believe the other model would perform better on the full dataset."
      ],
      "metadata": {
        "id": "W0V69yY22qeh"
      }
    },
    {
      "cell_type": "markdown",
      "metadata": {
        "id": "Dsbu0hIVoxvc"
      },
      "source": [
        "## Testing the model on the full dataset"
      ]
    },
    {
      "cell_type": "markdown",
      "source": [
        "### unpacking"
      ],
      "metadata": {
        "id": "N8G2zwgy_zzd"
      }
    },
    {
      "cell_type": "code",
      "execution_count": 45,
      "metadata": {
        "id": "IU0mDMAHo22D"
      },
      "outputs": [],
      "source": [
        "shutil.unpack_archive(\"/content/drive/MyDrive/TP_ESIR2/IA/ohsumed-all-docs.tar.gz\",\"/content/drive/MyDrive/TP_ESIR2/IA/\")"
      ]
    },
    {
      "cell_type": "code",
      "source": [
        "def get_info(path: str):\n",
        "    data = list(os.walk(path))[1:]\n",
        "    files = []\n",
        "    for d in data:\n",
        "        folder_name = d[0]\n",
        "        for file in d[2]:\n",
        "            files.append((folder_name.split('/')[-1], os.path.join(folder_name, file)))\n",
        "\n",
        "    d = defaultdict(int)\n",
        "    texts = defaultdict(list)\n",
        "    for (cate, file) in files:\n",
        "        with open(file, 'r') as outfile:\n",
        "            text = outfile.read()\n",
        "            texts[cate].append(text)\n",
        "            words = text_to_word_sequence(text)\n",
        "            for word in words:\n",
        "                d[word] += 1\n",
        "    words = sorted(d.items(), key=lambda x: x[1], reverse=True)\n",
        "    return (texts, words)"
      ],
      "metadata": {
        "id": "mIWGlMYf4I-1"
      },
      "execution_count": 46,
      "outputs": []
    },
    {
      "cell_type": "code",
      "source": [
        "(AllTexts,Allwords) = get_info(\"/content/drive/MyDrive/TP_ESIR2/IA/ohsumed-all\")"
      ],
      "metadata": {
        "id": "CtT0o_MT4Lit"
      },
      "execution_count": 49,
      "outputs": []
    },
    {
      "cell_type": "markdown",
      "source": [
        "### Creating the dataset"
      ],
      "metadata": {
        "id": "F7Ft2mox4Zab"
      }
    },
    {
      "cell_type": "code",
      "source": [
        "df = pd.DataFrame()\n",
        "for i in range(23):\n",
        "  if(i<9):  \n",
        "    tmp= pd.DataFrame(AllTexts[\"C0\"+str(i+1)])\n",
        "    tmp[\"Class\"] = \"C0\"+str(i+1)\n",
        "    df= pd.concat([df,tmp])\n",
        "  else:\n",
        "    tmp= pd.DataFrame(AllTexts[\"C\"+str(i+1)])\n",
        "    tmp[\"Class\"] = \"C\"+str(i+1)\n",
        "    df= pd.concat([df,tmp])"
      ],
      "metadata": {
        "id": "kgPRrDPZ4Ysw"
      },
      "execution_count": 50,
      "outputs": []
    },
    {
      "cell_type": "code",
      "source": [
        "df.to_csv(\"/content/drive/MyDrive/TP_ESIR2/IA/Alltrain.csv\")"
      ],
      "metadata": {
        "id": "MhrjDOsl429k"
      },
      "execution_count": 51,
      "outputs": []
    },
    {
      "cell_type": "markdown",
      "source": [
        "#### Retrieving the dataset from the drive"
      ],
      "metadata": {
        "id": "gsOcG6LR6IT5"
      }
    },
    {
      "cell_type": "code",
      "source": [
        "dfAllTrain=pd.read_csv(\"/content/drive/MyDrive/TP_ESIR2/IA/Alltrain.csv\")"
      ],
      "metadata": {
        "id": "kwuapWJs6G-Q"
      },
      "execution_count": 68,
      "outputs": []
    },
    {
      "cell_type": "markdown",
      "metadata": {
        "id": "ayO9sJ2Y5pAm"
      },
      "source": [
        "### Text cleaning"
      ]
    },
    {
      "cell_type": "markdown",
      "metadata": {
        "id": "m3cglXHK5pAn"
      },
      "source": [
        "We start by naming the axis and removing a useless column"
      ]
    },
    {
      "cell_type": "code",
      "execution_count": 69,
      "metadata": {
        "id": "E1a8na_u5pAn"
      },
      "outputs": [],
      "source": [
        "english_stops = set(stopwords.words('english'))"
      ]
    },
    {
      "cell_type": "code",
      "execution_count": 70,
      "metadata": {
        "id": "fxq1uisT5pAn"
      },
      "outputs": [],
      "source": [
        "dfAllTrain = dfAllTrain.set_axis([\"index\",'text', 'class'], axis=1, inplace=False)"
      ]
    },
    {
      "cell_type": "code",
      "execution_count": 71,
      "metadata": {
        "id": "5UPFmhNj5pAo"
      },
      "outputs": [],
      "source": [
        "dfAllTrain = dfAllTrain.drop(columns=[\"index\"])"
      ]
    },
    {
      "cell_type": "markdown",
      "metadata": {
        "id": "idlT8FJ35pAo"
      },
      "source": [
        "#### Removing non-alphabet, stopwords and lower-casing"
      ]
    },
    {
      "cell_type": "code",
      "execution_count": 72,
      "metadata": {
        "id": "TdQEHfX15pAo"
      },
      "outputs": [],
      "source": [
        "dfAllTrain[\"text\"] = dfAllTrain[\"text\"].replace({'[^A-Za-z]': ' '}, regex = True)     # remove non alphabet\n",
        "dfAllTrain[\"text\"] = dfAllTrain[\"text\"].apply(lambda review: [w for w in review.split() if w not in english_stops])  # remove stop words\n",
        "dfAllTrain[\"text\"] = dfAllTrain[\"text\"].apply(lambda review: [w.lower() for w in review])   # lower case"
      ]
    },
    {
      "cell_type": "code",
      "execution_count": 73,
      "metadata": {
        "colab": {
          "base_uri": "https://localhost:8080/"
        },
        "outputId": "c8b94ede-36c7-4a8c-9738-65d9a24d9611",
        "id": "p263pL2e5pAp"
      },
      "outputs": [
        {
          "output_type": "execute_result",
          "data": {
            "text/plain": [
              "0        [haemophilus, influenzae, meningitis, prolonge...\n",
              "1        [augmentation, mentoplasty, using, mersilene, ...\n",
              "2        [multiple, intracranial, mucoceles, associated...\n",
              "3        [replacement, aortic, valve, cusp, neonatal, e...\n",
              "4        [mucosal, intussusception, avoid, ascending, c...\n",
              "                               ...                        \n",
              "56979    [ionized, calcium, blood, studies, patients, p...\n",
              "56980    [effects, immediate, postoperative, enteral, n...\n",
              "56981    [effects, enteral, fat, emulsion, fat, absorpt...\n",
              "56982    [inhibition, early, atherogenesis, transgenic,...\n",
              "56983    [a, trna, lys, mutation, mtdna, causal, geneti...\n",
              "Name: text, Length: 56984, dtype: object"
            ]
          },
          "metadata": {},
          "execution_count": 73
        }
      ],
      "source": [
        "dfAllTrain[\"text\"]"
      ]
    },
    {
      "cell_type": "markdown",
      "metadata": {
        "id": "gghGxBGn5pAp"
      },
      "source": [
        "#### Output cleaning"
      ]
    },
    {
      "cell_type": "code",
      "execution_count": 74,
      "metadata": {
        "id": "ZCfFxNp75pAq"
      },
      "outputs": [],
      "source": [
        "labels = dfAllTrain[\"class\"].unique().tolist()#list of unique outputs\n",
        "mapping = dict(zip(labels,range(len(labels))))#dictionnary between unique outputs and indexes\n",
        "dfAllTrain.replace({\"class\":mapping},inplace=True)#replacing outputs by there indexes in the dictionnary"
      ]
    },
    {
      "cell_type": "code",
      "execution_count": 75,
      "metadata": {
        "id": "MD-GtHg55pAq"
      },
      "outputs": [],
      "source": [
        "y_Alltrain = dfAllTrain[\"class\"]"
      ]
    },
    {
      "cell_type": "code",
      "execution_count": 76,
      "metadata": {
        "id": "NMviETai5pAq"
      },
      "outputs": [],
      "source": [
        "y_Alltrain = tf.keras.utils.to_categorical(y_Alltrain, num_classes=23)"
      ]
    },
    {
      "cell_type": "markdown",
      "source": [
        "#### Retrieving train and test inputs"
      ],
      "metadata": {
        "id": "mH2un1Lk6s6J"
      }
    },
    {
      "cell_type": "code",
      "source": [
        "x_Alltrain = dfAllTrain[\"text\"]"
      ],
      "metadata": {
        "id": "6in9nxVQ6wSJ"
      },
      "execution_count": 77,
      "outputs": []
    },
    {
      "cell_type": "markdown",
      "source": [
        "#### Stemming"
      ],
      "metadata": {
        "id": "h_z-ck58-hWm"
      }
    },
    {
      "cell_type": "code",
      "source": [
        "x_Alltrain=x_Alltrain.apply(lambda x : stemList(x))#the function stemList in defined in the previous part"
      ],
      "metadata": {
        "id": "64x46jJu-koY"
      },
      "execution_count": 78,
      "outputs": []
    },
    {
      "cell_type": "markdown",
      "source": [
        "#### Splitting into test and train set"
      ],
      "metadata": {
        "id": "cCT3-90K9i_7"
      }
    },
    {
      "cell_type": "code",
      "source": [
        "from sklearn.model_selection import train_test_split       # for splitting dataset"
      ],
      "metadata": {
        "id": "f6zAvbS492nd"
      },
      "execution_count": 64,
      "outputs": []
    },
    {
      "cell_type": "code",
      "source": [
        "x_Ftrain, x_Ftest, y_Ftrain, y_Ftest = train_test_split(x_Alltrain, y_Alltrain, test_size = 0.2)"
      ],
      "metadata": {
        "id": "_Qn-9D5A9IoY"
      },
      "execution_count": 79,
      "outputs": []
    },
    {
      "cell_type": "markdown",
      "source": [
        "### Tokenize"
      ],
      "metadata": {
        "id": "TukhUuxR6-X_"
      }
    },
    {
      "cell_type": "code",
      "source": [
        "def get_max_length():\n",
        "    review_length = []\n",
        "    for review in x_Ftrain:\n",
        "        review_length.append(len(review))\n",
        "\n",
        "    return int(np.ceil(np.mean(review_length)))"
      ],
      "metadata": {
        "id": "iAx-wdH26_lc"
      },
      "execution_count": 80,
      "outputs": []
    },
    {
      "cell_type": "code",
      "source": [
        "# ENCODE REVIEW\n",
        "token = Tokenizer(lower=False)    # no need lower, because already lowered the data in load_data()\n",
        "token.fit_on_texts(x_Ftrain)\n",
        "x_Ftrain = token.texts_to_sequences(x_Ftrain)\n",
        "x_Ftest = token.texts_to_sequences(x_Ftest)\n",
        "\n",
        "max_length = get_max_length()\n",
        "\n",
        "x_Ftrain = pad_sequences(x_Ftrain, maxlen=max_length, padding='post', truncating='post')\n",
        "x_Ftest = pad_sequences(x_Ftest, maxlen=max_length, padding='post', truncating='post')\n",
        "\n",
        "total_words = len(token.word_index) + 1   # add 1 because of 0 padding\n",
        "\n",
        "print('Encoded X Train\\n', x_Ftrain, '\\n')\n",
        "print('Encoded X Test\\n', x_Ftest, '\\n')\n",
        "print('Maximum review length: ', max_length)"
      ],
      "metadata": {
        "colab": {
          "base_uri": "https://localhost:8080/"
        },
        "id": "MDW8p1U19gu1",
        "outputId": "ba121228-bb3c-4800-dfca-992fde2c54f3"
      },
      "execution_count": 81,
      "outputs": [
        {
          "output_type": "stream",
          "name": "stdout",
          "text": [
            "Encoded X Train\n",
            " [[16308    62  1420 ...     0     0     0]\n",
            " [  433  8260   177 ...     0     0     0]\n",
            " [  340    30  1583 ...    74    90   943]\n",
            " ...\n",
            " [   19  4333   965 ...   513    26   163]\n",
            " [   55  5064     1 ...    22   276    15]\n",
            " [ 3095   698   751 ...     0     0     0]] \n",
            "\n",
            "Encoded X Test\n",
            " [[4651 1416  408 ...    0    0    0]\n",
            " [ 159   62  243 ...    8 4466  175]\n",
            " [4187 4057 4057 ...  944    0    0]\n",
            " ...\n",
            " [ 393  698 1729 ...    1 1360    7]\n",
            " [2321   62  243 ...    0    0    0]\n",
            " [3968 1723   16 ...    0    0    0]] \n",
            "\n",
            "Maximum review length:  115\n"
          ]
        }
      ]
    },
    {
      "cell_type": "code",
      "source": [
        "len(list(set(list(token.word_index.keys()))))"
      ],
      "metadata": {
        "colab": {
          "base_uri": "https://localhost:8080/"
        },
        "id": "ksxl45eT_jL3",
        "outputId": "e6f3f8fa-ff55-4a59-af89-dc9457d41350"
      },
      "execution_count": 82,
      "outputs": [
        {
          "output_type": "execute_result",
          "data": {
            "text/plain": [
              "34421"
            ]
          },
          "metadata": {},
          "execution_count": 82
        }
      ]
    },
    {
      "cell_type": "markdown",
      "source": [
        "Not surprisingly we have more data so there are more words"
      ],
      "metadata": {
        "id": "Q_8gHG_-_mTP"
      }
    },
    {
      "cell_type": "markdown",
      "source": [
        "### Model"
      ],
      "metadata": {
        "id": "ddK9RDOWAYeP"
      }
    },
    {
      "cell_type": "markdown",
      "source": [
        "We use the same model as the one found by the tuner\n",
        "```\n",
        "The hyperparameter search is complete. The optimal number of units in the densely-connected\n",
        "layer are 128 and 192. The optimal units for the \n",
        "LSTM layer is 64and the optimal learning rate for the optimizer\n",
        "is 0.01.\n",
        "```\n",
        "\n"
      ],
      "metadata": {
        "id": "Uob4309TAa0W"
      }
    },
    {
      "cell_type": "code",
      "source": [
        "  FModel = Sequential()\n",
        "  FModel.add(Embedding(total_words, 64, input_length = max_length))\n",
        "  FModel.add(LSTM(units=64))\n",
        "  FModel.add(Dense(units=128, activation='sigmoid'))\n",
        "  FModel.add(Dropout(0.3))\n",
        "  FModel.add(Dense(units=192, activation='sigmoid'))\n",
        "  FModel.add(Dropout(0.3))\n",
        "  FModel.add(Dense(23, activation='sigmoid'))\n",
        "\n",
        "\n",
        "  FModel.compile(optimizer=tf.keras.optimizers.Adam(learning_rate=0.01), loss=tf.keras.losses.CategoricalCrossentropy(), metrics = ['accuracy'])\n",
        "\n",
        "  print(FModel.summary())"
      ],
      "metadata": {
        "colab": {
          "base_uri": "https://localhost:8080/"
        },
        "id": "S7A4j6F2AmOZ",
        "outputId": "20ae7b12-56ff-4405-cb99-62d4075a5ffa"
      },
      "execution_count": 83,
      "outputs": [
        {
          "output_type": "stream",
          "name": "stdout",
          "text": [
            "Model: \"sequential_4\"\n",
            "_________________________________________________________________\n",
            " Layer (type)                Output Shape              Param #   \n",
            "=================================================================\n",
            " embedding_4 (Embedding)     (None, 115, 64)           2203008   \n",
            "                                                                 \n",
            " lstm_5 (LSTM)               (None, 64)                33024     \n",
            "                                                                 \n",
            " dense_11 (Dense)            (None, 128)               8320      \n",
            "                                                                 \n",
            " dropout_7 (Dropout)         (None, 128)               0         \n",
            "                                                                 \n",
            " dense_12 (Dense)            (None, 192)               24768     \n",
            "                                                                 \n",
            " dropout_8 (Dropout)         (None, 192)               0         \n",
            "                                                                 \n",
            " dense_13 (Dense)            (None, 23)                4439      \n",
            "                                                                 \n",
            "=================================================================\n",
            "Total params: 2,273,559\n",
            "Trainable params: 2,273,559\n",
            "Non-trainable params: 0\n",
            "_________________________________________________________________\n",
            "None\n"
          ]
        }
      ]
    },
    {
      "cell_type": "markdown",
      "source": [
        "### Training"
      ],
      "metadata": {
        "id": "a_I-se5FAErZ"
      }
    },
    {
      "cell_type": "code",
      "source": [
        "Fhistory = FModel.fit(x_Ftrain, y_Ftrain, epochs=15, validation_data=(x_Ftest, y_Ftest))"
      ],
      "metadata": {
        "colab": {
          "base_uri": "https://localhost:8080/"
        },
        "id": "yIH6yz2tAGmO",
        "outputId": "3693096f-10d4-46ff-bc36-086887e33c68"
      },
      "execution_count": 86,
      "outputs": [
        {
          "output_type": "stream",
          "name": "stdout",
          "text": [
            "Epoch 1/15\n",
            "1425/1425 [==============================] - 47s 33ms/step - loss: 2.8061 - accuracy: 0.1753 - val_loss: 2.6985 - val_accuracy: 0.2065\n",
            "Epoch 2/15\n",
            "1425/1425 [==============================] - 46s 33ms/step - loss: 2.6162 - accuracy: 0.2343 - val_loss: 2.5868 - val_accuracy: 0.2406\n",
            "Epoch 3/15\n",
            "1425/1425 [==============================] - 44s 31ms/step - loss: 2.5410 - accuracy: 0.2542 - val_loss: 2.5223 - val_accuracy: 0.2537\n",
            "Epoch 4/15\n",
            "1425/1425 [==============================] - 45s 31ms/step - loss: 2.4690 - accuracy: 0.2790 - val_loss: 2.4392 - val_accuracy: 0.2876\n",
            "Epoch 5/15\n",
            "1425/1425 [==============================] - 44s 31ms/step - loss: 2.3884 - accuracy: 0.2966 - val_loss: 2.3859 - val_accuracy: 0.2942\n",
            "Epoch 6/15\n",
            "1425/1425 [==============================] - 44s 31ms/step - loss: 2.3439 - accuracy: 0.3106 - val_loss: 2.3836 - val_accuracy: 0.3042\n",
            "Epoch 7/15\n",
            "1425/1425 [==============================] - 45s 31ms/step - loss: 2.2999 - accuracy: 0.3202 - val_loss: 2.3333 - val_accuracy: 0.3159\n",
            "Epoch 8/15\n",
            "1425/1425 [==============================] - 45s 31ms/step - loss: 2.2636 - accuracy: 0.3277 - val_loss: 2.3265 - val_accuracy: 0.3148\n",
            "Epoch 9/15\n",
            "1425/1425 [==============================] - 45s 31ms/step - loss: 2.2445 - accuracy: 0.3304 - val_loss: 2.3129 - val_accuracy: 0.3146\n",
            "Epoch 10/15\n",
            "1425/1425 [==============================] - 45s 31ms/step - loss: 2.2184 - accuracy: 0.3382 - val_loss: 2.3259 - val_accuracy: 0.3126\n",
            "Epoch 11/15\n",
            "1425/1425 [==============================] - 45s 31ms/step - loss: 2.2004 - accuracy: 0.3377 - val_loss: 2.2971 - val_accuracy: 0.3116\n",
            "Epoch 12/15\n",
            "1425/1425 [==============================] - 45s 31ms/step - loss: 2.1723 - accuracy: 0.3429 - val_loss: 2.2887 - val_accuracy: 0.3143\n",
            "Epoch 13/15\n",
            "1425/1425 [==============================] - 44s 31ms/step - loss: 2.1642 - accuracy: 0.3484 - val_loss: 2.2808 - val_accuracy: 0.3117\n",
            "Epoch 14/15\n",
            "1425/1425 [==============================] - 48s 34ms/step - loss: 2.1453 - accuracy: 0.3483 - val_loss: 2.2658 - val_accuracy: 0.3160\n",
            "Epoch 15/15\n",
            "1425/1425 [==============================] - 46s 32ms/step - loss: 2.1268 - accuracy: 0.3538 - val_loss: 2.2593 - val_accuracy: 0.3160\n"
          ]
        }
      ]
    },
    {
      "cell_type": "markdown",
      "source": [
        "### Evaluation"
      ],
      "metadata": {
        "id": "Z5gqrBRuBWAL"
      }
    },
    {
      "cell_type": "code",
      "source": [
        "plot_history([('FinalModel', Fhistory)])"
      ],
      "metadata": {
        "colab": {
          "base_uri": "https://localhost:8080/",
          "height": 606
        },
        "id": "g48Cd365BXQN",
        "outputId": "0d127b9d-9a1e-4ac9-b740-600eef78e348"
      },
      "execution_count": 88,
      "outputs": [
        {
          "output_type": "display_data",
          "data": {
            "text/plain": [
              "<Figure size 1152x720 with 1 Axes>"
            ],
            "image/png": "[encoded data removed]"
          },
          "metadata": {
            "needs_background": "light"
          }
        }
      ]
    },
    {
      "cell_type": "code",
      "source": [
        "eval_result = FModel.evaluate(x_Ftest,y_Ftest)"
      ],
      "metadata": {
        "colab": {
          "base_uri": "https://localhost:8080/"
        },
        "id": "f1BtNNV1DiA1",
        "outputId": "77d82ad6-ed4c-4a48-830a-7ba709a6f911"
      },
      "execution_count": 89,
      "outputs": [
        {
          "output_type": "stream",
          "name": "stdout",
          "text": [
            "357/357 [==============================] - 4s 11ms/step - loss: 2.2593 - accuracy: 0.3160\n"
          ]
        }
      ]
    },
    {
      "cell_type": "markdown",
      "source": [
        "The accuracy is better than with the smaller dataset, we achieved over 0,31 which seems quite good compared to the maximum of 0,27 that we got earlier.<br>\n",
        "\n",
        "---\n",
        "### Conclusion\n",
        "We can conclude that getting good accuracy with this kind of model is quite hard and we could try to get better accuracy by implementing more complicated models such as a TCN or a CNN-Gru. In this TP we learned how to tweak our model and reduce over and under-fitting. We also got a hang of the keras tuner which can be a really good asset to simplify hyper-parameters tuning. "
      ],
      "metadata": {
        "id": "QcdGGqJxD7xl"
      }
    }
  ],
  "metadata": {
    "accelerator": "GPU",
    "colab": {
      "collapsed_sections": [
        "6nuMcQu1h3Q6",
        "v5p63tlBid5M",
        "SP58DTZtqnoz",
        "ovJ3iSwbrIjl",
        "W2vsp_x2rZWF",
        "c5avGdjfwWXS",
        "lqckRbWe5fs3",
        "QXFwErsjvV9U",
        "72uIYV1KqYWB",
        "qh9DzYQX36h_",
        "Xur4TabkxhtT",
        "gfemUpcBaa_r",
        "XFBnMGA_vY7_",
        "0C2PVUCFAjii",
        "ZZmZvsgmcQAX",
        "9wzSAGjIen-E",
        "DlRQqyy_eu74",
        "a9q5KQmpfA1W",
        "YJgbg7AsgxYL",
        "SGTWx3bUuHLR"
      ],
      "name": "AI_TP3_4.ipynb",
      "provenance": []
    },
    "kernelspec": {
      "display_name": "Python 3",
      "name": "python3"
    },
    "language_info": {
      "name": "python"
    }
  },
  "nbformat": 4,
  "nbformat_minor": 0
}